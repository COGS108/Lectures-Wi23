{
 "cells": [
  {
   "cell_type": "markdown",
   "metadata": {
    "slideshow": {
     "slide_type": "slide"
    }
   },
   "source": [
    "[![Open In Colab](https://colab.research.google.com/assets/colab-badge.svg)](https://colab.research.google.com/github/COGS108/Lectures-Sp22/blob/master/06_text/06_03b_text.ipynb)\n",
    "\n",
    "# Text Analysis\n",
    "\n",
    "- **Sentiment Analysis**\n",
    "    - tokenization\n",
    "    - stop words\n",
    "    - stemming\n",
    "- **TF-IDF**\n",
    "    - Bag of Words\n",
    "    - term frequency\n",
    "    - inverse document frequency\n",
    "- Tools: `nltk`"
   ]
  },
  {
   "cell_type": "code",
   "execution_count": 2,
   "metadata": {
    "slideshow": {
     "slide_type": "slide"
    }
   },
   "outputs": [
    {
     "name": "stderr",
     "output_type": "stream",
     "text": [
      "[nltk_data] Downloading package stopwords to\n",
      "[nltk_data]     /Users/jasonfleischer/nltk_data...\n",
      "[nltk_data]   Package stopwords is already up-to-date!\n",
      "[nltk_data] Downloading package punkt to\n",
      "[nltk_data]     /Users/jasonfleischer/nltk_data...\n",
      "[nltk_data]   Package punkt is already up-to-date!\n"
     ]
    },
    {
     "data": {
      "text/plain": [
       "True"
      ]
     },
     "execution_count": 2,
     "metadata": {},
     "output_type": "execute_result"
    }
   ],
   "source": [
    "# pandas and matplotlib setup\n",
    "import pandas as pd\n",
    "\n",
    "import matplotlib.pyplot as plt\n",
    "plt.rcParams['figure.figsize'] = (17, 7)\n",
    "plt.rcParams.update({'font.size': 14})\n",
    "import seaborn as sns\n",
    "\n",
    "#improve resolution\n",
    "#comment this line if erroring on your machine/screen\n",
    "%config InlineBackend.figure_format ='retina'\n",
    "\n",
    "import warnings\n",
    "warnings.filterwarnings('ignore')\n",
    "\n",
    "#import natural language toolkit\n",
    "import nltk\n",
    "\n",
    "# download stopwords & punkt\n",
    "nltk.download('stopwords')\n",
    "nltk.download('punkt')"
   ]
  },
  {
   "cell_type": "markdown",
   "metadata": {
    "slideshow": {
     "slide_type": "slide"
    }
   },
   "source": [
    "#### Reminder: **Natural Language Processing** is a whole field of study.\n",
    "\n",
    "Like most topics in this course, there are many courses solely focused on the appropriate analysis of text. We'll cover the general concepts in this course, but know you're missing lots of important details."
   ]
  },
  {
   "cell_type": "markdown",
   "metadata": {
    "slideshow": {
     "slide_type": "slide"
    }
   },
   "source": [
    "## Natural Language Toolkit (`nltk`)\n",
    "\n",
    "For more details on using the functionality within this package, check out the [NLTK Book](http://www.nltk.org/book/).\n",
    "\n",
    "0. Preface\n",
    "1. Language Processing and Python\n",
    "2. Accessing Text Corpora and Lexical Resources\n",
    "3. Processing Raw Text\n",
    "4. Writing Structured Programs\n",
    "5. Categorizing and Tagging Words \n",
    "6. Learning to Classify Text\n",
    "7. Extracting Information from Text\n",
    "8. Analyzing Sentence Structure\n",
    "9. Building Feature Based Grammars\n",
    "10. Analyzing the Meaning of Sentences \n",
    "11. Managing Linguistic Data\n",
    "12. Afterword: Facing the Language Challenge"
   ]
  },
  {
   "cell_type": "markdown",
   "metadata": {
    "slideshow": {
     "slide_type": "fragment"
    }
   },
   "source": [
    "[VADER](https://github.com/cjhutto/vaderSentiment) is a particularly helpful tool/lexicon when working with sentiments expressed in social media (tweets, online reviews, etc.)\n",
    "\n",
    "Its functionality is available through `nltk`, so we'll download the vader lexicon for use later in this notebook."
   ]
  },
  {
   "cell_type": "code",
   "execution_count": 2,
   "metadata": {
    "slideshow": {
     "slide_type": "fragment"
    }
   },
   "outputs": [
    {
     "name": "stderr",
     "output_type": "stream",
     "text": [
      "[nltk_data] Downloading package vader_lexicon to\n",
      "[nltk_data]     /Users/jasonfleischer/nltk_data...\n",
      "[nltk_data]   Package vader_lexicon is already up-to-date!\n"
     ]
    },
    {
     "data": {
      "text/plain": [
       "True"
      ]
     },
     "execution_count": 2,
     "metadata": {},
     "output_type": "execute_result"
    }
   ],
   "source": [
    "# get lexicon we'll be working with today\n",
    "nltk.download('vader_lexicon') "
   ]
  },
  {
   "cell_type": "markdown",
   "metadata": {
    "slideshow": {
     "slide_type": "slide"
    }
   },
   "source": [
    "## The Data"
   ]
  },
  {
   "cell_type": "code",
   "execution_count": 3,
   "metadata": {
    "slideshow": {
     "slide_type": "-"
    }
   },
   "outputs": [
    {
     "data": {
      "text/html": [
       "<div>\n",
       "<style scoped>\n",
       "    .dataframe tbody tr th:only-of-type {\n",
       "        vertical-align: middle;\n",
       "    }\n",
       "\n",
       "    .dataframe tbody tr th {\n",
       "        vertical-align: top;\n",
       "    }\n",
       "\n",
       "    .dataframe thead th {\n",
       "        text-align: right;\n",
       "    }\n",
       "</style>\n",
       "<table border=\"1\" class=\"dataframe\">\n",
       "  <thead>\n",
       "    <tr style=\"text-align: right;\">\n",
       "      <th></th>\n",
       "      <th>enjoyed_most</th>\n",
       "      <th>enjoyed_least</th>\n",
       "    </tr>\n",
       "  </thead>\n",
       "  <tbody>\n",
       "    <tr>\n",
       "      <th>0</th>\n",
       "      <td>I enjoy about learning python. I think learnin...</td>\n",
       "      <td>I really did not enjoy learning ethnic part. A...</td>\n",
       "    </tr>\n",
       "    <tr>\n",
       "      <th>1</th>\n",
       "      <td>Mainly being able to explore the field of data...</td>\n",
       "      <td>Since I have to say something I guess it'll be...</td>\n",
       "    </tr>\n",
       "    <tr>\n",
       "      <th>2</th>\n",
       "      <td>Coding is funny</td>\n",
       "      <td>PDF lecture notes should be put on Canvas</td>\n",
       "    </tr>\n",
       "    <tr>\n",
       "      <th>3</th>\n",
       "      <td>I enjoy the ease of access to assignments, for...</td>\n",
       "      <td>At first, I felt that the Data Ethics or Data ...</td>\n",
       "    </tr>\n",
       "    <tr>\n",
       "      <th>4</th>\n",
       "      <td>Learning pandas and plots</td>\n",
       "      <td>final project</td>\n",
       "    </tr>\n",
       "    <tr>\n",
       "      <th>5</th>\n",
       "      <td>Coding is funny</td>\n",
       "      <td>PDF lecture notes should be put on Canvas</td>\n",
       "    </tr>\n",
       "  </tbody>\n",
       "</table>\n",
       "</div>"
      ],
      "text/plain": [
       "                                        enjoyed_most  \\\n",
       "0  I enjoy about learning python. I think learnin...   \n",
       "1  Mainly being able to explore the field of data...   \n",
       "2                                    Coding is funny   \n",
       "3  I enjoy the ease of access to assignments, for...   \n",
       "4                          Learning pandas and plots   \n",
       "5                                    Coding is funny   \n",
       "\n",
       "                                       enjoyed_least  \n",
       "0  I really did not enjoy learning ethnic part. A...  \n",
       "1  Since I have to say something I guess it'll be...  \n",
       "2          PDF lecture notes should be put on Canvas  \n",
       "3  At first, I felt that the Data Ethics or Data ...  \n",
       "4                                      final project  \n",
       "5          PDF lecture notes should be put on Canvas  "
      ]
     },
     "execution_count": 3,
     "metadata": {},
     "output_type": "execute_result"
    }
   ],
   "source": [
    "df_wi21 = pd.read_csv('https://raw.githubusercontent.com/shanellis/datasets/master/COGS108_feedback_Wi21.csv')\n",
    "df_wi21.head(6)"
   ]
  },
  {
   "cell_type": "code",
   "execution_count": 4,
   "metadata": {
    "slideshow": {
     "slide_type": "fragment"
    }
   },
   "outputs": [
    {
     "data": {
      "text/html": [
       "<div>\n",
       "<style scoped>\n",
       "    .dataframe tbody tr th:only-of-type {\n",
       "        vertical-align: middle;\n",
       "    }\n",
       "\n",
       "    .dataframe tbody tr th {\n",
       "        vertical-align: top;\n",
       "    }\n",
       "\n",
       "    .dataframe thead th {\n",
       "        text-align: right;\n",
       "    }\n",
       "</style>\n",
       "<table border=\"1\" class=\"dataframe\">\n",
       "  <thead>\n",
       "    <tr style=\"text-align: right;\">\n",
       "      <th></th>\n",
       "      <th>enjoyed_most</th>\n",
       "      <th>enjoyed_least</th>\n",
       "      <th>quiz_number</th>\n",
       "      <th>quiz_questions</th>\n",
       "      <th>a1</th>\n",
       "      <th>a2</th>\n",
       "      <th>proposal</th>\n",
       "    </tr>\n",
       "  </thead>\n",
       "  <tbody>\n",
       "    <tr>\n",
       "      <th>0</th>\n",
       "      <td>Final project , l always wanted to analyze dat...</td>\n",
       "      <td>Assignment is kind of difficult to me. I never...</td>\n",
       "      <td>The number we've had is about right.</td>\n",
       "      <td>I wish they were more straight from the notes/...</td>\n",
       "      <td>5.0</td>\n",
       "      <td>12.0</td>\n",
       "      <td>3.0</td>\n",
       "    </tr>\n",
       "    <tr>\n",
       "      <th>1</th>\n",
       "      <td>I liked learning about Python and Jupyter Note...</td>\n",
       "      <td>Honestly, I am not a huge fan of remote learni...</td>\n",
       "      <td>The number we've had is about right.</td>\n",
       "      <td>I think they've been fine generally and would ...</td>\n",
       "      <td>2.0</td>\n",
       "      <td>3.0</td>\n",
       "      <td>7.0</td>\n",
       "    </tr>\n",
       "    <tr>\n",
       "      <th>2</th>\n",
       "      <td>The group project since I could work with my t...</td>\n",
       "      <td>I'm not familiar with python and panda.</td>\n",
       "      <td>The number we've had is about right.</td>\n",
       "      <td>I wish they were more straight from the notes/...</td>\n",
       "      <td>2.0</td>\n",
       "      <td>3.0</td>\n",
       "      <td>5.0</td>\n",
       "    </tr>\n",
       "    <tr>\n",
       "      <th>3</th>\n",
       "      <td>I really like the lectures were separated into...</td>\n",
       "      <td>hmmm I feel like I am a little bit lost on how...</td>\n",
       "      <td>The number we've had is about right.</td>\n",
       "      <td>I wish they were more straight from the notes/...</td>\n",
       "      <td>2.0</td>\n",
       "      <td>3.0</td>\n",
       "      <td>5.0</td>\n",
       "    </tr>\n",
       "    <tr>\n",
       "      <th>4</th>\n",
       "      <td>I've been really enjoying the assignments. The...</td>\n",
       "      <td>Nothing really so far. It's been nice.</td>\n",
       "      <td>The number we've had is about right.</td>\n",
       "      <td>I wish they were more straight from the notes/...</td>\n",
       "      <td>2.0</td>\n",
       "      <td>3.0</td>\n",
       "      <td>2.0</td>\n",
       "    </tr>\n",
       "    <tr>\n",
       "      <th>5</th>\n",
       "      <td>The lectures are not boring like other classes.</td>\n",
       "      <td>On the homework’s I have to consistently strug...</td>\n",
       "      <td>There should be a way less.</td>\n",
       "      <td>I wish they were more straight from the notes/...</td>\n",
       "      <td>7.0</td>\n",
       "      <td>5.0</td>\n",
       "      <td>2.0</td>\n",
       "    </tr>\n",
       "  </tbody>\n",
       "</table>\n",
       "</div>"
      ],
      "text/plain": [
       "                                        enjoyed_most  \\\n",
       "0  Final project , l always wanted to analyze dat...   \n",
       "1  I liked learning about Python and Jupyter Note...   \n",
       "2  The group project since I could work with my t...   \n",
       "3  I really like the lectures were separated into...   \n",
       "4  I've been really enjoying the assignments. The...   \n",
       "5    The lectures are not boring like other classes.   \n",
       "\n",
       "                                       enjoyed_least  \\\n",
       "0  Assignment is kind of difficult to me. I never...   \n",
       "1  Honestly, I am not a huge fan of remote learni...   \n",
       "2            I'm not familiar with python and panda.   \n",
       "3  hmmm I feel like I am a little bit lost on how...   \n",
       "4             Nothing really so far. It's been nice.   \n",
       "5  On the homework’s I have to consistently strug...   \n",
       "\n",
       "                            quiz_number  \\\n",
       "0  The number we've had is about right.   \n",
       "1  The number we've had is about right.   \n",
       "2  The number we've had is about right.   \n",
       "3  The number we've had is about right.   \n",
       "4  The number we've had is about right.   \n",
       "5           There should be a way less.   \n",
       "\n",
       "                                      quiz_questions   a1    a2  proposal  \n",
       "0  I wish they were more straight from the notes/...  5.0  12.0       3.0  \n",
       "1  I think they've been fine generally and would ...  2.0   3.0       7.0  \n",
       "2  I wish they were more straight from the notes/...  2.0   3.0       5.0  \n",
       "3  I wish they were more straight from the notes/...  2.0   3.0       5.0  \n",
       "4  I wish they were more straight from the notes/...  2.0   3.0       2.0  \n",
       "5  I wish they were more straight from the notes/...  7.0   5.0       2.0  "
      ]
     },
     "execution_count": 4,
     "metadata": {},
     "output_type": "execute_result"
    }
   ],
   "source": [
    "# read in feedback dataset - Fall 2020\n",
    "df_fa20 = pd.read_csv('https://raw.githubusercontent.com/shanellis/datasets/master/COGS108_feedback_Fa20.csv')\n",
    "df_fa20.head(6)"
   ]
  },
  {
   "cell_type": "code",
   "execution_count": 5,
   "metadata": {
    "slideshow": {
     "slide_type": "-"
    }
   },
   "outputs": [
    {
     "data": {
      "text/html": [
       "<div>\n",
       "<style scoped>\n",
       "    .dataframe tbody tr th:only-of-type {\n",
       "        vertical-align: middle;\n",
       "    }\n",
       "\n",
       "    .dataframe tbody tr th {\n",
       "        vertical-align: top;\n",
       "    }\n",
       "\n",
       "    .dataframe thead th {\n",
       "        text-align: right;\n",
       "    }\n",
       "</style>\n",
       "<table border=\"1\" class=\"dataframe\">\n",
       "  <thead>\n",
       "    <tr style=\"text-align: right;\">\n",
       "      <th></th>\n",
       "      <th>enjoyed_most</th>\n",
       "      <th>enjoyed_least</th>\n",
       "      <th>difficulty</th>\n",
       "      <th>time_spent</th>\n",
       "      <th>a1</th>\n",
       "      <th>proposal</th>\n",
       "    </tr>\n",
       "  </thead>\n",
       "  <tbody>\n",
       "    <tr>\n",
       "      <th>0</th>\n",
       "      <td>Learning Pandas, manipulating data is fun</td>\n",
       "      <td>Quizzes aren't helpful</td>\n",
       "      <td>about as difficult</td>\n",
       "      <td>about the same</td>\n",
       "      <td>3.0</td>\n",
       "      <td>3.0</td>\n",
       "    </tr>\n",
       "    <tr>\n",
       "      <th>1</th>\n",
       "      <td>The concept of this class</td>\n",
       "      <td>NaN</td>\n",
       "      <td>about as difficult</td>\n",
       "      <td>about the same</td>\n",
       "      <td>4.0</td>\n",
       "      <td>4.0</td>\n",
       "    </tr>\n",
       "    <tr>\n",
       "      <th>2</th>\n",
       "      <td>No midterms</td>\n",
       "      <td>Coding aspect</td>\n",
       "      <td>somewhat easier</td>\n",
       "      <td>about the same</td>\n",
       "      <td>6.0</td>\n",
       "      <td>6.0</td>\n",
       "    </tr>\n",
       "    <tr>\n",
       "      <th>3</th>\n",
       "      <td>the project</td>\n",
       "      <td>NaN</td>\n",
       "      <td>somewhat easier</td>\n",
       "      <td>somewhat less</td>\n",
       "      <td>1.0</td>\n",
       "      <td>3.0</td>\n",
       "    </tr>\n",
       "    <tr>\n",
       "      <th>4</th>\n",
       "      <td>Finding an interesting topic and researching m...</td>\n",
       "      <td>NaN</td>\n",
       "      <td>about as difficult</td>\n",
       "      <td>about the same</td>\n",
       "      <td>1.0</td>\n",
       "      <td>5.0</td>\n",
       "    </tr>\n",
       "    <tr>\n",
       "      <th>5</th>\n",
       "      <td>Looking up stuff for the project proposal</td>\n",
       "      <td>NaN</td>\n",
       "      <td>about as difficult</td>\n",
       "      <td>about the same</td>\n",
       "      <td>2.0</td>\n",
       "      <td>4.0</td>\n",
       "    </tr>\n",
       "  </tbody>\n",
       "</table>\n",
       "</div>"
      ],
      "text/plain": [
       "                                        enjoyed_most           enjoyed_least  \\\n",
       "0          Learning Pandas, manipulating data is fun  Quizzes aren't helpful   \n",
       "1                          The concept of this class                     NaN   \n",
       "2                                        No midterms           Coding aspect   \n",
       "3                                        the project                     NaN   \n",
       "4  Finding an interesting topic and researching m...                     NaN   \n",
       "5          Looking up stuff for the project proposal                     NaN   \n",
       "\n",
       "           difficulty      time_spent   a1  proposal  \n",
       "0  about as difficult  about the same  3.0       3.0  \n",
       "1  about as difficult  about the same  4.0       4.0  \n",
       "2     somewhat easier  about the same  6.0       6.0  \n",
       "3     somewhat easier   somewhat less  1.0       3.0  \n",
       "4  about as difficult  about the same  1.0       5.0  \n",
       "5  about as difficult  about the same  2.0       4.0  "
      ]
     },
     "execution_count": 5,
     "metadata": {},
     "output_type": "execute_result"
    }
   ],
   "source": [
    "# read in feedback dataset - Spring 2020\n",
    "df_sp20 = pd.read_csv('https://raw.githubusercontent.com/shanellis/datasets/master/COGS108_feedback_Sp20.csv')\n",
    "df_sp20.head(6)"
   ]
  },
  {
   "cell_type": "code",
   "execution_count": 6,
   "metadata": {
    "scrolled": false,
    "slideshow": {
     "slide_type": "-"
    }
   },
   "outputs": [
    {
     "data": {
      "text/html": [
       "<div>\n",
       "<style scoped>\n",
       "    .dataframe tbody tr th:only-of-type {\n",
       "        vertical-align: middle;\n",
       "    }\n",
       "\n",
       "    .dataframe tbody tr th {\n",
       "        vertical-align: top;\n",
       "    }\n",
       "\n",
       "    .dataframe thead th {\n",
       "        text-align: right;\n",
       "    }\n",
       "</style>\n",
       "<table border=\"1\" class=\"dataframe\">\n",
       "  <thead>\n",
       "    <tr style=\"text-align: right;\">\n",
       "      <th></th>\n",
       "      <th>enjoyed_most</th>\n",
       "      <th>enjoyed_least</th>\n",
       "      <th>difficulty</th>\n",
       "      <th>time_spent</th>\n",
       "      <th>a1</th>\n",
       "      <th>a2</th>\n",
       "      <th>a3</th>\n",
       "    </tr>\n",
       "  </thead>\n",
       "  <tbody>\n",
       "    <tr>\n",
       "      <th>0</th>\n",
       "      <td>Guest Lectures</td>\n",
       "      <td>NaN</td>\n",
       "      <td>about as difficult</td>\n",
       "      <td>about the same</td>\n",
       "      <td>1.0</td>\n",
       "      <td>2.0</td>\n",
       "      <td>4.0</td>\n",
       "    </tr>\n",
       "    <tr>\n",
       "      <th>1</th>\n",
       "      <td>Guest speakers, they were very interesting and...</td>\n",
       "      <td>Nothing</td>\n",
       "      <td>somewhat easier</td>\n",
       "      <td>about the same</td>\n",
       "      <td>1.0</td>\n",
       "      <td>2.0</td>\n",
       "      <td>3.0</td>\n",
       "    </tr>\n",
       "    <tr>\n",
       "      <th>2</th>\n",
       "      <td>NaN</td>\n",
       "      <td>NaN</td>\n",
       "      <td>somewhat easier</td>\n",
       "      <td>somewhat less</td>\n",
       "      <td>3.0</td>\n",
       "      <td>3.0</td>\n",
       "      <td>4.0</td>\n",
       "    </tr>\n",
       "    <tr>\n",
       "      <th>3</th>\n",
       "      <td>NaN</td>\n",
       "      <td>NaN</td>\n",
       "      <td>somewhat easier</td>\n",
       "      <td>somewhat less</td>\n",
       "      <td>0.5</td>\n",
       "      <td>1.0</td>\n",
       "      <td>1.5</td>\n",
       "    </tr>\n",
       "    <tr>\n",
       "      <th>4</th>\n",
       "      <td>The discussion is clear and TA is nice.</td>\n",
       "      <td>Some grading for assignments requires regrade ...</td>\n",
       "      <td>way easier</td>\n",
       "      <td>way less</td>\n",
       "      <td>0.5</td>\n",
       "      <td>0.5</td>\n",
       "      <td>0.5</td>\n",
       "    </tr>\n",
       "    <tr>\n",
       "      <th>5</th>\n",
       "      <td>Group collaboration</td>\n",
       "      <td>Not much programming direction</td>\n",
       "      <td>about as difficult</td>\n",
       "      <td>about the same</td>\n",
       "      <td>3.0</td>\n",
       "      <td>4.0</td>\n",
       "      <td>8.0</td>\n",
       "    </tr>\n",
       "  </tbody>\n",
       "</table>\n",
       "</div>"
      ],
      "text/plain": [
       "                                        enjoyed_most  \\\n",
       "0                                     Guest Lectures   \n",
       "1  Guest speakers, they were very interesting and...   \n",
       "2                                                NaN   \n",
       "3                                                NaN   \n",
       "4           The discussion is clear and TA is nice.    \n",
       "5                                Group collaboration   \n",
       "\n",
       "                                       enjoyed_least          difficulty  \\\n",
       "0                                                NaN  about as difficult   \n",
       "1                                            Nothing     somewhat easier   \n",
       "2                                                NaN     somewhat easier   \n",
       "3                                                NaN     somewhat easier   \n",
       "4  Some grading for assignments requires regrade ...          way easier   \n",
       "5                     Not much programming direction  about as difficult   \n",
       "\n",
       "        time_spent   a1   a2   a3  \n",
       "0  about the same   1.0  2.0  4.0  \n",
       "1  about the same   1.0  2.0  3.0  \n",
       "2   somewhat less   3.0  3.0  4.0  \n",
       "3   somewhat less   0.5  1.0  1.5  \n",
       "4        way less   0.5  0.5  0.5  \n",
       "5  about the same   3.0  4.0  8.0  "
      ]
     },
     "execution_count": 6,
     "metadata": {},
     "output_type": "execute_result"
    }
   ],
   "source": [
    "# read in feedback dataset - Winter 2020\n",
    "df_wi20 = pd.read_csv('https://raw.githubusercontent.com/shanellis/datasets/master/COGS108_feedback_Wi20.csv')\n",
    "df_wi20.head(6)"
   ]
  },
  {
   "cell_type": "code",
   "execution_count": 7,
   "metadata": {
    "scrolled": true,
    "slideshow": {
     "slide_type": "-"
    }
   },
   "outputs": [
    {
     "data": {
      "text/html": [
       "<div>\n",
       "<style scoped>\n",
       "    .dataframe tbody tr th:only-of-type {\n",
       "        vertical-align: middle;\n",
       "    }\n",
       "\n",
       "    .dataframe tbody tr th {\n",
       "        vertical-align: top;\n",
       "    }\n",
       "\n",
       "    .dataframe thead th {\n",
       "        text-align: right;\n",
       "    }\n",
       "</style>\n",
       "<table border=\"1\" class=\"dataframe\">\n",
       "  <thead>\n",
       "    <tr style=\"text-align: right;\">\n",
       "      <th></th>\n",
       "      <th>enjoyed_most</th>\n",
       "      <th>enjoyed_least</th>\n",
       "      <th>difficulty</th>\n",
       "      <th>time_spent</th>\n",
       "      <th>section_attendance</th>\n",
       "      <th>helpful_materials</th>\n",
       "    </tr>\n",
       "  </thead>\n",
       "  <tbody>\n",
       "    <tr>\n",
       "      <th>0</th>\n",
       "      <td>No tests, project based class, optional lectur...</td>\n",
       "      <td>Group projects can be rough, especially the be...</td>\n",
       "      <td>somewhat more difficult</td>\n",
       "      <td>way more</td>\n",
       "      <td>almost every week</td>\n",
       "      <td>Lecture, Assignments</td>\n",
       "    </tr>\n",
       "    <tr>\n",
       "      <th>1</th>\n",
       "      <td>I enjoy learning how to use pandas through the...</td>\n",
       "      <td>NaN</td>\n",
       "      <td>somewhat easier</td>\n",
       "      <td>about the same</td>\n",
       "      <td>attend occasionally</td>\n",
       "      <td>Assignments, Group Project</td>\n",
       "    </tr>\n",
       "    <tr>\n",
       "      <th>2</th>\n",
       "      <td>No attendance</td>\n",
       "      <td>NaN</td>\n",
       "      <td>about as difficult</td>\n",
       "      <td>about the same</td>\n",
       "      <td>attend occasionally</td>\n",
       "      <td>Assignments, Piazza</td>\n",
       "    </tr>\n",
       "    <tr>\n",
       "      <th>3</th>\n",
       "      <td>Topics about how to handle several Python tools</td>\n",
       "      <td>nothing special</td>\n",
       "      <td>somewhat easier</td>\n",
       "      <td>about the same</td>\n",
       "      <td>attend occasionally</td>\n",
       "      <td>Section - Workbooks, Assignments</td>\n",
       "    </tr>\n",
       "    <tr>\n",
       "      <th>4</th>\n",
       "      <td>I like the assignments. They're fun and have a...</td>\n",
       "      <td>Nothing!</td>\n",
       "      <td>somewhat easier</td>\n",
       "      <td>about the same</td>\n",
       "      <td>do not attend</td>\n",
       "      <td>Assignments, Group Project, Piazza</td>\n",
       "    </tr>\n",
       "    <tr>\n",
       "      <th>5</th>\n",
       "      <td>NaN</td>\n",
       "      <td>NaN</td>\n",
       "      <td>about as difficult</td>\n",
       "      <td>about the same</td>\n",
       "      <td>attend occasionally</td>\n",
       "      <td>Lecture, Section - Workbooks, Assignments, Gro...</td>\n",
       "    </tr>\n",
       "  </tbody>\n",
       "</table>\n",
       "</div>"
      ],
      "text/plain": [
       "                                        enjoyed_most  \\\n",
       "0  No tests, project based class, optional lectur...   \n",
       "1  I enjoy learning how to use pandas through the...   \n",
       "2                                      No attendance   \n",
       "3    Topics about how to handle several Python tools   \n",
       "4  I like the assignments. They're fun and have a...   \n",
       "5                                                NaN   \n",
       "\n",
       "                                       enjoyed_least               difficulty  \\\n",
       "0  Group projects can be rough, especially the be...  somewhat more difficult   \n",
       "1                                                NaN          somewhat easier   \n",
       "2                                                NaN       about as difficult   \n",
       "3                                   nothing special           somewhat easier   \n",
       "4                                           Nothing!          somewhat easier   \n",
       "5                                                NaN       about as difficult   \n",
       "\n",
       "       time_spent   section_attendance  \\\n",
       "0        way more    almost every week   \n",
       "1  about the same  attend occasionally   \n",
       "2  about the same  attend occasionally   \n",
       "3  about the same  attend occasionally   \n",
       "4  about the same        do not attend   \n",
       "5  about the same  attend occasionally   \n",
       "\n",
       "                                   helpful_materials  \n",
       "0                               Lecture, Assignments  \n",
       "1                         Assignments, Group Project  \n",
       "2                                Assignments, Piazza  \n",
       "3                   Section - Workbooks, Assignments  \n",
       "4                 Assignments, Group Project, Piazza  \n",
       "5  Lecture, Section - Workbooks, Assignments, Gro...  "
      ]
     },
     "execution_count": 7,
     "metadata": {},
     "output_type": "execute_result"
    }
   ],
   "source": [
    "# read in feedback dataset - Spring 2019\n",
    "df_sp19 = pd.read_csv('https://raw.githubusercontent.com/shanellis/datasets/master/COGS108_feedback_Sp19.csv')\n",
    "df_sp19.head(6)"
   ]
  },
  {
   "cell_type": "markdown",
   "metadata": {
    "slideshow": {
     "slide_type": "slide"
    }
   },
   "source": [
    "## Describe & Explore\n",
    "\n",
    "We'll quickly describe and explore the data to see what information we have before moving on to Text Analysis."
   ]
  },
  {
   "cell_type": "markdown",
   "metadata": {
    "slideshow": {
     "slide_type": "fragment"
    }
   },
   "source": [
    "### Data Considerations\n",
    "\n",
    "- duplicate responses?\n",
    "- PIDs for individuals in the class (typos?)\n",
    "- missingness?\n",
    "- reflect reality?"
   ]
  },
  {
   "cell_type": "code",
   "execution_count": 8,
   "metadata": {
    "slideshow": {
     "slide_type": "fragment"
    }
   },
   "outputs": [
    {
     "name": "stdout",
     "output_type": "stream",
     "text": [
      "(314, 2) (321, 7) (384, 6) (295, 7) (397, 6)\n"
     ]
    }
   ],
   "source": [
    "# information about rows and columns\n",
    "print(df_wi21.shape, df_fa20.shape, df_sp19.shape, df_wi20.shape, df_sp20.shape)"
   ]
  },
  {
   "cell_type": "markdown",
   "metadata": {
    "slideshow": {
     "slide_type": "fragment"
    }
   },
   "source": [
    "Note: Response Rates\n",
    "- Spring 2019: 384/826 (46%)\n",
    "- Winter 2020: 295/444 (66%)\n",
    "- Spring 2020: 397/475 (84%)\n",
    "- Fall 2020: 321/447 (72%)\n",
    "- Winter 2021: 314/438 (72%)"
   ]
  },
  {
   "cell_type": "markdown",
   "metadata": {
    "slideshow": {
     "slide_type": "slide"
    }
   },
   "source": [
    "### Missingness"
   ]
  },
  {
   "cell_type": "code",
   "execution_count": 9,
   "metadata": {
    "slideshow": {
     "slide_type": "fragment"
    }
   },
   "outputs": [
    {
     "data": {
      "text/plain": [
       "enjoyed_most      0\n",
       "enjoyed_least    10\n",
       "dtype: int64"
      ]
     },
     "execution_count": 9,
     "metadata": {},
     "output_type": "execute_result"
    }
   ],
   "source": [
    "# how many nonresponses\n",
    "df_wi21.isnull().sum()"
   ]
  },
  {
   "cell_type": "code",
   "execution_count": 10,
   "metadata": {
    "slideshow": {
     "slide_type": "fragment"
    }
   },
   "outputs": [
    {
     "data": {
      "text/plain": [
       "enjoyed_most      27\n",
       "enjoyed_least     54\n",
       "quiz_number        0\n",
       "quiz_questions     0\n",
       "a1                 0\n",
       "a2                 0\n",
       "proposal           0\n",
       "dtype: int64"
      ]
     },
     "execution_count": 10,
     "metadata": {},
     "output_type": "execute_result"
    }
   ],
   "source": [
    "# how many nonresponses\n",
    "df_fa20.isnull().sum()"
   ]
  },
  {
   "cell_type": "code",
   "execution_count": 11,
   "metadata": {
    "scrolled": true,
    "slideshow": {
     "slide_type": "-"
    }
   },
   "outputs": [
    {
     "data": {
      "text/plain": [
       "enjoyed_most          58\n",
       "enjoyed_least         78\n",
       "difficulty             0\n",
       "time_spent             0\n",
       "section_attendance     8\n",
       "helpful_materials      0\n",
       "dtype: int64"
      ]
     },
     "execution_count": 11,
     "metadata": {},
     "output_type": "execute_result"
    }
   ],
   "source": [
    "# how many nonresponses\n",
    "df_sp19.isnull().sum()"
   ]
  },
  {
   "cell_type": "code",
   "execution_count": 12,
   "metadata": {
    "scrolled": false,
    "slideshow": {
     "slide_type": "-"
    }
   },
   "outputs": [
    {
     "data": {
      "text/plain": [
       "enjoyed_most     33\n",
       "enjoyed_least    64\n",
       "difficulty        0\n",
       "time_spent        0\n",
       "a1                0\n",
       "a2                0\n",
       "a3                0\n",
       "dtype: int64"
      ]
     },
     "execution_count": 12,
     "metadata": {},
     "output_type": "execute_result"
    }
   ],
   "source": [
    "# how many nonresponses\n",
    "df_wi20.isnull().sum()"
   ]
  },
  {
   "cell_type": "code",
   "execution_count": 13,
   "metadata": {
    "slideshow": {
     "slide_type": "-"
    }
   },
   "outputs": [
    {
     "data": {
      "text/plain": [
       "enjoyed_most     23\n",
       "enjoyed_least    56\n",
       "difficulty        0\n",
       "time_spent        0\n",
       "a1                0\n",
       "proposal          0\n",
       "dtype: int64"
      ]
     },
     "execution_count": 13,
     "metadata": {},
     "output_type": "execute_result"
    }
   ],
   "source": [
    "# how many nonresponses\n",
    "df_sp20.isnull().sum()"
   ]
  },
  {
   "cell_type": "markdown",
   "metadata": {
    "slideshow": {
     "slide_type": "fragment"
    }
   },
   "source": [
    "We see that there are more nonresponses in the `enjoyed_least` category than the `enjoyed_most` category. So, more people left what they enjoyed least blank than they did what they enjoyed most."
   ]
  },
  {
   "cell_type": "markdown",
   "metadata": {
    "slideshow": {
     "slide_type": "fragment"
    }
   },
   "source": [
    "#### Previous Quarters\n",
    "\n",
    "Typically, there are a few people who have what they enjoy least but don't have an enjoy most. We don't have any last quarter...but often these students' feedback is of particular interest to me."
   ]
  },
  {
   "cell_type": "code",
   "execution_count": 15,
   "metadata": {},
   "outputs": [
    {
     "data": {
      "text/plain": [
       "['The PAs are a little bit challenging. I feel that lecture videos do not do a sufficient job in  preparing me for the PA',\n",
       " \"Doesn't feel like the hw and lectures are solidly connected\",\n",
       " 'The amount of work, pace of the course, and lack of connection between python notebook and lecture videos/notebooks.',\n",
       " 'The team final project',\n",
       " \"The quizzes. I feel like sometimes the quiz questions are a bit more advanced from lecture, which can be a good thing, but I don't know to expect it right after just watching the lecture.\",\n",
       " 'I have not really enjoyed having to take a quiz after every lecture video. I personally find having to take 7-10 quizzes a week slightly excessive but I do see the value in taking the quizzes. ']"
      ]
     },
     "execution_count": 15,
     "metadata": {},
     "output_type": "execute_result"
    }
   ],
   "source": [
    "# Fall 2020\n",
    "check_least = df_fa20[df_fa20['enjoyed_most'].isnull() & df_fa20['enjoyed_least'].notnull()]\n",
    "list(check_least['enjoyed_least'])"
   ]
  },
  {
   "cell_type": "code",
   "execution_count": 16,
   "metadata": {
    "slideshow": {
     "slide_type": "fragment"
    }
   },
   "outputs": [
    {
     "data": {
      "text/plain": [
       "['The lack of leniency on the video quiz. I understand that the professor is generous enough to give 20 free quiz points, and students really do appreciate it. But I also hope that the professor and TAs know that us students can make a lot of mistakes, especially when it comes to managing our time. Some of us can get carried away with projects and work in other classes that we forget to take the video quizzes. Instead of restricting the quiz right away after the deadline, maybe implement a late penalty for them. This is just a suggestion, I am not in any ways trying to tell the professor and TAs how to do their job. However, I do hope you guys can take this input into account. ',\n",
       " \"There are too many quiz every week. And even if I watched the video very carefully, there will be some points deducted. We also don't know how to check whether our answer is correct, even if I pass the datahub's previous test, I may still lose points after turning in. This is weird\"]"
      ]
     },
     "execution_count": 16,
     "metadata": {},
     "output_type": "execute_result"
    }
   ],
   "source": [
    "# Spring 2020\n",
    "check_least = df_sp20[df_sp20['enjoyed_most'].isnull() & df_sp20['enjoyed_least'].notnull()]\n",
    "list(check_least['enjoyed_least'])"
   ]
  },
  {
   "cell_type": "code",
   "execution_count": 17,
   "metadata": {
    "scrolled": false,
    "slideshow": {
     "slide_type": "-"
    }
   },
   "outputs": [
    {
     "data": {
      "text/plain": [
       "['Seems to include a lot of important topics in data science, but only goes very briefly in every single one of them. Might be the purpose so that students are made aware of the basic concepts of such topics in data science and expected to learn deeper concepts in other concentrated classes. ',\n",
       " 'I think the tests and the hidden tests from assignments are not exhaustive.']"
      ]
     },
     "execution_count": 17,
     "metadata": {},
     "output_type": "execute_result"
    }
   ],
   "source": [
    "# Winter 2020\n",
    "check_least = df_wi20[df_wi20['enjoyed_most'].isnull() & df_wi20['enjoyed_least'].notnull()]\n",
    "list(check_least['enjoyed_least'])"
   ]
  },
  {
   "cell_type": "code",
   "execution_count": 18,
   "metadata": {
    "slideshow": {
     "slide_type": "-"
    }
   },
   "outputs": [
    {
     "data": {
      "text/plain": [
       "['assigned groups because I was looking forward to working with my friends',\n",
       " 'Coding....',\n",
       " 'The professor focus too much on statistics and spend insufficient time in coding',\n",
       " 'What I have liked the least of COGS108 is that I have had trouble with the assignments since I came in with a matlab background and not a python background. So basically not knowing the language has been tough. ',\n",
       " 'Assigned groups. I enrolled in the class with a group of friends under the assumption that we’d get to work together as in previous iterations of the course.',\n",
       " 'The professor talked a bit fast',\n",
       " \"I think lectures are not organized and they are extremely confusing. It would help if they were catered in a more content / topic based way. The homeworks are extremely difficult if you don't have python experience \",\n",
       " 'Not being able to work with friends on the group project. Trying to work with chosen groupmates who do not care about this class.']"
      ]
     },
     "execution_count": 18,
     "metadata": {},
     "output_type": "execute_result"
    }
   ],
   "source": [
    "# Spring 2019\n",
    "check_least = df_sp19[df_sp19['enjoyed_most'].isnull() & df_sp19['enjoyed_least'].notnull()]\n",
    "list(check_least['enjoyed_least'])"
   ]
  },
  {
   "cell_type": "markdown",
   "metadata": {
    "slideshow": {
     "slide_type": "fragment"
    }
   },
   "source": [
    "Missing data causes a problem in `nltk`, so we either get rid of individuals who didn't respond to both, or we can replace their missing data with 'No response', knowing that this text will be included in the analysis now."
   ]
  },
  {
   "cell_type": "code",
   "execution_count": 19,
   "metadata": {
    "slideshow": {
     "slide_type": "fragment"
    }
   },
   "outputs": [],
   "source": [
    "def fill_no_response(df):\n",
    "    '''replace missing data in enjoyed_most/least series with string No response'''\n",
    "    \n",
    "    df['enjoyed_most'] = df['enjoyed_most'].fillna('No response')\n",
    "    df['enjoyed_least'] = df['enjoyed_least'].fillna('No response')"
   ]
  },
  {
   "cell_type": "code",
   "execution_count": 20,
   "metadata": {
    "slideshow": {
     "slide_type": "-"
    }
   },
   "outputs": [],
   "source": [
    "# fill NAs with string 'No response'\n",
    "fill_no_response(df_wi21)\n",
    "fill_no_response(df_fa20)\n",
    "fill_no_response(df_sp20)\n",
    "fill_no_response(df_sp19)\n",
    "fill_no_response(df_wi20)"
   ]
  },
  {
   "cell_type": "markdown",
   "metadata": {
    "slideshow": {
     "slide_type": "slide"
    }
   },
   "source": [
    "### Exploratory Plots\n",
    "\n",
    "These can give us a quick idea of students' thoughts on the course. (I didn't ask these this quarter because I added the open ended question about how you're doing.)\n",
    "\n",
    "- Time Spent\n",
    "- (Relative Difficulty)\n",
    "- (Quiz responses)"
   ]
  },
  {
   "cell_type": "code",
   "execution_count": 21,
   "metadata": {
    "scrolled": false,
    "slideshow": {
     "slide_type": "slide"
    }
   },
   "outputs": [
    {
     "data": {
      "image/png": "[encoded data removed]",
      "text/plain": [
       "<Figure size 1224x504 with 3 Axes>"
      ]
     },
     "metadata": {
      "image/png": {
       "height": 452,
       "width": 1019
      },
      "needs_background": "light"
     },
     "output_type": "display_data"
    }
   ],
   "source": [
    "df = df_fa20\n",
    "\n",
    "plt.subplot(1, 3, 1)\n",
    "ax = sns.distplot(df['a1'], bins = 10)\n",
    "ax.axvline(df['a1'].median(), color='#2e2e2e', linestyle='--')\n",
    "plt.title('Approximately how long (hours) did you spend?', loc='left')\n",
    "ax.text(x=df['a1'].median()+2, y=0.3, s=df['a1'].median(), fontsize=14, alpha=0.75, ha='center')\n",
    "plt.xlabel('A1')\n",
    "\n",
    "plt.subplot(1, 3, 2)\n",
    "ax = sns.distplot(df['a2'], bins = 10)\n",
    "ax.axvline(df['a2'].median(), color='#2e2e2e', linestyle='--')\n",
    "ax.text(x=df['a1'].median()+2, y=0.21, s=df['a2'].median(), fontsize=14, alpha=0.75, ha='center')\n",
    "plt.xlabel('A2')\n",
    "\n",
    "plt.subplot(1, 3, 3)\n",
    "ax = sns.distplot(df['proposal'], bins = 10)\n",
    "ax.axvline(df['proposal'].median(), color='#2e2e2e', linestyle='--')\n",
    "ax.text(x=df['proposal'].median()+2, y=0.22, s=df['proposal'].median(), fontsize=14, alpha=0.75, ha='center')\n",
    "plt.xlabel('Project Proposal');"
   ]
  },
  {
   "cell_type": "markdown",
   "metadata": {
    "slideshow": {
     "slide_type": "slide"
    }
   },
   "source": [
    "## Quick checks: Words of interest\n",
    "\n"
   ]
  },
  {
   "cell_type": "code",
   "execution_count": 22,
   "metadata": {},
   "outputs": [
    {
     "data": {
      "text/plain": [
       "0      Assignment is kind of difficult to me. I never...\n",
       "1      Honestly, I am not a huge fan of remote learni...\n",
       "2                I'm not familiar with python and panda.\n",
       "3      hmmm I feel like I am a little bit lost on how...\n",
       "4                 Nothing really so far. It's been nice.\n",
       "                             ...                        \n",
       "316                                      Lecture Quizzes\n",
       "317                               the quizzes are brutal\n",
       "318    Nothing so far, maybe the lack of a \"what you ...\n",
       "319                Probably the amount of videos we have\n",
       "320    I haven't liked the change due dates for Assig...\n",
       "Name: enjoyed_least, Length: 321, dtype: object"
      ]
     },
     "execution_count": 22,
     "metadata": {},
     "output_type": "execute_result"
    }
   ],
   "source": [
    "df['enjoyed_least']"
   ]
  },
  {
   "cell_type": "code",
   "execution_count": 23,
   "metadata": {},
   "outputs": [],
   "source": [
    "def check_word_freq(df, word):\n",
    "    \"\"\"checks for frequenccy of word specified in most and least enjoyed responses\"\"\"\n",
    "    \n",
    "    most = df['enjoyed_most'].str.lower().str.contains(word).sum()/df['enjoyed_most'].notnull().sum()\n",
    "    least = df['enjoyed_least'].str.lower().str.contains(word).sum()/df['enjoyed_least'].notnull().sum()\n",
    "    \n",
    "    out = pd.DataFrame({'most_freq': [most], 'least_freq': [least]})\n",
    "    return out"
   ]
  },
  {
   "cell_type": "markdown",
   "metadata": {
    "slideshow": {
     "slide_type": "fragment"
    }
   },
   "source": [
    "#### Assignment"
   ]
  },
  {
   "cell_type": "code",
   "execution_count": 25,
   "metadata": {
    "slideshow": {
     "slide_type": "-"
    }
   },
   "outputs": [
    {
     "data": {
      "text/html": [
       "<div>\n",
       "<style scoped>\n",
       "    .dataframe tbody tr th:only-of-type {\n",
       "        vertical-align: middle;\n",
       "    }\n",
       "\n",
       "    .dataframe tbody tr th {\n",
       "        vertical-align: top;\n",
       "    }\n",
       "\n",
       "    .dataframe thead th {\n",
       "        text-align: right;\n",
       "    }\n",
       "</style>\n",
       "<table border=\"1\" class=\"dataframe\">\n",
       "  <thead>\n",
       "    <tr style=\"text-align: right;\">\n",
       "      <th></th>\n",
       "      <th>most_freq</th>\n",
       "      <th>least_freq</th>\n",
       "    </tr>\n",
       "  </thead>\n",
       "  <tbody>\n",
       "    <tr>\n",
       "      <th>0</th>\n",
       "      <td>0.200637</td>\n",
       "      <td>0.219745</td>\n",
       "    </tr>\n",
       "  </tbody>\n",
       "</table>\n",
       "</div>"
      ],
      "text/plain": [
       "   most_freq  least_freq\n",
       "0   0.200637    0.219745"
      ]
     },
     "execution_count": 25,
     "metadata": {},
     "output_type": "execute_result"
    }
   ],
   "source": [
    "## check for assignment\n",
    "df = df_wi21\n",
    "check_word_freq(df, 'assignment')"
   ]
  },
  {
   "cell_type": "markdown",
   "metadata": {
    "slideshow": {
     "slide_type": "slide"
    }
   },
   "source": [
    "#### Project"
   ]
  },
  {
   "cell_type": "code",
   "execution_count": 26,
   "metadata": {
    "scrolled": true,
    "slideshow": {
     "slide_type": "fragment"
    }
   },
   "outputs": [
    {
     "data": {
      "text/html": [
       "<div>\n",
       "<style scoped>\n",
       "    .dataframe tbody tr th:only-of-type {\n",
       "        vertical-align: middle;\n",
       "    }\n",
       "\n",
       "    .dataframe tbody tr th {\n",
       "        vertical-align: top;\n",
       "    }\n",
       "\n",
       "    .dataframe thead th {\n",
       "        text-align: right;\n",
       "    }\n",
       "</style>\n",
       "<table border=\"1\" class=\"dataframe\">\n",
       "  <thead>\n",
       "    <tr style=\"text-align: right;\">\n",
       "      <th></th>\n",
       "      <th>most_freq</th>\n",
       "      <th>least_freq</th>\n",
       "    </tr>\n",
       "  </thead>\n",
       "  <tbody>\n",
       "    <tr>\n",
       "      <th>0</th>\n",
       "      <td>0.159236</td>\n",
       "      <td>0.146497</td>\n",
       "    </tr>\n",
       "  </tbody>\n",
       "</table>\n",
       "</div>"
      ],
      "text/plain": [
       "   most_freq  least_freq\n",
       "0   0.159236    0.146497"
      ]
     },
     "execution_count": 26,
     "metadata": {},
     "output_type": "execute_result"
    }
   ],
   "source": [
    "## check for project in free text\n",
    "check_word_freq(df, 'project')"
   ]
  },
  {
   "cell_type": "code",
   "execution_count": 27,
   "metadata": {
    "scrolled": true,
    "slideshow": {
     "slide_type": "fragment"
    }
   },
   "outputs": [
    {
     "data": {
      "text/html": [
       "<div>\n",
       "<style scoped>\n",
       "    .dataframe tbody tr th:only-of-type {\n",
       "        vertical-align: middle;\n",
       "    }\n",
       "\n",
       "    .dataframe tbody tr th {\n",
       "        vertical-align: top;\n",
       "    }\n",
       "\n",
       "    .dataframe thead th {\n",
       "        text-align: right;\n",
       "    }\n",
       "</style>\n",
       "<table border=\"1\" class=\"dataframe\">\n",
       "  <thead>\n",
       "    <tr style=\"text-align: right;\">\n",
       "      <th></th>\n",
       "      <th>most_freq</th>\n",
       "      <th>least_freq</th>\n",
       "    </tr>\n",
       "  </thead>\n",
       "  <tbody>\n",
       "    <tr>\n",
       "      <th>0</th>\n",
       "      <td>0.101911</td>\n",
       "      <td>0.10828</td>\n",
       "    </tr>\n",
       "  </tbody>\n",
       "</table>\n",
       "</div>"
      ],
      "text/plain": [
       "   most_freq  least_freq\n",
       "0   0.101911     0.10828"
      ]
     },
     "execution_count": 27,
     "metadata": {},
     "output_type": "execute_result"
    }
   ],
   "source": [
    "## check for group in free text\n",
    "check_word_freq(df, 'group')"
   ]
  },
  {
   "cell_type": "code",
   "execution_count": 28,
   "metadata": {
    "scrolled": false,
    "slideshow": {
     "slide_type": "fragment"
    }
   },
   "outputs": [
    {
     "data": {
      "text/html": [
       "<div>\n",
       "<style scoped>\n",
       "    .dataframe tbody tr th:only-of-type {\n",
       "        vertical-align: middle;\n",
       "    }\n",
       "\n",
       "    .dataframe tbody tr th {\n",
       "        vertical-align: top;\n",
       "    }\n",
       "\n",
       "    .dataframe thead th {\n",
       "        text-align: right;\n",
       "    }\n",
       "</style>\n",
       "<table border=\"1\" class=\"dataframe\">\n",
       "  <thead>\n",
       "    <tr style=\"text-align: right;\">\n",
       "      <th></th>\n",
       "      <th>most_freq</th>\n",
       "      <th>least_freq</th>\n",
       "    </tr>\n",
       "  </thead>\n",
       "  <tbody>\n",
       "    <tr>\n",
       "      <th>0</th>\n",
       "      <td>0.0</td>\n",
       "      <td>0.003185</td>\n",
       "    </tr>\n",
       "  </tbody>\n",
       "</table>\n",
       "</div>"
      ],
      "text/plain": [
       "   most_freq  least_freq\n",
       "0        0.0    0.003185"
      ]
     },
     "execution_count": 28,
     "metadata": {},
     "output_type": "execute_result"
    }
   ],
   "source": [
    "## check for individual in free text\n",
    "check_word_freq(df, 'individual')"
   ]
  },
  {
   "cell_type": "markdown",
   "metadata": {
    "slideshow": {
     "slide_type": "slide"
    }
   },
   "source": [
    "#### Quizzes"
   ]
  },
  {
   "cell_type": "code",
   "execution_count": 29,
   "metadata": {},
   "outputs": [
    {
     "data": {
      "text/html": [
       "<div>\n",
       "<style scoped>\n",
       "    .dataframe tbody tr th:only-of-type {\n",
       "        vertical-align: middle;\n",
       "    }\n",
       "\n",
       "    .dataframe tbody tr th {\n",
       "        vertical-align: top;\n",
       "    }\n",
       "\n",
       "    .dataframe thead th {\n",
       "        text-align: right;\n",
       "    }\n",
       "</style>\n",
       "<table border=\"1\" class=\"dataframe\">\n",
       "  <thead>\n",
       "    <tr style=\"text-align: right;\">\n",
       "      <th></th>\n",
       "      <th>most_freq</th>\n",
       "      <th>least_freq</th>\n",
       "    </tr>\n",
       "  </thead>\n",
       "  <tbody>\n",
       "    <tr>\n",
       "      <th>0</th>\n",
       "      <td>0.0</td>\n",
       "      <td>0.089172</td>\n",
       "    </tr>\n",
       "  </tbody>\n",
       "</table>\n",
       "</div>"
      ],
      "text/plain": [
       "   most_freq  least_freq\n",
       "0        0.0    0.089172"
      ]
     },
     "execution_count": 29,
     "metadata": {},
     "output_type": "execute_result"
    }
   ],
   "source": [
    "check_word_freq(df_wi21, 'quiz')"
   ]
  },
  {
   "cell_type": "code",
   "execution_count": 30,
   "metadata": {
    "scrolled": true,
    "slideshow": {
     "slide_type": "fragment"
    }
   },
   "outputs": [
    {
     "data": {
      "text/html": [
       "<div>\n",
       "<style scoped>\n",
       "    .dataframe tbody tr th:only-of-type {\n",
       "        vertical-align: middle;\n",
       "    }\n",
       "\n",
       "    .dataframe tbody tr th {\n",
       "        vertical-align: top;\n",
       "    }\n",
       "\n",
       "    .dataframe thead th {\n",
       "        text-align: right;\n",
       "    }\n",
       "</style>\n",
       "<table border=\"1\" class=\"dataframe\">\n",
       "  <thead>\n",
       "    <tr style=\"text-align: right;\">\n",
       "      <th></th>\n",
       "      <th>most_freq</th>\n",
       "      <th>least_freq</th>\n",
       "    </tr>\n",
       "  </thead>\n",
       "  <tbody>\n",
       "    <tr>\n",
       "      <th>0</th>\n",
       "      <td>0.065421</td>\n",
       "      <td>0.302181</td>\n",
       "    </tr>\n",
       "  </tbody>\n",
       "</table>\n",
       "</div>"
      ],
      "text/plain": [
       "   most_freq  least_freq\n",
       "0   0.065421    0.302181"
      ]
     },
     "execution_count": 30,
     "metadata": {},
     "output_type": "execute_result"
    }
   ],
   "source": [
    "check_word_freq(df_fa20, 'quiz')"
   ]
  },
  {
   "cell_type": "code",
   "execution_count": 31,
   "metadata": {},
   "outputs": [
    {
     "data": {
      "text/html": [
       "<div>\n",
       "<style scoped>\n",
       "    .dataframe tbody tr th:only-of-type {\n",
       "        vertical-align: middle;\n",
       "    }\n",
       "\n",
       "    .dataframe tbody tr th {\n",
       "        vertical-align: top;\n",
       "    }\n",
       "\n",
       "    .dataframe thead th {\n",
       "        text-align: right;\n",
       "    }\n",
       "</style>\n",
       "<table border=\"1\" class=\"dataframe\">\n",
       "  <thead>\n",
       "    <tr style=\"text-align: right;\">\n",
       "      <th></th>\n",
       "      <th>most_freq</th>\n",
       "      <th>least_freq</th>\n",
       "    </tr>\n",
       "  </thead>\n",
       "  <tbody>\n",
       "    <tr>\n",
       "      <th>0</th>\n",
       "      <td>0.06801</td>\n",
       "      <td>0.36272</td>\n",
       "    </tr>\n",
       "  </tbody>\n",
       "</table>\n",
       "</div>"
      ],
      "text/plain": [
       "   most_freq  least_freq\n",
       "0    0.06801     0.36272"
      ]
     },
     "execution_count": 31,
     "metadata": {},
     "output_type": "execute_result"
    }
   ],
   "source": [
    "check_word_freq(df_sp20, 'quiz')"
   ]
  },
  {
   "cell_type": "code",
   "execution_count": 32,
   "metadata": {
    "slideshow": {
     "slide_type": "-"
    }
   },
   "outputs": [
    {
     "data": {
      "text/html": [
       "<div>\n",
       "<style scoped>\n",
       "    .dataframe tbody tr th:only-of-type {\n",
       "        vertical-align: middle;\n",
       "    }\n",
       "\n",
       "    .dataframe tbody tr th {\n",
       "        vertical-align: top;\n",
       "    }\n",
       "\n",
       "    .dataframe thead th {\n",
       "        text-align: right;\n",
       "    }\n",
       "</style>\n",
       "<table border=\"1\" class=\"dataframe\">\n",
       "  <thead>\n",
       "    <tr style=\"text-align: right;\">\n",
       "      <th></th>\n",
       "      <th>most_freq</th>\n",
       "      <th>least_freq</th>\n",
       "    </tr>\n",
       "  </thead>\n",
       "  <tbody>\n",
       "    <tr>\n",
       "      <th>0</th>\n",
       "      <td>0.016949</td>\n",
       "      <td>0.061017</td>\n",
       "    </tr>\n",
       "  </tbody>\n",
       "</table>\n",
       "</div>"
      ],
      "text/plain": [
       "   most_freq  least_freq\n",
       "0   0.016949    0.061017"
      ]
     },
     "execution_count": 32,
     "metadata": {},
     "output_type": "execute_result"
    }
   ],
   "source": [
    "check_word_freq(df_wi20, 'quiz')"
   ]
  },
  {
   "cell_type": "code",
   "execution_count": 33,
   "metadata": {
    "slideshow": {
     "slide_type": "-"
    }
   },
   "outputs": [
    {
     "data": {
      "text/html": [
       "<div>\n",
       "<style scoped>\n",
       "    .dataframe tbody tr th:only-of-type {\n",
       "        vertical-align: middle;\n",
       "    }\n",
       "\n",
       "    .dataframe tbody tr th {\n",
       "        vertical-align: top;\n",
       "    }\n",
       "\n",
       "    .dataframe thead th {\n",
       "        text-align: right;\n",
       "    }\n",
       "</style>\n",
       "<table border=\"1\" class=\"dataframe\">\n",
       "  <thead>\n",
       "    <tr style=\"text-align: right;\">\n",
       "      <th></th>\n",
       "      <th>most_freq</th>\n",
       "      <th>least_freq</th>\n",
       "    </tr>\n",
       "  </thead>\n",
       "  <tbody>\n",
       "    <tr>\n",
       "      <th>0</th>\n",
       "      <td>0.0</td>\n",
       "      <td>0.0</td>\n",
       "    </tr>\n",
       "  </tbody>\n",
       "</table>\n",
       "</div>"
      ],
      "text/plain": [
       "   most_freq  least_freq\n",
       "0        0.0         0.0"
      ]
     },
     "execution_count": 33,
     "metadata": {},
     "output_type": "execute_result"
    }
   ],
   "source": [
    "check_word_freq(df_sp19, 'quiz')"
   ]
  },
  {
   "cell_type": "markdown",
   "metadata": {
    "slideshow": {
     "slide_type": "fragment"
    }
   },
   "source": [
    "#### Labs"
   ]
  },
  {
   "cell_type": "code",
   "execution_count": 34,
   "metadata": {},
   "outputs": [
    {
     "data": {
      "text/html": [
       "<div>\n",
       "<style scoped>\n",
       "    .dataframe tbody tr th:only-of-type {\n",
       "        vertical-align: middle;\n",
       "    }\n",
       "\n",
       "    .dataframe tbody tr th {\n",
       "        vertical-align: top;\n",
       "    }\n",
       "\n",
       "    .dataframe thead th {\n",
       "        text-align: right;\n",
       "    }\n",
       "</style>\n",
       "<table border=\"1\" class=\"dataframe\">\n",
       "  <thead>\n",
       "    <tr style=\"text-align: right;\">\n",
       "      <th></th>\n",
       "      <th>most_freq</th>\n",
       "      <th>least_freq</th>\n",
       "    </tr>\n",
       "  </thead>\n",
       "  <tbody>\n",
       "    <tr>\n",
       "      <th>0</th>\n",
       "      <td>0.06051</td>\n",
       "      <td>0.076433</td>\n",
       "    </tr>\n",
       "  </tbody>\n",
       "</table>\n",
       "</div>"
      ],
      "text/plain": [
       "   most_freq  least_freq\n",
       "0    0.06051    0.076433"
      ]
     },
     "execution_count": 34,
     "metadata": {},
     "output_type": "execute_result"
    }
   ],
   "source": [
    "check_word_freq(df_wi21, 'lab')"
   ]
  },
  {
   "cell_type": "code",
   "execution_count": 35,
   "metadata": {},
   "outputs": [
    {
     "data": {
      "text/html": [
       "<div>\n",
       "<style scoped>\n",
       "    .dataframe tbody tr th:only-of-type {\n",
       "        vertical-align: middle;\n",
       "    }\n",
       "\n",
       "    .dataframe tbody tr th {\n",
       "        vertical-align: top;\n",
       "    }\n",
       "\n",
       "    .dataframe thead th {\n",
       "        text-align: right;\n",
       "    }\n",
       "</style>\n",
       "<table border=\"1\" class=\"dataframe\">\n",
       "  <thead>\n",
       "    <tr style=\"text-align: right;\">\n",
       "      <th></th>\n",
       "      <th>most_freq</th>\n",
       "      <th>least_freq</th>\n",
       "    </tr>\n",
       "  </thead>\n",
       "  <tbody>\n",
       "    <tr>\n",
       "      <th>0</th>\n",
       "      <td>0.009346</td>\n",
       "      <td>0.006231</td>\n",
       "    </tr>\n",
       "  </tbody>\n",
       "</table>\n",
       "</div>"
      ],
      "text/plain": [
       "   most_freq  least_freq\n",
       "0   0.009346    0.006231"
      ]
     },
     "execution_count": 35,
     "metadata": {},
     "output_type": "execute_result"
    }
   ],
   "source": [
    "check_word_freq(df_fa20, 'lab')"
   ]
  },
  {
   "cell_type": "markdown",
   "metadata": {
    "slideshow": {
     "slide_type": "slide"
    }
   },
   "source": [
    "## Sentiment Analysis\n",
    "\n",
    "We get a quick snapshot of what's going on in COGS 108, but we really want to understand the details. To do this, analyzing the sentiment of the text is a good next step."
   ]
  },
  {
   "cell_type": "markdown",
   "metadata": {
    "slideshow": {
     "slide_type": "slide"
    }
   },
   "source": [
    "#### Step 1: Tokenization\n",
    "\n",
    "Tokenization is the first step in analyzing text. \n",
    "\n",
    "1. Aquire text of interest\n",
    "2. Break text down (tokenize) into smaller chunks (i.e. words, bigrams, sentences, etc.)\n",
    "\n",
    "A **token** is a single entity - think of it as a building block of language."
   ]
  },
  {
   "cell_type": "markdown",
   "metadata": {
    "slideshow": {
     "slide_type": "slide"
    }
   },
   "source": [
    "### Tokenization Example\n",
    "\n",
    "Here we demonstrate what a tokenized single response looks like."
   ]
  },
  {
   "cell_type": "code",
   "execution_count": 36,
   "metadata": {
    "slideshow": {
     "slide_type": "fragment"
    }
   },
   "outputs": [],
   "source": [
    "## import word tokenizer\n",
    "from nltk.tokenize import word_tokenize"
   ]
  },
  {
   "cell_type": "code",
   "execution_count": 37,
   "metadata": {
    "slideshow": {
     "slide_type": "fragment"
    }
   },
   "outputs": [],
   "source": [
    "# just focus on last quarter's responses\n",
    "df = df_wi21"
   ]
  },
  {
   "cell_type": "code",
   "execution_count": 38,
   "metadata": {},
   "outputs": [
    {
     "data": {
      "text/plain": [
       "'the discussions and hw'"
      ]
     },
     "execution_count": 38,
     "metadata": {},
     "output_type": "execute_result"
    }
   ],
   "source": [
    "df.loc[25,'enjoyed_most']"
   ]
  },
  {
   "cell_type": "code",
   "execution_count": 41,
   "metadata": {
    "slideshow": {
     "slide_type": "fragment"
    }
   },
   "outputs": [
    {
     "name": "stdout",
     "output_type": "stream",
     "text": [
      "['the', 'discussions', 'and', 'hw']\n"
     ]
    }
   ],
   "source": [
    "tokenized_word = word_tokenize(df.loc[25,'enjoyed_most'])\n",
    "print(tokenized_word)"
   ]
  },
  {
   "cell_type": "code",
   "execution_count": 38,
   "metadata": {},
   "outputs": [
    {
     "data": {
      "text/plain": [
       "'the discussions and hw'"
      ]
     },
     "execution_count": 38,
     "metadata": {},
     "output_type": "execute_result"
    }
   ],
   "source": [
    "df.loc[25,'enjoyed_most']"
   ]
  },
  {
   "cell_type": "markdown",
   "metadata": {
    "slideshow": {
     "slide_type": "slide"
    }
   },
   "source": [
    "#### Tokenize COGS108 data\n",
    "\n",
    "Using that concept we'll tokenize the words in the enjoyed_most and `enjoyed_least` columns for the data in our COGS108 data."
   ]
  },
  {
   "cell_type": "code",
   "execution_count": 51,
   "metadata": {
    "slideshow": {
     "slide_type": "fragment"
    }
   },
   "outputs": [
    {
     "data": {
      "text/html": [
       "<div>\n",
       "<style scoped>\n",
       "    .dataframe tbody tr th:only-of-type {\n",
       "        vertical-align: middle;\n",
       "    }\n",
       "\n",
       "    .dataframe tbody tr th {\n",
       "        vertical-align: top;\n",
       "    }\n",
       "\n",
       "    .dataframe thead th {\n",
       "        text-align: right;\n",
       "    }\n",
       "</style>\n",
       "<table border=\"1\" class=\"dataframe\">\n",
       "  <thead>\n",
       "    <tr style=\"text-align: right;\">\n",
       "      <th></th>\n",
       "      <th>enjoyed_most</th>\n",
       "      <th>enjoyed_least</th>\n",
       "      <th>most_token</th>\n",
       "      <th>least_token</th>\n",
       "    </tr>\n",
       "  </thead>\n",
       "  <tbody>\n",
       "    <tr>\n",
       "      <th>0</th>\n",
       "      <td>I enjoy about learning python. I think learnin...</td>\n",
       "      <td>I really did not enjoy learning ethnic part. A...</td>\n",
       "      <td>[I, enjoy, about, learning, python, ., I, thin...</td>\n",
       "      <td>[I, really, did, not, enjoy, learning, ethnic,...</td>\n",
       "    </tr>\n",
       "    <tr>\n",
       "      <th>1</th>\n",
       "      <td>Mainly being able to explore the field of data...</td>\n",
       "      <td>Since I have to say something I guess it'll be...</td>\n",
       "      <td>[Mainly, being, able, to, explore, the, field,...</td>\n",
       "      <td>[Since, I, have, to, say, something, I, guess,...</td>\n",
       "    </tr>\n",
       "    <tr>\n",
       "      <th>2</th>\n",
       "      <td>Coding is funny</td>\n",
       "      <td>PDF lecture notes should be put on Canvas</td>\n",
       "      <td>[Coding, is, funny]</td>\n",
       "      <td>[PDF, lecture, notes, should, be, put, on, Can...</td>\n",
       "    </tr>\n",
       "    <tr>\n",
       "      <th>3</th>\n",
       "      <td>I enjoy the ease of access to assignments, for...</td>\n",
       "      <td>At first, I felt that the Data Ethics or Data ...</td>\n",
       "      <td>[I, enjoy, the, ease, of, access, to, assignme...</td>\n",
       "      <td>[At, first, ,, I, felt, that, the, Data, Ethic...</td>\n",
       "    </tr>\n",
       "    <tr>\n",
       "      <th>4</th>\n",
       "      <td>Learning pandas and plots</td>\n",
       "      <td>final project</td>\n",
       "      <td>[Learning, pandas, and, plots]</td>\n",
       "      <td>[final, project]</td>\n",
       "    </tr>\n",
       "  </tbody>\n",
       "</table>\n",
       "</div>"
      ],
      "text/plain": [
       "                                        enjoyed_most  \\\n",
       "0  I enjoy about learning python. I think learnin...   \n",
       "1  Mainly being able to explore the field of data...   \n",
       "2                                    Coding is funny   \n",
       "3  I enjoy the ease of access to assignments, for...   \n",
       "4                          Learning pandas and plots   \n",
       "\n",
       "                                       enjoyed_least  \\\n",
       "0  I really did not enjoy learning ethnic part. A...   \n",
       "1  Since I have to say something I guess it'll be...   \n",
       "2          PDF lecture notes should be put on Canvas   \n",
       "3  At first, I felt that the Data Ethics or Data ...   \n",
       "4                                      final project   \n",
       "\n",
       "                                          most_token  \\\n",
       "0  [I, enjoy, about, learning, python, ., I, thin...   \n",
       "1  [Mainly, being, able, to, explore, the, field,...   \n",
       "2                                [Coding, is, funny]   \n",
       "3  [I, enjoy, the, ease, of, access, to, assignme...   \n",
       "4                     [Learning, pandas, and, plots]   \n",
       "\n",
       "                                         least_token  \n",
       "0  [I, really, did, not, enjoy, learning, ethnic,...  \n",
       "1  [Since, I, have, to, say, something, I, guess,...  \n",
       "2  [PDF, lecture, notes, should, be, put, on, Can...  \n",
       "3  [At, first, ,, I, felt, that, the, Data, Ethic...  \n",
       "4                                   [final, project]  "
      ]
     },
     "execution_count": 51,
     "metadata": {},
     "output_type": "execute_result"
    }
   ],
   "source": [
    "# tokenize most and least responses\n",
    "df['most_token'] = df['enjoyed_most'].apply(word_tokenize) \n",
    "df['least_token'] = df['enjoyed_least'].apply(word_tokenize) \n",
    "df.head()"
   ]
  },
  {
   "cell_type": "markdown",
   "metadata": {
    "slideshow": {
     "slide_type": "slide"
    }
   },
   "source": [
    "#### Step 2: Stop Words\n",
    "\n",
    "**Stop words** are words that are of less interest to your analysis. \n",
    "\n",
    "For example, you wouldn't expect the following words to be important: is, am, are, this, a, an, the, etc.\n",
    "\n",
    "By removing stopwords, you can lower the computational burden, focusing on only the words of interest.\n",
    "\n",
    "To do so in `nltk`, you need to create a list of stopwords and filter them from your tokens.\n"
   ]
  },
  {
   "cell_type": "code",
   "execution_count": 52,
   "metadata": {
    "scrolled": true,
    "slideshow": {
     "slide_type": "fragment"
    }
   },
   "outputs": [
    {
     "name": "stdout",
     "output_type": "stream",
     "text": [
      "{'her', 's', 'i', \"doesn't\", \"isn't\", 'such', 'or', \"you're\", 'his', 'during', 'each', 'why', 'having', 'between', 'only', 'shan', \"you'll\", 'nor', 'for', 'their', 'a', \"hadn't\", 'needn', 'has', 'll', 'we', 'ain', \"wasn't\", 'hadn', 'how', 'very', \"you'd\", 'weren', 'should', 'then', 'our', 've', 'himself', 'against', 'here', 'these', 'few', 'you', 'again', \"needn't\", 'before', 'me', \"aren't\", 'shouldn', 'he', 'just', 'off', 'can', \"she's\", 'as', 'in', 'wouldn', 'over', 'than', 'no', \"that'll\", 'and', 'once', 'through', 'haven', 'y', 'mightn', 'until', 'there', 'ourselves', 'o', 'they', 'were', 'am', 'other', 'themselves', 'do', \"you've\", \"don't\", 'so', 'whom', 'doesn', \"it's\", 'she', 'any', \"shouldn't\", 'which', 'who', 'is', 'same', \"mightn't\", 'on', 'been', 'about', 'd', 'not', \"wouldn't\", 'don', 'after', 'most', 'being', 'ours', 'by', 'was', 'him', 'ma', 'be', 'them', \"should've\", 'to', \"couldn't\", 'your', 'wasn', 'at', 'those', 'theirs', 'yours', 'isn', 'will', 'of', \"weren't\", 'when', 'does', 'an', \"shan't\", 'below', 'the', 'what', 'where', \"haven't\", \"hasn't\", 'did', 'mustn', 'have', 'some', 'didn', 'hasn', 'above', 'are', 'this', 'own', 'hers', 'doing', 'yourselves', 'into', 'more', 'myself', 'its', 'both', 'from', 'further', 'it', \"won't\", 'up', 'yourself', 'under', 'now', \"didn't\", 'had', 'if', 'that', 'with', 'my', 'all', 't', 'but', 'out', 'herself', 're', 'won', 'down', 'couldn', 'itself', 'aren', 'because', 'while', 'too', \"mustn't\", 'm'}\n"
     ]
    }
   ],
   "source": [
    "# import stop words\n",
    "from nltk.corpus import stopwords\n",
    "stop_words = set(stopwords.words('english'))\n",
    "\n",
    "# look at stop words\n",
    "print(stop_words)"
   ]
  },
  {
   "cell_type": "markdown",
   "metadata": {
    "slideshow": {
     "slide_type": "slide"
    }
   },
   "source": [
    "### Stop Words Example\n",
    "\n",
    "Here we compare a sentence after tokenization to one that has been tokenized _and had stop words removed_."
   ]
  },
  {
   "cell_type": "code",
   "execution_count": 53,
   "metadata": {
    "slideshow": {
     "slide_type": "fragment"
    }
   },
   "outputs": [
    {
     "name": "stdout",
     "output_type": "stream",
     "text": [
      "Tokenized Sentence: ['the', 'discussions', 'and', 'hw']\n",
      "Filtered Sentence: ['discussions', 'hw']\n"
     ]
    }
   ],
   "source": [
    "# example of removing stop words\n",
    "filtered_sent=[]\n",
    "for w in tokenized_word:\n",
    "    if w not in stop_words:\n",
    "        filtered_sent.append(w)\n",
    "print(\"Tokenized Sentence:\", tokenized_word)\n",
    "print(\"Filtered Sentence:\", filtered_sent)"
   ]
  },
  {
   "cell_type": "markdown",
   "metadata": {
    "slideshow": {
     "slide_type": "slide"
    }
   },
   "source": [
    "#### Remove Stop Words: COGS108 data\n",
    "\n",
    "Using that idea, we can go ahead and remove stop words from our tokenized most and least liked tokenized data."
   ]
  },
  {
   "cell_type": "code",
   "execution_count": 54,
   "metadata": {},
   "outputs": [
    {
     "data": {
      "text/plain": [
       "0      [I, enjoy, about, learning, python, ., I, thin...\n",
       "1      [Mainly, being, able, to, explore, the, field,...\n",
       "2                                    [Coding, is, funny]\n",
       "3      [I, enjoy, the, ease, of, access, to, assignme...\n",
       "4                         [Learning, pandas, and, plots]\n",
       "                             ...                        \n",
       "309    [learning, about, python, because, I, did, n't...\n",
       "310                   [Doing, the, Discussion, question]\n",
       "311    [I, 've, enjoyed, the, Assignments, the, most,...\n",
       "312    [The, clear, lectures, !, They, 're, easy, to,...\n",
       "313    [Learning, how, to, incorporate, data, science...\n",
       "Name: most_token, Length: 314, dtype: object"
      ]
     },
     "execution_count": 54,
     "metadata": {},
     "output_type": "execute_result"
    }
   ],
   "source": [
    "df['most_token']"
   ]
  },
  {
   "cell_type": "code",
   "execution_count": 55,
   "metadata": {
    "scrolled": true,
    "slideshow": {
     "slide_type": "fragment"
    }
   },
   "outputs": [
    {
     "data": {
      "text/html": [
       "<div>\n",
       "<style scoped>\n",
       "    .dataframe tbody tr th:only-of-type {\n",
       "        vertical-align: middle;\n",
       "    }\n",
       "\n",
       "    .dataframe tbody tr th {\n",
       "        vertical-align: top;\n",
       "    }\n",
       "\n",
       "    .dataframe thead th {\n",
       "        text-align: right;\n",
       "    }\n",
       "</style>\n",
       "<table border=\"1\" class=\"dataframe\">\n",
       "  <thead>\n",
       "    <tr style=\"text-align: right;\">\n",
       "      <th></th>\n",
       "      <th>enjoyed_most</th>\n",
       "      <th>enjoyed_least</th>\n",
       "      <th>most_token</th>\n",
       "      <th>least_token</th>\n",
       "      <th>most_stop</th>\n",
       "      <th>least_stop</th>\n",
       "    </tr>\n",
       "  </thead>\n",
       "  <tbody>\n",
       "    <tr>\n",
       "      <th>0</th>\n",
       "      <td>I enjoy about learning python. I think learnin...</td>\n",
       "      <td>I really did not enjoy learning ethnic part. A...</td>\n",
       "      <td>[I, enjoy, about, learning, python, ., I, thin...</td>\n",
       "      <td>[I, really, did, not, enjoy, learning, ethnic,...</td>\n",
       "      <td>[I, enjoy, learning, python, ., I, think, lear...</td>\n",
       "      <td>[I, really, enjoy, learning, ethnic, part, ., ...</td>\n",
       "    </tr>\n",
       "    <tr>\n",
       "      <th>1</th>\n",
       "      <td>Mainly being able to explore the field of data...</td>\n",
       "      <td>Since I have to say something I guess it'll be...</td>\n",
       "      <td>[Mainly, being, able, to, explore, the, field,...</td>\n",
       "      <td>[Since, I, have, to, say, something, I, guess,...</td>\n",
       "      <td>[Mainly, able, explore, field, data, science, ...</td>\n",
       "      <td>[Since, I, say, something, I, guess, 'll, litt...</td>\n",
       "    </tr>\n",
       "    <tr>\n",
       "      <th>2</th>\n",
       "      <td>Coding is funny</td>\n",
       "      <td>PDF lecture notes should be put on Canvas</td>\n",
       "      <td>[Coding, is, funny]</td>\n",
       "      <td>[PDF, lecture, notes, should, be, put, on, Can...</td>\n",
       "      <td>[Coding, funny]</td>\n",
       "      <td>[PDF, lecture, notes, put, Canvas]</td>\n",
       "    </tr>\n",
       "    <tr>\n",
       "      <th>3</th>\n",
       "      <td>I enjoy the ease of access to assignments, for...</td>\n",
       "      <td>At first, I felt that the Data Ethics or Data ...</td>\n",
       "      <td>[I, enjoy, the, ease, of, access, to, assignme...</td>\n",
       "      <td>[At, first, ,, I, felt, that, the, Data, Ethic...</td>\n",
       "      <td>[I, enjoy, ease, access, assignments, ,, insta...</td>\n",
       "      <td>[At, first, ,, I, felt, Data, Ethics, Data, Pr...</td>\n",
       "    </tr>\n",
       "    <tr>\n",
       "      <th>4</th>\n",
       "      <td>Learning pandas and plots</td>\n",
       "      <td>final project</td>\n",
       "      <td>[Learning, pandas, and, plots]</td>\n",
       "      <td>[final, project]</td>\n",
       "      <td>[Learning, pandas, plots]</td>\n",
       "      <td>[final, project]</td>\n",
       "    </tr>\n",
       "  </tbody>\n",
       "</table>\n",
       "</div>"
      ],
      "text/plain": [
       "                                        enjoyed_most  \\\n",
       "0  I enjoy about learning python. I think learnin...   \n",
       "1  Mainly being able to explore the field of data...   \n",
       "2                                    Coding is funny   \n",
       "3  I enjoy the ease of access to assignments, for...   \n",
       "4                          Learning pandas and plots   \n",
       "\n",
       "                                       enjoyed_least  \\\n",
       "0  I really did not enjoy learning ethnic part. A...   \n",
       "1  Since I have to say something I guess it'll be...   \n",
       "2          PDF lecture notes should be put on Canvas   \n",
       "3  At first, I felt that the Data Ethics or Data ...   \n",
       "4                                      final project   \n",
       "\n",
       "                                          most_token  \\\n",
       "0  [I, enjoy, about, learning, python, ., I, thin...   \n",
       "1  [Mainly, being, able, to, explore, the, field,...   \n",
       "2                                [Coding, is, funny]   \n",
       "3  [I, enjoy, the, ease, of, access, to, assignme...   \n",
       "4                     [Learning, pandas, and, plots]   \n",
       "\n",
       "                                         least_token  \\\n",
       "0  [I, really, did, not, enjoy, learning, ethnic,...   \n",
       "1  [Since, I, have, to, say, something, I, guess,...   \n",
       "2  [PDF, lecture, notes, should, be, put, on, Can...   \n",
       "3  [At, first, ,, I, felt, that, the, Data, Ethic...   \n",
       "4                                   [final, project]   \n",
       "\n",
       "                                           most_stop  \\\n",
       "0  [I, enjoy, learning, python, ., I, think, lear...   \n",
       "1  [Mainly, able, explore, field, data, science, ...   \n",
       "2                                    [Coding, funny]   \n",
       "3  [I, enjoy, ease, access, assignments, ,, insta...   \n",
       "4                          [Learning, pandas, plots]   \n",
       "\n",
       "                                          least_stop  \n",
       "0  [I, really, enjoy, learning, ethnic, part, ., ...  \n",
       "1  [Since, I, say, something, I, guess, 'll, litt...  \n",
       "2                 [PDF, lecture, notes, put, Canvas]  \n",
       "3  [At, first, ,, I, felt, Data, Ethics, Data, Pr...  \n",
       "4                                   [final, project]  "
      ]
     },
     "execution_count": 55,
     "metadata": {},
     "output_type": "execute_result"
    }
   ],
   "source": [
    "# remove stop words\n",
    "df['most_stop'] = df['most_token'].apply(lambda x: [item for item in x if item not in stop_words])\n",
    "df['least_stop'] = df['least_token'].apply(lambda x: [item for item in x if item not in stop_words])\n",
    "df.head()"
   ]
  },
  {
   "cell_type": "markdown",
   "metadata": {
    "slideshow": {
     "slide_type": "slide"
    }
   },
   "source": [
    "#### Step 3: Lexicon Normalization (**Stemming**)\n",
    "\n",
    "In language, many different words come from the same root word. \n",
    "\n",
    "For example, \"intersection\", \"intersecting\", \"intersects\", and \"intersected\" are all related to the common root word - \"intersect\".\n",
    "\n",
    "**Stemming** is how linguistic normalization occurs - it reduces words to their root words (and chops off additional things like 'ing') - all of the above words would be reduced to their common stem \"intersect.\"\n",
    "\n",
    "\n",
    "\n",
    "\n"
   ]
  },
  {
   "cell_type": "markdown",
   "metadata": {
    "slideshow": {
     "slide_type": "slide"
    }
   },
   "source": [
    "### Stemming Example\n",
    "\n",
    "After tokenization and removing stop words, we can get the stem for all tokens (words) in our dataset."
   ]
  },
  {
   "cell_type": "code",
   "execution_count": 56,
   "metadata": {
    "scrolled": true,
    "slideshow": {
     "slide_type": "fragment"
    }
   },
   "outputs": [
    {
     "name": "stdout",
     "output_type": "stream",
     "text": [
      "Filtered Sentence: ['discussions', 'hw']\n",
      "Stemmed Sentence: ['discuss', 'hw']\n"
     ]
    }
   ],
   "source": [
    "# Stemming\n",
    "from nltk.stem import PorterStemmer\n",
    "\n",
    "ps = PorterStemmer()\n",
    "\n",
    "stemmed_words=[]\n",
    "for w in filtered_sent:\n",
    "    stemmed_words.append(ps.stem(w))\n",
    "\n",
    "print(\"Filtered Sentence:\", filtered_sent)\n",
    "print(\"Stemmed Sentence:\", stemmed_words)"
   ]
  },
  {
   "cell_type": "markdown",
   "metadata": {
    "slideshow": {
     "slide_type": "slide"
    }
   },
   "source": [
    "#### Stemming: COGS108 data\n",
    "\n",
    "Here, we obtain the stem (root word) for all tokens in our dataset."
   ]
  },
  {
   "cell_type": "code",
   "execution_count": 57,
   "metadata": {
    "scrolled": true,
    "slideshow": {
     "slide_type": "fragment"
    }
   },
   "outputs": [
    {
     "data": {
      "text/html": [
       "<div>\n",
       "<style scoped>\n",
       "    .dataframe tbody tr th:only-of-type {\n",
       "        vertical-align: middle;\n",
       "    }\n",
       "\n",
       "    .dataframe tbody tr th {\n",
       "        vertical-align: top;\n",
       "    }\n",
       "\n",
       "    .dataframe thead th {\n",
       "        text-align: right;\n",
       "    }\n",
       "</style>\n",
       "<table border=\"1\" class=\"dataframe\">\n",
       "  <thead>\n",
       "    <tr style=\"text-align: right;\">\n",
       "      <th></th>\n",
       "      <th>enjoyed_most</th>\n",
       "      <th>enjoyed_least</th>\n",
       "      <th>most_token</th>\n",
       "      <th>least_token</th>\n",
       "      <th>most_stop</th>\n",
       "      <th>least_stop</th>\n",
       "      <th>most_stem</th>\n",
       "      <th>least_stem</th>\n",
       "    </tr>\n",
       "  </thead>\n",
       "  <tbody>\n",
       "    <tr>\n",
       "      <th>0</th>\n",
       "      <td>I enjoy about learning python. I think learnin...</td>\n",
       "      <td>I really did not enjoy learning ethnic part. A...</td>\n",
       "      <td>[I, enjoy, about, learning, python, ., I, thin...</td>\n",
       "      <td>[I, really, did, not, enjoy, learning, ethnic,...</td>\n",
       "      <td>[I, enjoy, learning, python, ., I, think, lear...</td>\n",
       "      <td>[I, really, enjoy, learning, ethnic, part, ., ...</td>\n",
       "      <td>[i, enjoy, learn, python, ., i, think, learn, ...</td>\n",
       "      <td>[i, realli, enjoy, learn, ethnic, part, ., alt...</td>\n",
       "    </tr>\n",
       "    <tr>\n",
       "      <th>1</th>\n",
       "      <td>Mainly being able to explore the field of data...</td>\n",
       "      <td>Since I have to say something I guess it'll be...</td>\n",
       "      <td>[Mainly, being, able, to, explore, the, field,...</td>\n",
       "      <td>[Since, I, have, to, say, something, I, guess,...</td>\n",
       "      <td>[Mainly, able, explore, field, data, science, ...</td>\n",
       "      <td>[Since, I, say, something, I, guess, 'll, litt...</td>\n",
       "      <td>[mainli, abl, explor, field, data, scienc, too...</td>\n",
       "      <td>[sinc, i, say, someth, i, guess, 'll, littl, c...</td>\n",
       "    </tr>\n",
       "    <tr>\n",
       "      <th>2</th>\n",
       "      <td>Coding is funny</td>\n",
       "      <td>PDF lecture notes should be put on Canvas</td>\n",
       "      <td>[Coding, is, funny]</td>\n",
       "      <td>[PDF, lecture, notes, should, be, put, on, Can...</td>\n",
       "      <td>[Coding, funny]</td>\n",
       "      <td>[PDF, lecture, notes, put, Canvas]</td>\n",
       "      <td>[code, funni]</td>\n",
       "      <td>[pdf, lectur, note, put, canva]</td>\n",
       "    </tr>\n",
       "    <tr>\n",
       "      <th>3</th>\n",
       "      <td>I enjoy the ease of access to assignments, for...</td>\n",
       "      <td>At first, I felt that the Data Ethics or Data ...</td>\n",
       "      <td>[I, enjoy, the, ease, of, access, to, assignme...</td>\n",
       "      <td>[At, first, ,, I, felt, that, the, Data, Ethic...</td>\n",
       "      <td>[I, enjoy, ease, access, assignments, ,, insta...</td>\n",
       "      <td>[At, first, ,, I, felt, Data, Ethics, Data, Pr...</td>\n",
       "      <td>[i, enjoy, eas, access, assign, ,, instanc, ,,...</td>\n",
       "      <td>[at, first, ,, i, felt, data, ethic, data, pri...</td>\n",
       "    </tr>\n",
       "    <tr>\n",
       "      <th>4</th>\n",
       "      <td>Learning pandas and plots</td>\n",
       "      <td>final project</td>\n",
       "      <td>[Learning, pandas, and, plots]</td>\n",
       "      <td>[final, project]</td>\n",
       "      <td>[Learning, pandas, plots]</td>\n",
       "      <td>[final, project]</td>\n",
       "      <td>[learn, panda, plot]</td>\n",
       "      <td>[final, project]</td>\n",
       "    </tr>\n",
       "  </tbody>\n",
       "</table>\n",
       "</div>"
      ],
      "text/plain": [
       "                                        enjoyed_most  \\\n",
       "0  I enjoy about learning python. I think learnin...   \n",
       "1  Mainly being able to explore the field of data...   \n",
       "2                                    Coding is funny   \n",
       "3  I enjoy the ease of access to assignments, for...   \n",
       "4                          Learning pandas and plots   \n",
       "\n",
       "                                       enjoyed_least  \\\n",
       "0  I really did not enjoy learning ethnic part. A...   \n",
       "1  Since I have to say something I guess it'll be...   \n",
       "2          PDF lecture notes should be put on Canvas   \n",
       "3  At first, I felt that the Data Ethics or Data ...   \n",
       "4                                      final project   \n",
       "\n",
       "                                          most_token  \\\n",
       "0  [I, enjoy, about, learning, python, ., I, thin...   \n",
       "1  [Mainly, being, able, to, explore, the, field,...   \n",
       "2                                [Coding, is, funny]   \n",
       "3  [I, enjoy, the, ease, of, access, to, assignme...   \n",
       "4                     [Learning, pandas, and, plots]   \n",
       "\n",
       "                                         least_token  \\\n",
       "0  [I, really, did, not, enjoy, learning, ethnic,...   \n",
       "1  [Since, I, have, to, say, something, I, guess,...   \n",
       "2  [PDF, lecture, notes, should, be, put, on, Can...   \n",
       "3  [At, first, ,, I, felt, that, the, Data, Ethic...   \n",
       "4                                   [final, project]   \n",
       "\n",
       "                                           most_stop  \\\n",
       "0  [I, enjoy, learning, python, ., I, think, lear...   \n",
       "1  [Mainly, able, explore, field, data, science, ...   \n",
       "2                                    [Coding, funny]   \n",
       "3  [I, enjoy, ease, access, assignments, ,, insta...   \n",
       "4                          [Learning, pandas, plots]   \n",
       "\n",
       "                                          least_stop  \\\n",
       "0  [I, really, enjoy, learning, ethnic, part, ., ...   \n",
       "1  [Since, I, say, something, I, guess, 'll, litt...   \n",
       "2                 [PDF, lecture, notes, put, Canvas]   \n",
       "3  [At, first, ,, I, felt, Data, Ethics, Data, Pr...   \n",
       "4                                   [final, project]   \n",
       "\n",
       "                                           most_stem  \\\n",
       "0  [i, enjoy, learn, python, ., i, think, learn, ...   \n",
       "1  [mainli, abl, explor, field, data, scienc, too...   \n",
       "2                                      [code, funni]   \n",
       "3  [i, enjoy, eas, access, assign, ,, instanc, ,,...   \n",
       "4                               [learn, panda, plot]   \n",
       "\n",
       "                                          least_stem  \n",
       "0  [i, realli, enjoy, learn, ethnic, part, ., alt...  \n",
       "1  [sinc, i, say, someth, i, guess, 'll, littl, c...  \n",
       "2                    [pdf, lectur, note, put, canva]  \n",
       "3  [at, first, ,, i, felt, data, ethic, data, pri...  \n",
       "4                                   [final, project]  "
      ]
     },
     "execution_count": 57,
     "metadata": {},
     "output_type": "execute_result"
    }
   ],
   "source": [
    "df['most_stem'] = df['most_stop'].apply(lambda x: [ps.stem(y) for y in x])\n",
    "df['least_stem'] = df['least_stop'].apply(lambda x: [ps.stem(y) for y in x])\n",
    "df.head()"
   ]
  },
  {
   "cell_type": "markdown",
   "metadata": {
    "slideshow": {
     "slide_type": "slide"
    }
   },
   "source": [
    "#### Step 4: Frequency Distribution\n",
    "\n",
    "It can be helpful to get a sense of which words are most frequent in our dataset."
   ]
  },
  {
   "cell_type": "code",
   "execution_count": 58,
   "metadata": {
    "slideshow": {
     "slide_type": "fragment"
    }
   },
   "outputs": [],
   "source": [
    "# get series of all most and least liked words after stemming\n",
    "# note that \"No Response\" is still being included in the analysis\n",
    "most = df['most_stem'].apply(pd.Series).stack()\n",
    "least = df['least_stem'].apply(pd.Series).stack()"
   ]
  },
  {
   "cell_type": "code",
   "execution_count": 59,
   "metadata": {},
   "outputs": [
    {
     "data": {
      "text/plain": [
       "0    0           i\n",
       "     1       enjoy\n",
       "     2       learn\n",
       "     3      python\n",
       "     4           .\n",
       "            ...   \n",
       "313  0       learn\n",
       "     1    incorpor\n",
       "     2        data\n",
       "     3      scienc\n",
       "     4        live\n",
       "Length: 4880, dtype: object"
      ]
     },
     "execution_count": 59,
     "metadata": {},
     "output_type": "execute_result"
    }
   ],
   "source": [
    "most"
   ]
  },
  {
   "cell_type": "markdown",
   "metadata": {
    "slideshow": {
     "slide_type": "fragment"
    }
   },
   "source": [
    "`FreqDist` calculates the frequency of each word in the text and we can plot the most frequent words."
   ]
  },
  {
   "cell_type": "code",
   "execution_count": 60,
   "metadata": {
    "slideshow": {
     "slide_type": "fragment"
    }
   },
   "outputs": [],
   "source": [
    "from nltk.probability import FreqDist\n",
    "import string\n",
    "\n",
    "# calculation word frequency\n",
    "fdist_most = FreqDist(most)\n",
    "fdist_least = FreqDist(least)\n",
    "\n",
    "# remove punctuation counts\n",
    "for punc in string.punctuation:\n",
    "    del fdist_most[punc]\n",
    "    del fdist_least[punc]"
   ]
  },
  {
   "cell_type": "code",
   "execution_count": 61,
   "metadata": {
    "scrolled": false
   },
   "outputs": [
    {
     "data": {
      "image/png": "[encoded data removed]",
      "text/plain": [
       "<Figure size 1224x504 with 1 Axes>"
      ]
     },
     "metadata": {
      "image/png": {
       "height": 468,
       "width": 1014
      },
      "needs_background": "light"
     },
     "output_type": "display_data"
    }
   ],
   "source": [
    "# Frequency Distribution Plot - top 20\n",
    "# for words in what students like most\n",
    "fdist_most.plot(20, cumulative=False);"
   ]
  },
  {
   "cell_type": "markdown",
   "metadata": {
    "slideshow": {
     "slide_type": "slide"
    }
   },
   "source": [
    "#### Step 5: Sentiment Analysis!\n",
    "\n",
    "**Sentiment Analysis** quantifies the content, idea, beliefs and opinions conveyed in text. \n",
    "\n",
    "Two general approaches:\n",
    "\n",
    "1. **Lexicon-based** - count number of words in a text belonging to each sentiment (positive, negative, happy, angry, etc.)\n",
    "2. **Machine learning-based** - develop a classification model on pre-labeled data\n",
    "\n"
   ]
  },
  {
   "cell_type": "markdown",
   "metadata": {
    "slideshow": {
     "slide_type": "slide"
    }
   },
   "source": [
    "### Sentiment Example\n",
    "\n",
    "To get a measure of overall sentiment in our text, we'll compare our text to the VADER lexicon."
   ]
  },
  {
   "cell_type": "code",
   "execution_count": 62,
   "metadata": {
    "slideshow": {
     "slide_type": "fragment"
    }
   },
   "outputs": [],
   "source": [
    "from nltk.sentiment.vader import SentimentIntensityAnalyzer \n",
    "analyser = SentimentIntensityAnalyzer()"
   ]
  },
  {
   "cell_type": "markdown",
   "metadata": {
    "slideshow": {
     "slide_type": "fragment"
    }
   },
   "source": [
    "VADER handles:\n",
    "\n",
    "- capitalization (great vs GREAT) & punctuation (exclamation makes more positive!)\n",
    "- emojis and emoticons\n",
    "- degree modifiers (extremely good vs. marginally good)\n",
    "- contractions and conjunctions (but signals shift)"
   ]
  },
  {
   "cell_type": "markdown",
   "metadata": {
    "slideshow": {
     "slide_type": "fragment"
    }
   },
   "source": [
    "`pos` + `neg` + `neu` = 1\n",
    "\n",
    "**`compound`** score - metric that calculates sum of all the lexicon ratings and normalizes between -1 (most extreme negative) and +1 (most extreme positive)\n",
    "- positive: `compound` >= 0.05 \n",
    "- neutral: -0.05 < `compound` < 0.05\n",
    "- negative : `compound` <= -0.05"
   ]
  },
  {
   "cell_type": "code",
   "execution_count": 63,
   "metadata": {
    "slideshow": {
     "slide_type": "fragment"
    }
   },
   "outputs": [
    {
     "data": {
      "text/plain": [
       "{'neg': 0.0, 'neu': 0.326, 'pos': 0.674, 'compound': 0.7351}"
      ]
     },
     "execution_count": 63,
     "metadata": {},
     "output_type": "execute_result"
    }
   ],
   "source": [
    "analyser.polarity_scores(\"The class is super cool.\")"
   ]
  },
  {
   "cell_type": "code",
   "execution_count": 51,
   "metadata": {
    "slideshow": {
     "slide_type": "fragment"
    }
   },
   "outputs": [
    {
     "data": {
      "text/plain": [
       "{'neg': 0.561, 'neu': 0.439, 'pos': 0.0, 'compound': -0.6259}"
      ]
     },
     "execution_count": 51,
     "metadata": {},
     "output_type": "execute_result"
    }
   ],
   "source": [
    "analyser.polarity_scores(\"The class is not super cool.\")"
   ]
  },
  {
   "cell_type": "code",
   "execution_count": 52,
   "metadata": {
    "slideshow": {
     "slide_type": "fragment"
    }
   },
   "outputs": [
    {
     "data": {
      "text/plain": [
       "{'neg': 0.574, 'neu': 0.426, 'pos': 0.0, 'compound': -0.6597}"
      ]
     },
     "execution_count": 52,
     "metadata": {},
     "output_type": "execute_result"
    }
   ],
   "source": [
    "analyser.polarity_scores(\"The class is NOT super cool!\")"
   ]
  },
  {
   "cell_type": "markdown",
   "metadata": {
    "slideshow": {
     "slide_type": "slide"
    }
   },
   "source": [
    "#### Sentiment Analysis: COGS108 data\n",
    "\n",
    "Here, we will calculate the sentiment of each most liked and least liked student response from the survey."
   ]
  },
  {
   "cell_type": "code",
   "execution_count": 64,
   "metadata": {
    "slideshow": {
     "slide_type": "fragment"
    }
   },
   "outputs": [
    {
     "data": {
      "text/plain": [
       "['I enjoy about learning python. I think learning pandas package enable me to clean my data in more efficient way. Also, I achieve a better tool to express my data, when I learned data visualization.',\n",
       " \"Mainly being able to explore the field of data science and tools to work with and analyze real data out there in the world. I think it's cool to be able to work with the data to be able to deduce interesting stats or facts that are not easily seen without tools.\",\n",
       " 'Coding is funny',\n",
       " 'I enjoy the ease of access to assignments, for instance, completing assignments via DataHub and Canvas is very simple and convenient.',\n",
       " 'Learning pandas and plots',\n",
       " 'Coding is funny',\n",
       " 'Hand on experience and discussion about pandas and seaborn functions.',\n",
       " 'I have enjoyed the case studies learning about interesting applications of Data Science.',\n",
       " 'Juypter Notebook',\n",
       " 'Applying skills from COGS18 to real-world scenarios such as experimenting.  My python skills are not being exercised.',\n",
       " 'The process. It could be ugly at the start of a assignments, but it comes together and I learn the ins and outs through struggling and trial and error. ',\n",
       " 'I enjoy learning Python and especially how I can apply that in my future career. It is a new programming language to me as I only know Java so far. But learning Python is helpful and I know more about how scientists can put the data together to answer questions.',\n",
       " 'What I have enjoyed the most are the detailed responses from emails. The large amount of feedback is rare to see, and it makes it much easier to stay on the right track for the project.',\n",
       " \"Love the lectures and the amount of information given during them. It does not seem like it's overwhelming. It feels like the perfect amount :) \",\n",
       " 'Learning how to use pandas has been incredibly useful for other classes. ',\n",
       " 'I enjoyed learning using github, as well as data wrangling. ',\n",
       " 'I have enjoyed the ethics lectures the most as I think the concepts are extremely important',\n",
       " \"I've enjoyed doing the A2 assignment because I thought that one was fairly easy to do, and it felt good when I understood how to write the code.\",\n",
       " \"I like the hands-on experience I've been getting with Python in relation to its applications with data wrangling and data visualization designs. I feel like having so many opportunities for hands-on learning has really solidified the fundamentals of using Python to perform data analytics, and Prof. Ellis always offers clear, easy-to-understand instruction whenever getting us started on the basics.\",\n",
       " \"I like the hands-on experience I've been getting with Python in relation to its applications with data wrangling and data visualization designs. I feel like having so many opportunities for hands-on learning has really solidified the fundamentals of using Python to perform data analytics, and Prof. Ellis always offers clear, easy-to-understand instruction whenever getting us started on the basics.\",\n",
       " \"I've enjoyed learning Python and the overall organization of the course. I've been meaning to learn Python for a long time and it's nice to have the chance to both learn and apply it to assignments and projects. In terms of the organization, it's really nice that students know pretty much exactly what to expect week to week as it allows us to plan ahead in relation to other classes as well.\",\n",
       " 'Hands on learning of seaborn and pandas. Also just the idea of fermi estimation (which I will now use for the rest of my life).',\n",
       " 'I have most enjoyed the team aspect of COGS 108. As a computer science major, it is refreshing to be able to work with a larger team and be able to hear the thoughts and ideas of many other people. I like that this class revolves around such an interesting project where there is a large amount of flexibility, such as free choice of topic. ',\n",
       " \"I'm really not a fan of the material, but I like how Prof Ellis walks us through the notebooks and how the coding stuff is explained very clearly. Having the explanations in the class notebooks makes doing the discussion labs and assignments a lot easier since I can usually check the class notebook and reliably find the code I need.\",\n",
       " 'Professor is always a joy to have in the class, work is spaced out and not too difficult. ',\n",
       " 'the discussions and hw',\n",
       " 'no midterms, i feel like i learn more from the assignments than i would a test',\n",
       " 'I have enjoyed learning how to incorporate coding into data analysis. ',\n",
       " 'I have learned a new way to look at data, and had great fun doing research on our project. ',\n",
       " 'The group project. I think it is really productive and helpful to feel what group coordination would be like in the real world, like in a job or research prosition.',\n",
       " \"The class rhythm is good for me and because there is no midterm and final, it gives me more time to figure out what's the meaning behind each question. I think I can learn more in this way.\",\n",
       " 'I liked exploring ways to represent different visualizations using same dataset and the importance of ethics in data science was intriguing too.',\n",
       " 'I enjoyed learning about the different data files, such as CSV, JSON files, and learning about how to use pandas to create different datasets and tables.',\n",
       " 'I like the structure of the class and how we work in teams. It makes me feel less stressed in knowing that I have a team to collaborate with this quarter instead of having to do a huge project on my own. I think that even though its through zoom, it offers students the ability to chat and get to know each other in a time where that is limited not only in our social and personal lives but also in school work. I think its a nice break and overall makes me feel more confident in the class.',\n",
       " 'I have enjoyed the learning of python. I can now easily use this language to analyze data.',\n",
       " 'I enjoy learning the python library pandas. I know it is an important skill for data analyze, it is worth to learn in this class since it will be more helpful for my future career!',\n",
       " 'I enjoy doing the assignments, it is pretty difficult with no python experience and I am also not great at coding, so it does take a lot of time, but figuring out the code when I’m stuck can be fun sometimes. ',\n",
       " 'Learning about pandas, it is very interesting',\n",
       " \"The class is very structured and despite having many assignments, they're all due on Friday every week, so it's easy to remember. \",\n",
       " 'Learning about ethics in COGS 108 was really interesting for me but I am biased because I love when ethics are involved in anything',\n",
       " 'I liked learning to do different types of plots using seaborn/matplotlib/pandas',\n",
       " 'The lecture and homework structure is super clear.',\n",
       " 'A lot of resources; reasonable amount of workload. ',\n",
       " 'The content of the course is really helpful, and I think I actually learn something about how to apply data science.',\n",
       " 'The thing I have enjoyed MOST about COGS 108 so far is working on the group project. During this time of remote learning, I believe things like group projects help people feel less isolated and give students an opportunity to better connect with their peers.',\n",
       " 'I like working with a team and learning from other team members.',\n",
       " \"I like the pace of lecture and assignments. It's almost a perfect balance of being able to learn a lot at an optimal level without having excessive stress.\",\n",
       " 'I enjoy the option to watch the lectures asynchronously such that I can watch the lectures at my own pace and pause when I need to.',\n",
       " \"The professor's lectures are very engaging.\",\n",
       " \"I've enjoyed working with my group towards the final project since it seems very interesting how we can work on our own real data science project. \",\n",
       " 'I have been enjoying the teaching style! Professor Ellis has been very engaging in the way she has explained concepts, and has given very clear answers to questions.',\n",
       " \"I think what I enjoy most is that we're able to apply concepts taught in class towards a project. It gives us more experience through hands-on learning. I also like the fact that we have discussion labs that help with future assignments.\",\n",
       " 'My favorite part so far is going to the lectures, bc Professor Ellis is really passionate about Data Science and I like learning about how to conduct research and do data analyses, etc. ',\n",
       " 'Enjoyable subject matter and assignments',\n",
       " 'This is a nice extension to 18 for me to learn about visualizing data instead of just the programming aspects of python.',\n",
       " \"I really enjoy the labs. They teach me the practical python skills that other classes won't.\",\n",
       " 'I have enjoyed brushing up on my pandas and matplotlib skills, plus learning about seaborn',\n",
       " \"So far, the most I have enjoyed about COGS 108 is being able to finally work with data. I have for so long wondered what exactly Data Science consists of, and being able to have hands on experience with organizing and analyzing data has given me confidence that I'll be able to employ these skills at future tech jobs. I enjoy the assignments that make sure I keep my practice up and it's honestly so exciting whenever I get a cell to run. I'm very excited for this class, and I've already had employers ask about this course while interviewing for internships, and they've shown great interest in the knowledge I'm gaining from it! \\n\\nI have also thoroughly enjoyed the group work and my team mates are all amazing. It's been tough not being on campus, so it's nice to communicate with students through group projects.\",\n",
       " 'Learning how to use Python',\n",
       " \"Getting to understand more about how visualizations are created. I didn't understand how complicated the code could be for creating visualizations from a data frame. \",\n",
       " 'I enjoy going to and watching the lectures. The way you teach and bring positive energy for an early class makes me want to be there and learn. I also love how you read out the questions in the chat before answering them because it makes it easier for me to review when rewatching the lecture videos.',\n",
       " 'I really enjoyed learning new knowledge about Python and having chance collaborate with other students',\n",
       " 'I have liked the lectures a lot, as even though some of the information is confusing, I am often engaged.',\n",
       " 'The class lectures, overall i like the format of the course lectures since it feels really well explained for the content and the format makes it easy for me to understand (even if I am participating A-sych).',\n",
       " 'I have really liked the datahub assignments. It really allows me to learn by using trial-and-error to work through problems.',\n",
       " 'The content has been very useful.',\n",
       " 'Applications of concepts to code',\n",
       " 'The discussion labs because they allow me to practice things before assignments with little pressure.',\n",
       " 'I think the lecture is pretty fun and interesting and the data visualization is enjoyable sometimes.',\n",
       " \"Nothing at the moment (and I mean that in a non offensive way), but I'm hoping that working on this group project might be something I end up finding interesting. This might be the downside of this class being online.\",\n",
       " \"I enjoy the content of this course a lot! I'm really excited to have the opportunity to work on a project with team members as this is one of my first project based classes. I also really enjoy the research and data analysis of this course because I think it is a valuable experience. \",\n",
       " \"Think I enjoyed making plots with seaborne cause I'm visual learner and I like visual representation\",\n",
       " 'Meeting interesting classmates',\n",
       " 'I was hesitant/apprehensive about remote group projects, not being able to meet in-person, but I have ended up enjoying working with others. This is definitely not something I would have done out of my own volition, so I am glad this class has gotten me to do it.',\n",
       " \"I enjoyed working on the group project. It's an awesome chance to apply what we learned in class on a project we're interested in.\",\n",
       " \"I've enjoyed being able to watch and stay caught up with lectures on my own time. I also really like the exploratory nature of the discussions because they allow me to test where I'm at and also see where I can afford to expand my knowledge without confusing myself.\",\n",
       " 'The topics are interesting.',\n",
       " 'the assignments allow you to learn things and figure them out',\n",
       " 'Working in a group! I havent worked in a group in a long time.',\n",
       " 'Group project leads opportunities to talk to peers.',\n",
       " 'learning how to write code for the various assignments',\n",
       " 'Definitely been enjoying using Pandas and NumPy (useful skills esp for data science)',\n",
       " 'The assignment due on the same day. I will not miss any due.',\n",
       " 'I really liked the group project, working together with a group on a insightful topic of our interests, and being able to really apply the analysis skills we learnt from classes to some real world questions.',\n",
       " \"I've really enjoyed the group project structure, and getting to interact with other students even if its remotely through zoom computer screens\",\n",
       " 'I love the way we could work on a project to promote learning',\n",
       " 'Learning about pandas and different things to do with data.',\n",
       " 'I enjoy learning so many codes, I am now really comfortable in python.',\n",
       " 'Learning about how to manipulate data has been fun',\n",
       " 'While looking for an idea for the project proposal, I was looking through the previous projects for inspiration. I found a lot of the projects interesting and how they were able to ask insightful questions and answer them using data science. ',\n",
       " \"I've had a lot of fun working on the project review and project proposal with my teammates. All of our team members try to contribute and give their opinions, which was great. I also enjoyed going to live lectures or watching the recorded lectures. The topics are interesting and I like how everything is explained nicely so that we can easily understand everything.\",\n",
       " 'assignments and discussion',\n",
       " 'After finished the assignment or lab it the most enjoyable time I have in COGS 108',\n",
       " \"I like how Professor Ellis goes through the notebook in class and we are able to follow along, so I guess it's the format of the Jupyter notebooks that allows this. Also, the fact that she goes through all the cells in lecture is helpful. \",\n",
       " \"The assignments have been really fun. In my classes thus far as a CS major I don't really recall the last time I had fun throughout the process of a programming assignment. Moreso it has just been a rush of adrenaline when finishing a lab but for this class it's fun throughout.\",\n",
       " 'Being able to approach the project with my group so far',\n",
       " \"I've enjoyed working on a long-term project that feels like something I created.\",\n",
       " 'I have most enjoyed being able to actually do data science related tasks.',\n",
       " 'The assignments are a good look into Pandas',\n",
       " 'The lectures in datahub, they are very clear and a good review of Python information while explaining why certain choices are made for analysis',\n",
       " \"Learning how to apply Python to Data Science. I previously took COGS 18 to learn the basics, but it's been really fun to learn how to apply it to data science problems.\",\n",
       " 'The office hours and the study environments since we have multiple resource to ask for help or questions.',\n",
       " 'Learning about the possible research questions we can answer using data science',\n",
       " 'Being able to do the final project a group. It really helps being able to bounce ideas off 3-4 other people.',\n",
       " 'learning about various python libraries; I have a lot of experience in Python but never delved into the basic usage of these useful libraries.',\n",
       " 'I enjoyed recapping on Python, which I taught myself using online resources during high school. I also enjoyed learning how to get going on the data science project.',\n",
       " \"Getting to make data visualizations! I've only really ever done something similar to it when I took AP Statistics in high school and would run statistical graphs on my TI-nspire software, but nothing as interactive and fun as making the visualizations for discussion labs and assignments.\",\n",
       " 'The thing I have enjoyed the most about COGS 108 is the lectures and material we have covered in class, because it is throughly explained and easy to conceptualize.',\n",
       " 'Learning and trying code out in datahub and seeing how the code changes data. It is cool to see how edits in code can manipulate data tables.',\n",
       " 'I enjoy the lectures the most. Professor is prepared and delivers very informative materials in a fun way. A good start for my mornings.',\n",
       " 'The project is the most fun and greatest learning experience thus far',\n",
       " 'The assignments',\n",
       " 'So far I have enjoyed learning about Pandas and how to use it in conjunction with data. It is my first time taking a data science course so I had no familiarity with the package beforehand so it has been interesting to learn how effective it is in reading data and processing it in analytical way.',\n",
       " 'I’ve most enjoyed the lectures. Dr Ellis is a very engaging professor!',\n",
       " 'Lectures are not boring. ',\n",
       " 'Getting to work on data project with groups on the topic that we are interested in',\n",
       " 'Learning how to handle data through Python libraries.',\n",
       " 'Meeting my team.',\n",
       " \"I love Ellis's teaching style. She's very clear in her speaking and thought and is very responsive to the comments. \",\n",
       " 'I learn a lot on python, it is find of fun at the beginning.',\n",
       " 'Learning pandas ',\n",
       " \"Professor Ellis's lectures\",\n",
       " 'I enjoyed that there are many extra resources and materials provided by the course github page.',\n",
       " 'I have enjoyed the assignments because I have been able to practice my skills with some cool real world examples.',\n",
       " 'I enjoy how interactive the discussions and homework are.  I feel like the ideas that are taught in lecture are immediately enforced with the discussion assignments and homework.  It helps to retain the information in a low stake manner.',\n",
       " 'Having many chances to practice (projects, assignments, discussions)',\n",
       " 'I really enjoyed using models we learned to visualize data. ',\n",
       " 'the group project. So I get to meet people and make friends with my groupmates.',\n",
       " 'The lectures. Learning to conduct a data science research is pretty cool.',\n",
       " 'Incorporation of course material into jupyter notebook and github, which allows me to practice using those tools while studying the course. ',\n",
       " 'learn to use seaborn to plot visualizations for dataset',\n",
       " 'I enjoyed what I could learn from this course because I feel like all the things that I am learning now are not so challenging to me and those things will definitely be helpful in the future.',\n",
       " 'learning different method and information about data analysis',\n",
       " 'Dataframes are pretty cool',\n",
       " 'I enjoy the assignments the most, since I learned pandas before but was unfamiliar with the syntax, so I picked up the syntax while doing the assignment.',\n",
       " 'chill people. noice professor.',\n",
       " \"I've enjoyed how visually understanding the lectures are, they are easy to follow which makes the class less daunting. (Also, the energy of the class!)\",\n",
       " 'assignment and lecture, learned alot from the lecture,and use it on our assignment is fun.',\n",
       " 'Looking all those data become organized is so fun!',\n",
       " 'The asynchronous nature of the class, it is easy for me to be flexible around when I can do work for this class during the week, and allows leniency for other classwork.',\n",
       " 'I love the exploration of ethics and statistics that we have engaged in. It’s really important to make clear that ethical usage of data needs to be a priority. Tying data science with its statistical roots also helps me grasp the Python implementation of statistical analysis that we perform in this class, even if it’s currently limited to descriptive statistics and representation. ',\n",
       " 'Learning about how to manage different data.',\n",
       " \"I  like how the discussion labs are graded on effort. Sometimes I can't figure out the correct methods to use, so it's less stressful.\",\n",
       " \"seeing real life applications to the concepts we're learning about (i enjoyed the candy data set in A2!)\",\n",
       " \"So far I enjoy learning from the assignments. I think they're applicable and are helpful in terms of the material.\",\n",
       " 'Coding Assignments, because its been my first experience with python and i have found it interesting so far',\n",
       " 'How the class is organized, ie I like how the Discussion slides are graded based on completion rather than correctness so that it makes it less stressful',\n",
       " \"I've enjoyed going through the discussion notebooks and the assignments. I thought they were a good review for the concepts and processes that I've previously learned in DSC classes.\",\n",
       " 'the assignments. working with data is actually quite fun. really looking forward to the group project',\n",
       " \"I've enjoyed learning about pandas, seaborn, and data visualizations I never knew we could do in python. I've been learning a lot so far.\",\n",
       " 'I like being able to work in a group, especially during covid ',\n",
       " 'Lecture is most I enjoyed. I likes how you use example to explain those technical  things.',\n",
       " 'The coding as I like Jupyter Notebok.',\n",
       " 'I have enjoyed learning the essentials to becoming comfortable coding with Python.',\n",
       " 'Getting to do some hands-on Pandas stuff in smaller doses with the discussion notebooks.',\n",
       " 'I have liked how topics are discussed in lecture in a clear and organized manner. I also like all the project deadlines to keep us on track and that it is all spaced out ',\n",
       " \"I've really enjoyed getting to experiment with dataframes, and the idea of learning modules like pandas, matplotlib, and numpy,\",\n",
       " \"It has been fun working in python given that it's a new language to me; I have enjoyed learning the new syntax and am enjoying the simplicity (and dynamic typing) in python.\",\n",
       " 'I enjoy the data visualization',\n",
       " \"Constantly learning new materials on Python and Pandas. There's so much to data science and computer science I don't know about. Having a glimpse into the two worlds is quite intriguing and eye-opening. \",\n",
       " 'I enjoy working with python',\n",
       " 'The lectures are very chill and not too intense material. The class is very decently paced including assignments and due dates.',\n",
       " \"I've learned new data science techniques that seem to be pretty useful skill to have in my repertoire as an EE student. \",\n",
       " \"I really like getting more experience with pandas and the data visualization packages. I'm going to have to use both (and R) in my work when I graduate, so it's good to be learning them now.\",\n",
       " 'clear explanation on concepts',\n",
       " 'I enjoy learning a lot about data science because it is a new subject to me since I am a math-cs major. ',\n",
       " 'Flexibility with deadlines and assignments along with how everything we need to know is covered in lecture!',\n",
       " 'To try to find ways of solving actual research questions through coding and do peer review of projects that were done by previous groups',\n",
       " \"The thing I enjoy most is being able to create our own project and work with others in a group. I think that it's really important to learn to work with other people for big and important projects because it helps to prep us for our futures where we aren't just working alone on everything. It's also really enjoyable that I can work with other people because remote learning can be very boring while staying at home all day. \",\n",
       " 'Datahub/Jupyter having never used it before; it is nice to learn and do the homework as I progress.',\n",
       " \"I have enjoyed the structure of the material and the way lectures have been carried the most. I do feel like there is good explanations and care for the students' learning.\",\n",
       " 'I enjoyed learning how data relates to the real world and being able to understand data better. I enjoyed the real life examples talked about in class. ',\n",
       " 'I enjoyed learning more applications of Python. I think it will be very beneficial to me later on in my life',\n",
       " 'Hands-on Data Science project - actually get to learn on the go',\n",
       " 'I enjoyed the lectures and assignments from COGS 108 so far. The assignments are very helpful in understanding lecture material, and I enjoy that it goes more in depth with certain topics, forcing you to look up the manual of methods and such for pandas, seaborn, etc. I also enjoy the lectures in how they are very concise and straight to the point on information, which makes it easier to take in the material when viewing the lecture.',\n",
       " 'What I have enjoyed most about COGS 108 is using Jupyter Notebook. By using different libraries on Jupyter Notebook, I have become more familiar with the datasets and learned some sense of analyzing it!',\n",
       " \"I really enjoy learning the technical skills we've been learning especially with pandas in python. I had taken DSC10 before but we were using a different version of pandas and it's been really interesting+challenging learning how to use pandas and applying it to the project.\",\n",
       " 'The data visualization part is really useful',\n",
       " \"I've enjoyed learning more about the pandas package. In cogs 18, we just briefly went over it and at that time, it didn't seem like it could do much. However, just by going over A2, it really is a powerful tool and it was interesting to me to see how lines of code could result in visual images such as graphs and that there are multiple ways to change the graph to fit my image. \",\n",
       " 'The class is interesting and teaches us useful skills of data analyze',\n",
       " 'I liked learning about pandas and other libraries.',\n",
       " 'I like how we think of our own ways to apply what we learn in a project',\n",
       " 'When we learn data visualization, it is fun to see how the codes related to the graph it created.',\n",
       " 'I enjoy learning how to wrangling the data and use it to solve real problems.',\n",
       " 'It is fun to develop my python skill. ',\n",
       " 'How everything due each week is due on Friday and that theres a slide saying what is due on Friday.',\n",
       " 'The lectures! I really wish I took this class when I was learning pandas. My old classes told us to learn by reading the documentation. And including misc-related things like the Fermi problem I LOVED. I also love how structured the class is and how assignments can be validated through datahub. I wish my DSC classes also did this.',\n",
       " 'I enjoyed doing the discussion labs and assignments. I like learned about how to use data and analysis the figures that come from data.',\n",
       " 'learning to use Pandas',\n",
       " \"Using and learning more about Jupyter Notebooks. I haven't used it since my DSC10 class and it is just so fascinating how much more efficient and convenient it is than using a text editor such as atom. \",\n",
       " 'The lectures, easy to follow',\n",
       " 'The class is very organized and structured well to give students both enough flexibility and challenges to adjust their workload for the class appropriately each week.',\n",
       " 'I have loved working on the COGS108 discussion and assignment notebooks. Working with real data and coming up with an analysis on the data is satisfying for me personally. Additionally, I have enjoyed the collaborative aspect of the project and being able to interact with other people while working remotely.',\n",
       " 'Learning how to do things in python in a structured and easy way',\n",
       " \"The lectures focus on material that is relevant for assignments/labs. In some classes, the professor doesn't discuss the concepts we need to use on homework. This has not been the case in Cogs 108.\",\n",
       " \"Lecture content is being taught well with good pacing, professor knows what she's doing. \",\n",
       " 'The lectures have been really interesting, and I have enjoyed them a lot.',\n",
       " 'working with my group, gradually working through the project',\n",
       " 'I like working with datasets',\n",
       " 'Watching recorded videos, and being able to generate the plots and arrive at the right result.',\n",
       " 'Learning more python, seeing concepts learned in cogs 18 expanded on for more practical applications.',\n",
       " \"I enjoy that we learn about a variety of topics really quickly! I feel like I'm learning a lot in just a few weeks.\",\n",
       " 'communication with groupmates ',\n",
       " \"Learning the theory behind data visualization. It's something that I didn't really give too much thought about til we learned more in class. I think it's really interesting that there's so much that goes into it. \",\n",
       " 'Going through the experience of working on a data science project as part of a team.',\n",
       " 'Learning about the different aspects of data science',\n",
       " 'I have enjoyed going over how to better use visualization tools in order to show particular data.',\n",
       " 'Data wrangling has actually been quite interesting. I struggled at first, but after a while it has started to become fun to figure out ways to extract the data I want and then to have a visual for it.',\n",
       " 'Having the freedom to do a project on something I am interested in',\n",
       " \"I've enjoyed the content of the classes the most so far! It's all interesting\",\n",
       " 'I loved learning how ethics is not overlooked! I always wanted to learn more about ethics, and I am glad that this classes does not fail to mention them. It keeps me reminded on how I need to be a responsible engineer. ',\n",
       " 'Learning skills in data analysis which make good use of it',\n",
       " 'I like the learning of pandas as I previously had a class that used it, but was not taught it. Therefore, I manipulated data without actually understanding what I was doing.',\n",
       " 'The lectures have been very pleasant. I love the style of class and how professor Ellis has made the material easy to understand.',\n",
       " 'Learning new tools/methodologies for parsing and analyzing data',\n",
       " 'Learning about the entire field of Data. This is my first data science class, so i find it all really interesting.',\n",
       " \"It's a lot more relaxed and not as demanding. \",\n",
       " \"Data visualizations! Being able to actually see the code I wrote (and you taught) be put into sight was super cool. But besides the concepts we've learned, I really enjoy how patient and fun of a lecturer you are. Big shoutout to the oh-so patient TA's as well\",\n",
       " 'The assignments and labs are really clear',\n",
       " \"I surprisingly enjoy figuring out how to properly code in Python during the assignments, perhaps because I hadn't coded for a while (since CSE 11 last winter). It's satisfying how quickly I can run my code in the jupyter notebook!\",\n",
       " 'My favorite portions of COGS108 were those that had direct real-world parallels, like when we were going over github and when we went over data bias.',\n",
       " 'meeting my group members',\n",
       " 'I really enjoyed learning new Python techniques and just more about data science in general.',\n",
       " 'freedom of final project, ta/prof contact and accessibility',\n",
       " 'I am enjoyed learning about accessing libraries and dataframes to create visuals. ',\n",
       " 'Learning how to wrangle data',\n",
       " \"meeting new people in the group projects because it helps it feel like the class environment (which I never thought I'd miss) + how applicable what we're learning about \",\n",
       " 'I have enjoyed learning more about using pandas to visualize data. The assignments so far have been great learning experience.',\n",
       " 'The assignments have been challenging, but in a good way. It feels good when. my code finally works',\n",
       " 'Working with my group',\n",
       " 'The seabron and the plotting from python.',\n",
       " 'Learning more about data science',\n",
       " 'This is the only class I have this quarter that is both well organized and engaging. My other classes make it extremely difficult to learn even by remote learning standards, so this class is the semblance normalcy for me. ',\n",
       " \"I really like working with data and programming in python overall so thats what I've liked the most so far (the opportunity to learn about the power of data and see it personally through programming assignments in python)\",\n",
       " 'All the ways that python can be used to keep track of data',\n",
       " \"I enjoyed the most doing the assignments because they're informative and give a thorough understanding of how to use pandas and seaborn.\",\n",
       " \"I actually like doing the partner project since it gives me an opportunity to meet with new people. I think the way the project is structured is done very well. Most classes have final projects and you only start doing work for it in maybe the last 2 weeks, but in this class we started very early and I like that. It's super well structured and gives us a good start without having to scramble at the last minute to finish anything.\",\n",
       " 'The lectures and assignments have been really helpful in teaching the basics of pandas and hands on with manipulating datasets. ',\n",
       " 'I enjoy doing the group project because it offers me an opportunity to communicate with my classmates in remote learning.',\n",
       " 'simplicity of demands',\n",
       " \"What I enjoyed most about COGS 108 so far is the overall set-up of the assignments. I have learned from every single assignment that I did so far. They also are set up to build on each other and there doesn't seem to be a dramatic jump in difficulty between them.\",\n",
       " 'The group work. My team and I picked a very interesting topic and talking about it and speculating what we might see is fun.',\n",
       " \"I really enjoy the pace of this class. The discussion labs help us think more about the material on our own without too much stress, as well as helping prepare us for the homework and project. This class gives us time to practice what we've learned in class before moving too quickly on to another topic. \",\n",
       " 'The content in general is really interesting. I find the way that we are able to acquire data from websites and other places so cool.',\n",
       " 'Learning about the data wrangling techniques. I love data analysis and how it could be applied to literally any field to make hypothesis about relationships between variables and draw conclusions.',\n",
       " 'The coding assignments on datahub',\n",
       " 'I like the structure of the class. Concise, well laid out lectures. Assignments all due on Friday. ',\n",
       " 'Learning how to analyze and visualize data ',\n",
       " 'I think that the lectures are pretty informative and helpful.',\n",
       " 'A lot of the material I have learned in other classes so far but I like familiarizing myself with GitHub. Wish we could do a little more with it though.',\n",
       " \"I've enjoyed doing the Discussion assignments because they're helping me practice my Python skills. \",\n",
       " \"Working with python has been my favorite part. I have used java in my last several computer science courses and getting to use python feels like a breath of fresh air because it's so much more intuitive and it works better for me. Also, I quite like working and submitting in Jupyter.\",\n",
       " 'I like the hands-on Jupyter notebooks and the flexible course schedule.',\n",
       " 'I enjoy completing the discussion labs and assignments, I think it is quite helpful.',\n",
       " 'So far, I have really found it useful to get a refresher on the basics of data science and programming with data in general. Sometimes, in more complex classes, I just end up googling at every step, so its nice to go back and revise the basics, to solidify my understanding.',\n",
       " 'The application of our new skills and methods towards the goal of making a project, rather than memorizing for an exam',\n",
       " 'Assignment 2!',\n",
       " 'Wide variety of information being taught - clear explanations for new information introduced, along with plenty of material (discussion) to explore aspects not covered in class. Lectures are a good mix of notebooks with hands-on learning and pdfs for other material.',\n",
       " 'learning python, being able to make quick graphs of a data set feels like an extremely valuable skill. ',\n",
       " 'I liked learning and using Pandas in A2.',\n",
       " 'Learning pandas and learning more about python. I enjoy the content being taught. I find the information to be helpful and a nice tool to use if I ever need to use it in the future.',\n",
       " 'Guided DataHub assignments; I think progressive application of material helps me to learn the best',\n",
       " 'I really enjoy the way we look at the notebooks in class and see how things actually work.',\n",
       " 'Being able to learn about so many different things about data science. This course really opens a door for me. :)',\n",
       " 'I really like working with Jupyter Notebooks for lecture notes because it is interactive and allows me to explore the codes also after lectures.',\n",
       " 'The ability to come up with a project idea on our own and pursue the research in a reasonable structure',\n",
       " 'Learning python',\n",
       " 'I enjoyed how beginner-friendly and kind all my groupmates, the professor, and staff have been for this class. I would say this is the epitome of a positive, open-minded learning environment. I also enjoy how welcoming and easy-to-talk-to Professor Ellis is.',\n",
       " 'I have enjoyed the research on different topics for the group project.',\n",
       " 'Covers everything required for data science',\n",
       " 'I have learned how to wrangle data by using pandas and seaborn packages, and the Fernmi estimation. So far in my opinion, python is more flexible language to deal with data analysis than other languages like C++ or Java. ',\n",
       " 'I enjoyed discuss with my partners and we came out a lot of ideas.',\n",
       " \"I enjoyed learning about the differences between the different graphing libraries. Though I used the different libraries, I didn't fully understand the differences. \",\n",
       " 'How the assignments guide you on what to do. For example, A2 had examples of how to use the operations it wanted us to us',\n",
       " 'the class structure',\n",
       " 'Exploring what python can do',\n",
       " 'The lectures are engaging and interactive!',\n",
       " 'The Assignment PAs, they feel thoroughly written ',\n",
       " 'Learning how to utilize Python to conduct data analysis and learn more about given research topics seems highly useful and applicable in future projects.',\n",
       " \"I've enjoyed the programming aspects like interacting with pandas the most. Coming into this course, I was already comfortable with programming in general, but I never took the time to familiarize myself with these popular python packages. So, I think it's been a great first exposure to these tools.\",\n",
       " \"I've enjoyed the lectures, straightforward directions, and available help\",\n",
       " 'I like the group work setting. I enjoy that I am allowed to choose my own teammate. In classes where I have no control over my teammate, I find it very difficult to hold my teammates accountable and thus my grade was affected. I also like the optional discussion/lab. I have learned a lot from the discussion while not having to worry about losing points during the process.',\n",
       " \"I've enjoyed everything for the most part. I feel like I'm learning a lot in regards to data science and the curriculum is interesting and engaging..\",\n",
       " \"I enjoyed the amount of time we get to complete the assignments. A lot of us having a lot going on, so it's nice to not be on a time crunch for everything.\",\n",
       " 'The live lectures are really nice',\n",
       " 'I enjoyed most about how we get to practice the skills that we need in Jupytr notebook. I feel like the assignments and discussion are helpful. ',\n",
       " \"I'm glad that i learned how to wrangle dataset and create colorful plots to find relationship between numbers and objects.\",\n",
       " \"Although the most difficult, I have truly enjoyed the Assignments in the class so far. Although we've only done the assignments on the easier end, I've enjoyed tackling each problem, and have found myself surprised at how much I've learned! I really enjoy the open-ended type of questions that allow me to think about what strategies I can use - although the occasional hints are also extremely helpful! \",\n",
       " 'Learning how to use the different python libraries.',\n",
       " 'For a class that has a coding prerequisite, I like how the professor is still taking the time to explain basic concepts instead of rushing right in. Without having a strong coding background, I am still able to follow along most of the times and the pacing allows for slow listeners and slow learners to not fall behind.',\n",
       " 'Seeing how I can  use code to find the average  of my data or any other information I need from a data frame is something I have enjoyed. It is pretty neat that I do not have to go through all the data, but instead I can write a  a code that will fetch the data for me. ',\n",
       " \"I like that most of the material (python libraries, EDA, and ethics) isn't being made unnecessarily difficult. For me personally and where I'm gauging myself at, just having more exposure to and having the chance to practice these basics? is super helpful. It's encouraging to not be drowning in new material for once. Instead of stressing out learning new things, I get practice with important skills, something that I feel other courses don't offer.\",\n",
       " 'The thing I enjoyed most about COGS108 so far is learning about how to take csv files from websites and making them into datasets. The assignments are very fair',\n",
       " 'I enjoy programming in Python and trying to plot various data. I have a lot of experience in Python but I do not have that much experience in interpreting and cleaning data like this.',\n",
       " 'Working with my group members. Establishing new connections.',\n",
       " 'I enjoy the format and the digestible information is great for people new to data science',\n",
       " 'Learning Python and web scraping.',\n",
       " 'Assignments',\n",
       " 'I really like the group project and the structure involved in the deadlines and instructions. It feels very structured, and helps us really understand how to structure and communicate to be able to do a project with others and what deadlines are necessary',\n",
       " 'I enjoy learning about the ability to make data models which I want to use later for Machine Learning',\n",
       " 'Really learning about how to question data around the world and the fact that discussion labs, which are a bit more simple compared to assignments, can be used in substitute for final grade. ',\n",
       " \"Lectures aren't so condensed that both conceptual and technical content (like specific functions) put together. They're also recorded and rarely go over time.\",\n",
       " \"I think I've enjoyed importing and learning about different uses for python that apply toward data science and analysis in the real world. Prior to this, I had been wondering how exactly my Cogs degree would result in me being able to be qualified in analytical data, so now that we're doing it, it feels pretty satisfying.\",\n",
       " \"Working on the assignments - it's a nice way to get introduced to Python.\",\n",
       " \"I've largely enjoyed the teaching style. Professor Ellis is very clear with her explanations for the various different aspects of the course, especially when we go over python/pandas/etc.\",\n",
       " 'nothing',\n",
       " 'Making beautiful viz!',\n",
       " 'HOMEWORK',\n",
       " 'Working on the group project during this pandemic makes me feel like i am not alone and also going to the OH and chat with the tutors.',\n",
       " \"learning about python because I didn't know much going in\",\n",
       " 'Doing the Discussion question',\n",
       " \"I've enjoyed the Assignments the most. I feel like I'm learning as I walk through them.\",\n",
       " \"The clear lectures! They're easy to follow and introduces the topics well.\",\n",
       " 'Learning how to incorporate data science into our lives']"
      ]
     },
     "execution_count": 64,
     "metadata": {},
     "output_type": "execute_result"
    }
   ],
   "source": [
    "# get list of the 'sentences' (responses) from each individual\n",
    "most_list = list(df['enjoyed_most'].values)\n",
    "least_list = list(df['enjoyed_least'].values)\n",
    "most_list"
   ]
  },
  {
   "cell_type": "code",
   "execution_count": 65,
   "metadata": {
    "slideshow": {
     "slide_type": "fragment"
    }
   },
   "outputs": [],
   "source": [
    "# create function that will output dataframe \n",
    "# that stores sentiment information\n",
    "def get_sentiments(input_list):\n",
    "    \n",
    "    output = pd.DataFrame()\n",
    "\n",
    "    for sentence in input_list:\n",
    "        ss = analyser.polarity_scores(sentence)\n",
    "        ss['sentence'] = sentence\n",
    "        output = output.append(ss, ignore_index=True)\n",
    "\n",
    "    return output"
   ]
  },
  {
   "cell_type": "code",
   "execution_count": 66,
   "metadata": {
    "scrolled": false,
    "slideshow": {
     "slide_type": "fragment"
    }
   },
   "outputs": [],
   "source": [
    "# get sentiment measures\n",
    "least_sentiments = get_sentiments(least_list)\n",
    "most_sentiments = get_sentiments(most_list)"
   ]
  },
  {
   "cell_type": "markdown",
   "metadata": {
    "slideshow": {
     "slide_type": "slide"
    }
   },
   "source": [
    "#### Sentiment Analysis: COGS108 data output\n",
    "\n",
    "After calculating the sentiment of each response, we can look at the output of each."
   ]
  },
  {
   "cell_type": "code",
   "execution_count": 67,
   "metadata": {
    "scrolled": true,
    "slideshow": {
     "slide_type": "fragment"
    }
   },
   "outputs": [
    {
     "data": {
      "text/html": [
       "<div>\n",
       "<style scoped>\n",
       "    .dataframe tbody tr th:only-of-type {\n",
       "        vertical-align: middle;\n",
       "    }\n",
       "\n",
       "    .dataframe tbody tr th {\n",
       "        vertical-align: top;\n",
       "    }\n",
       "\n",
       "    .dataframe thead th {\n",
       "        text-align: right;\n",
       "    }\n",
       "</style>\n",
       "<table border=\"1\" class=\"dataframe\">\n",
       "  <thead>\n",
       "    <tr style=\"text-align: right;\">\n",
       "      <th></th>\n",
       "      <th>compound</th>\n",
       "      <th>neg</th>\n",
       "      <th>neu</th>\n",
       "      <th>pos</th>\n",
       "      <th>sentence</th>\n",
       "    </tr>\n",
       "  </thead>\n",
       "  <tbody>\n",
       "    <tr>\n",
       "      <th>0</th>\n",
       "      <td>0.7011</td>\n",
       "      <td>0.135</td>\n",
       "      <td>0.589</td>\n",
       "      <td>0.277</td>\n",
       "      <td>I really did not enjoy learning ethnic part. A...</td>\n",
       "    </tr>\n",
       "    <tr>\n",
       "      <th>1</th>\n",
       "      <td>-0.1548</td>\n",
       "      <td>0.043</td>\n",
       "      <td>0.957</td>\n",
       "      <td>0.000</td>\n",
       "      <td>Since I have to say something I guess it'll be...</td>\n",
       "    </tr>\n",
       "    <tr>\n",
       "      <th>2</th>\n",
       "      <td>0.0000</td>\n",
       "      <td>0.000</td>\n",
       "      <td>1.000</td>\n",
       "      <td>0.000</td>\n",
       "      <td>PDF lecture notes should be put on Canvas</td>\n",
       "    </tr>\n",
       "    <tr>\n",
       "      <th>3</th>\n",
       "      <td>-0.5588</td>\n",
       "      <td>0.111</td>\n",
       "      <td>0.889</td>\n",
       "      <td>0.000</td>\n",
       "      <td>At first, I felt that the Data Ethics or Data ...</td>\n",
       "    </tr>\n",
       "    <tr>\n",
       "      <th>4</th>\n",
       "      <td>0.0000</td>\n",
       "      <td>0.000</td>\n",
       "      <td>1.000</td>\n",
       "      <td>0.000</td>\n",
       "      <td>final project</td>\n",
       "    </tr>\n",
       "    <tr>\n",
       "      <th>5</th>\n",
       "      <td>0.0000</td>\n",
       "      <td>0.000</td>\n",
       "      <td>1.000</td>\n",
       "      <td>0.000</td>\n",
       "      <td>PDF lecture notes should be put on Canvas</td>\n",
       "    </tr>\n",
       "    <tr>\n",
       "      <th>6</th>\n",
       "      <td>-0.2960</td>\n",
       "      <td>0.688</td>\n",
       "      <td>0.312</td>\n",
       "      <td>0.000</td>\n",
       "      <td>No response</td>\n",
       "    </tr>\n",
       "    <tr>\n",
       "      <th>7</th>\n",
       "      <td>0.4782</td>\n",
       "      <td>0.000</td>\n",
       "      <td>0.876</td>\n",
       "      <td>0.124</td>\n",
       "      <td>The pace, but I understand this is an introduc...</td>\n",
       "    </tr>\n",
       "    <tr>\n",
       "      <th>8</th>\n",
       "      <td>-0.1027</td>\n",
       "      <td>0.318</td>\n",
       "      <td>0.682</td>\n",
       "      <td>0.000</td>\n",
       "      <td>Discussion questions being vague</td>\n",
       "    </tr>\n",
       "    <tr>\n",
       "      <th>9</th>\n",
       "      <td>0.0258</td>\n",
       "      <td>0.121</td>\n",
       "      <td>0.754</td>\n",
       "      <td>0.126</td>\n",
       "      <td>The difficulty of some packages such as pandas...</td>\n",
       "    </tr>\n",
       "  </tbody>\n",
       "</table>\n",
       "</div>"
      ],
      "text/plain": [
       "   compound    neg    neu    pos  \\\n",
       "0    0.7011  0.135  0.589  0.277   \n",
       "1   -0.1548  0.043  0.957  0.000   \n",
       "2    0.0000  0.000  1.000  0.000   \n",
       "3   -0.5588  0.111  0.889  0.000   \n",
       "4    0.0000  0.000  1.000  0.000   \n",
       "5    0.0000  0.000  1.000  0.000   \n",
       "6   -0.2960  0.688  0.312  0.000   \n",
       "7    0.4782  0.000  0.876  0.124   \n",
       "8   -0.1027  0.318  0.682  0.000   \n",
       "9    0.0258  0.121  0.754  0.126   \n",
       "\n",
       "                                            sentence  \n",
       "0  I really did not enjoy learning ethnic part. A...  \n",
       "1  Since I have to say something I guess it'll be...  \n",
       "2          PDF lecture notes should be put on Canvas  \n",
       "3  At first, I felt that the Data Ethics or Data ...  \n",
       "4                                      final project  \n",
       "5          PDF lecture notes should be put on Canvas  \n",
       "6                                        No response  \n",
       "7  The pace, but I understand this is an introduc...  \n",
       "8                   Discussion questions being vague  \n",
       "9  The difficulty of some packages such as pandas...  "
      ]
     },
     "execution_count": 67,
     "metadata": {},
     "output_type": "execute_result"
    }
   ],
   "source": [
    "# take a look at the output\n",
    "least_sentiments.head(10)"
   ]
  },
  {
   "cell_type": "code",
   "execution_count": 57,
   "metadata": {
    "scrolled": false,
    "slideshow": {
     "slide_type": "fragment"
    }
   },
   "outputs": [
    {
     "data": {
      "text/html": [
       "<div>\n",
       "<style scoped>\n",
       "    .dataframe tbody tr th:only-of-type {\n",
       "        vertical-align: middle;\n",
       "    }\n",
       "\n",
       "    .dataframe tbody tr th {\n",
       "        vertical-align: top;\n",
       "    }\n",
       "\n",
       "    .dataframe thead th {\n",
       "        text-align: right;\n",
       "    }\n",
       "</style>\n",
       "<table border=\"1\" class=\"dataframe\">\n",
       "  <thead>\n",
       "    <tr style=\"text-align: right;\">\n",
       "      <th></th>\n",
       "      <th>compound</th>\n",
       "      <th>neg</th>\n",
       "      <th>neu</th>\n",
       "      <th>pos</th>\n",
       "      <th>sentence</th>\n",
       "    </tr>\n",
       "  </thead>\n",
       "  <tbody>\n",
       "    <tr>\n",
       "      <th>0</th>\n",
       "      <td>0.8977</td>\n",
       "      <td>0.000</td>\n",
       "      <td>0.686</td>\n",
       "      <td>0.314</td>\n",
       "      <td>I enjoy about learning python. I think learnin...</td>\n",
       "    </tr>\n",
       "    <tr>\n",
       "      <th>1</th>\n",
       "      <td>0.4523</td>\n",
       "      <td>0.037</td>\n",
       "      <td>0.872</td>\n",
       "      <td>0.091</td>\n",
       "      <td>Mainly being able to explore the field of data...</td>\n",
       "    </tr>\n",
       "    <tr>\n",
       "      <th>2</th>\n",
       "      <td>0.4404</td>\n",
       "      <td>0.000</td>\n",
       "      <td>0.408</td>\n",
       "      <td>0.592</td>\n",
       "      <td>Coding is funny</td>\n",
       "    </tr>\n",
       "    <tr>\n",
       "      <th>3</th>\n",
       "      <td>0.6908</td>\n",
       "      <td>0.000</td>\n",
       "      <td>0.759</td>\n",
       "      <td>0.241</td>\n",
       "      <td>I enjoy the ease of access to assignments, for...</td>\n",
       "    </tr>\n",
       "    <tr>\n",
       "      <th>4</th>\n",
       "      <td>0.0000</td>\n",
       "      <td>0.000</td>\n",
       "      <td>1.000</td>\n",
       "      <td>0.000</td>\n",
       "      <td>Learning pandas and plots</td>\n",
       "    </tr>\n",
       "    <tr>\n",
       "      <th>5</th>\n",
       "      <td>0.4404</td>\n",
       "      <td>0.000</td>\n",
       "      <td>0.408</td>\n",
       "      <td>0.592</td>\n",
       "      <td>Coding is funny</td>\n",
       "    </tr>\n",
       "    <tr>\n",
       "      <th>6</th>\n",
       "      <td>0.4939</td>\n",
       "      <td>0.000</td>\n",
       "      <td>0.738</td>\n",
       "      <td>0.262</td>\n",
       "      <td>Hand on experience and discussion about pandas...</td>\n",
       "    </tr>\n",
       "    <tr>\n",
       "      <th>7</th>\n",
       "      <td>0.7184</td>\n",
       "      <td>0.000</td>\n",
       "      <td>0.625</td>\n",
       "      <td>0.375</td>\n",
       "      <td>I have enjoyed the case studies learning about...</td>\n",
       "    </tr>\n",
       "    <tr>\n",
       "      <th>8</th>\n",
       "      <td>0.0000</td>\n",
       "      <td>0.000</td>\n",
       "      <td>1.000</td>\n",
       "      <td>0.000</td>\n",
       "      <td>Juypter Notebook</td>\n",
       "    </tr>\n",
       "    <tr>\n",
       "      <th>9</th>\n",
       "      <td>0.0000</td>\n",
       "      <td>0.000</td>\n",
       "      <td>1.000</td>\n",
       "      <td>0.000</td>\n",
       "      <td>Applying skills from COGS18 to real-world scen...</td>\n",
       "    </tr>\n",
       "  </tbody>\n",
       "</table>\n",
       "</div>"
      ],
      "text/plain": [
       "   compound    neg    neu    pos  \\\n",
       "0    0.8977  0.000  0.686  0.314   \n",
       "1    0.4523  0.037  0.872  0.091   \n",
       "2    0.4404  0.000  0.408  0.592   \n",
       "3    0.6908  0.000  0.759  0.241   \n",
       "4    0.0000  0.000  1.000  0.000   \n",
       "5    0.4404  0.000  0.408  0.592   \n",
       "6    0.4939  0.000  0.738  0.262   \n",
       "7    0.7184  0.000  0.625  0.375   \n",
       "8    0.0000  0.000  1.000  0.000   \n",
       "9    0.0000  0.000  1.000  0.000   \n",
       "\n",
       "                                            sentence  \n",
       "0  I enjoy about learning python. I think learnin...  \n",
       "1  Mainly being able to explore the field of data...  \n",
       "2                                    Coding is funny  \n",
       "3  I enjoy the ease of access to assignments, for...  \n",
       "4                          Learning pandas and plots  \n",
       "5                                    Coding is funny  \n",
       "6  Hand on experience and discussion about pandas...  \n",
       "7  I have enjoyed the case studies learning about...  \n",
       "8                                   Juypter Notebook  \n",
       "9  Applying skills from COGS18 to real-world scen...  "
      ]
     },
     "execution_count": 57,
     "metadata": {},
     "output_type": "execute_result"
    }
   ],
   "source": [
    "# take a look at the output\n",
    "most_sentiments.head(10)"
   ]
  },
  {
   "cell_type": "markdown",
   "metadata": {
    "slideshow": {
     "slide_type": "slide"
    }
   },
   "source": [
    "#### Let's deal with those `No response` values\n",
    "\n",
    "We've left them in there long enough. Let's remove the 'No response' values before we look at any overall patterns."
   ]
  },
  {
   "cell_type": "code",
   "execution_count": 68,
   "metadata": {
    "slideshow": {
     "slide_type": "fragment"
    }
   },
   "outputs": [],
   "source": [
    "most_sentiments = most_sentiments[most_sentiments['sentence'] != 'No response']\n",
    "least_sentiments = least_sentiments[least_sentiments['sentence'] != 'No response']"
   ]
  },
  {
   "cell_type": "markdown",
   "metadata": {
    "slideshow": {
     "slide_type": "slide"
    }
   },
   "source": [
    "#### Sentiment Analysis: COGS108 data - `describe`\n",
    "\n",
    "To get an overall sense of the values stored in each of these dataframes, we can use `describe`."
   ]
  },
  {
   "cell_type": "code",
   "execution_count": 59,
   "metadata": {
    "scrolled": true,
    "slideshow": {
     "slide_type": "fragment"
    }
   },
   "outputs": [
    {
     "data": {
      "text/html": [
       "<div>\n",
       "<style scoped>\n",
       "    .dataframe tbody tr th:only-of-type {\n",
       "        vertical-align: middle;\n",
       "    }\n",
       "\n",
       "    .dataframe tbody tr th {\n",
       "        vertical-align: top;\n",
       "    }\n",
       "\n",
       "    .dataframe thead th {\n",
       "        text-align: right;\n",
       "    }\n",
       "</style>\n",
       "<table border=\"1\" class=\"dataframe\">\n",
       "  <thead>\n",
       "    <tr style=\"text-align: right;\">\n",
       "      <th></th>\n",
       "      <th>compound</th>\n",
       "      <th>neg</th>\n",
       "      <th>neu</th>\n",
       "      <th>pos</th>\n",
       "    </tr>\n",
       "  </thead>\n",
       "  <tbody>\n",
       "    <tr>\n",
       "      <th>count</th>\n",
       "      <td>314.000000</td>\n",
       "      <td>314.000000</td>\n",
       "      <td>314.000000</td>\n",
       "      <td>314.000000</td>\n",
       "    </tr>\n",
       "    <tr>\n",
       "      <th>mean</th>\n",
       "      <td>0.487136</td>\n",
       "      <td>0.009354</td>\n",
       "      <td>0.790025</td>\n",
       "      <td>0.200608</td>\n",
       "    </tr>\n",
       "    <tr>\n",
       "      <th>std</th>\n",
       "      <td>0.334998</td>\n",
       "      <td>0.031418</td>\n",
       "      <td>0.149298</td>\n",
       "      <td>0.149159</td>\n",
       "    </tr>\n",
       "    <tr>\n",
       "      <th>min</th>\n",
       "      <td>-0.855500</td>\n",
       "      <td>0.000000</td>\n",
       "      <td>0.267000</td>\n",
       "      <td>0.000000</td>\n",
       "    </tr>\n",
       "    <tr>\n",
       "      <th>25%</th>\n",
       "      <td>0.208300</td>\n",
       "      <td>0.000000</td>\n",
       "      <td>0.690000</td>\n",
       "      <td>0.097000</td>\n",
       "    </tr>\n",
       "    <tr>\n",
       "      <th>50%</th>\n",
       "      <td>0.548750</td>\n",
       "      <td>0.000000</td>\n",
       "      <td>0.788500</td>\n",
       "      <td>0.196000</td>\n",
       "    </tr>\n",
       "    <tr>\n",
       "      <th>75%</th>\n",
       "      <td>0.742500</td>\n",
       "      <td>0.000000</td>\n",
       "      <td>0.883750</td>\n",
       "      <td>0.293500</td>\n",
       "    </tr>\n",
       "    <tr>\n",
       "      <th>max</th>\n",
       "      <td>0.991400</td>\n",
       "      <td>0.281000</td>\n",
       "      <td>1.000000</td>\n",
       "      <td>0.733000</td>\n",
       "    </tr>\n",
       "  </tbody>\n",
       "</table>\n",
       "</div>"
      ],
      "text/plain": [
       "         compound         neg         neu         pos\n",
       "count  314.000000  314.000000  314.000000  314.000000\n",
       "mean     0.487136    0.009354    0.790025    0.200608\n",
       "std      0.334998    0.031418    0.149298    0.149159\n",
       "min     -0.855500    0.000000    0.267000    0.000000\n",
       "25%      0.208300    0.000000    0.690000    0.097000\n",
       "50%      0.548750    0.000000    0.788500    0.196000\n",
       "75%      0.742500    0.000000    0.883750    0.293500\n",
       "max      0.991400    0.281000    1.000000    0.733000"
      ]
     },
     "execution_count": 59,
     "metadata": {},
     "output_type": "execute_result"
    }
   ],
   "source": [
    "most_sentiments.describe()"
   ]
  },
  {
   "cell_type": "code",
   "execution_count": 60,
   "metadata": {
    "scrolled": false,
    "slideshow": {
     "slide_type": "fragment"
    }
   },
   "outputs": [
    {
     "data": {
      "text/html": [
       "<div>\n",
       "<style scoped>\n",
       "    .dataframe tbody tr th:only-of-type {\n",
       "        vertical-align: middle;\n",
       "    }\n",
       "\n",
       "    .dataframe tbody tr th {\n",
       "        vertical-align: top;\n",
       "    }\n",
       "\n",
       "    .dataframe thead th {\n",
       "        text-align: right;\n",
       "    }\n",
       "</style>\n",
       "<table border=\"1\" class=\"dataframe\">\n",
       "  <thead>\n",
       "    <tr style=\"text-align: right;\">\n",
       "      <th></th>\n",
       "      <th>compound</th>\n",
       "      <th>neg</th>\n",
       "      <th>neu</th>\n",
       "      <th>pos</th>\n",
       "    </tr>\n",
       "  </thead>\n",
       "  <tbody>\n",
       "    <tr>\n",
       "      <th>count</th>\n",
       "      <td>304.000000</td>\n",
       "      <td>304.000000</td>\n",
       "      <td>304.000000</td>\n",
       "      <td>304.000000</td>\n",
       "    </tr>\n",
       "    <tr>\n",
       "      <th>mean</th>\n",
       "      <td>0.083605</td>\n",
       "      <td>0.088122</td>\n",
       "      <td>0.812368</td>\n",
       "      <td>0.099503</td>\n",
       "    </tr>\n",
       "    <tr>\n",
       "      <th>std</th>\n",
       "      <td>0.456452</td>\n",
       "      <td>0.117717</td>\n",
       "      <td>0.154271</td>\n",
       "      <td>0.127815</td>\n",
       "    </tr>\n",
       "    <tr>\n",
       "      <th>min</th>\n",
       "      <td>-0.879900</td>\n",
       "      <td>0.000000</td>\n",
       "      <td>0.000000</td>\n",
       "      <td>0.000000</td>\n",
       "    </tr>\n",
       "    <tr>\n",
       "      <th>25%</th>\n",
       "      <td>-0.293450</td>\n",
       "      <td>0.000000</td>\n",
       "      <td>0.733750</td>\n",
       "      <td>0.000000</td>\n",
       "    </tr>\n",
       "    <tr>\n",
       "      <th>50%</th>\n",
       "      <td>0.000000</td>\n",
       "      <td>0.062000</td>\n",
       "      <td>0.824500</td>\n",
       "      <td>0.063000</td>\n",
       "    </tr>\n",
       "    <tr>\n",
       "      <th>75%</th>\n",
       "      <td>0.459875</td>\n",
       "      <td>0.137250</td>\n",
       "      <td>0.917500</td>\n",
       "      <td>0.153750</td>\n",
       "    </tr>\n",
       "    <tr>\n",
       "      <th>max</th>\n",
       "      <td>0.952900</td>\n",
       "      <td>1.000000</td>\n",
       "      <td>1.000000</td>\n",
       "      <td>0.753000</td>\n",
       "    </tr>\n",
       "  </tbody>\n",
       "</table>\n",
       "</div>"
      ],
      "text/plain": [
       "         compound         neg         neu         pos\n",
       "count  304.000000  304.000000  304.000000  304.000000\n",
       "mean     0.083605    0.088122    0.812368    0.099503\n",
       "std      0.456452    0.117717    0.154271    0.127815\n",
       "min     -0.879900    0.000000    0.000000    0.000000\n",
       "25%     -0.293450    0.000000    0.733750    0.000000\n",
       "50%      0.000000    0.062000    0.824500    0.063000\n",
       "75%      0.459875    0.137250    0.917500    0.153750\n",
       "max      0.952900    1.000000    1.000000    0.753000"
      ]
     },
     "execution_count": 60,
     "metadata": {},
     "output_type": "execute_result"
    }
   ],
   "source": [
    "least_sentiments.describe()"
   ]
  },
  {
   "cell_type": "markdown",
   "metadata": {
    "slideshow": {
     "slide_type": "slide"
    }
   },
   "source": [
    "#### Sentiment Analysis: COGS108 data - plotting\n",
    "\n",
    "We can compare the distribution of the `compound` metric between the two analyses."
   ]
  },
  {
   "cell_type": "code",
   "execution_count": 61,
   "metadata": {
    "scrolled": false,
    "slideshow": {
     "slide_type": "fragment"
    }
   },
   "outputs": [
    {
     "data": {
      "image/png": "[encoded data removed]",
      "text/plain": [
       "<Figure size 1224x504 with 1 Axes>"
      ]
     },
     "metadata": {
      "image/png": {
       "height": 433,
       "width": 1025
      },
      "needs_background": "light"
     },
     "output_type": "display_data"
    }
   ],
   "source": [
    "most_sentiments['compound'].plot.density(label='most')\n",
    "least_sentiments['compound'].plot.density(label='least')\n",
    "plt.legend()\n",
    "plt.xlabel('Compound Sentiment Scores')\n",
    "plt.xlim(-1,1);"
   ]
  },
  {
   "cell_type": "code",
   "execution_count": 62,
   "metadata": {
    "scrolled": false,
    "slideshow": {
     "slide_type": "slide"
    }
   },
   "outputs": [
    {
     "data": {
      "text/html": [
       "<div>\n",
       "<style scoped>\n",
       "    .dataframe tbody tr th:only-of-type {\n",
       "        vertical-align: middle;\n",
       "    }\n",
       "\n",
       "    .dataframe tbody tr th {\n",
       "        vertical-align: top;\n",
       "    }\n",
       "\n",
       "    .dataframe thead th {\n",
       "        text-align: right;\n",
       "    }\n",
       "</style>\n",
       "<table border=\"1\" class=\"dataframe\">\n",
       "  <thead>\n",
       "    <tr style=\"text-align: right;\">\n",
       "      <th></th>\n",
       "      <th>compound</th>\n",
       "      <th>neg</th>\n",
       "      <th>neu</th>\n",
       "      <th>pos</th>\n",
       "      <th>sentence</th>\n",
       "      <th>which</th>\n",
       "    </tr>\n",
       "  </thead>\n",
       "  <tbody>\n",
       "    <tr>\n",
       "      <th>0</th>\n",
       "      <td>0.8977</td>\n",
       "      <td>0.000</td>\n",
       "      <td>0.686</td>\n",
       "      <td>0.314</td>\n",
       "      <td>I enjoy about learning python. I think learnin...</td>\n",
       "      <td>most</td>\n",
       "    </tr>\n",
       "    <tr>\n",
       "      <th>1</th>\n",
       "      <td>0.4523</td>\n",
       "      <td>0.037</td>\n",
       "      <td>0.872</td>\n",
       "      <td>0.091</td>\n",
       "      <td>Mainly being able to explore the field of data...</td>\n",
       "      <td>most</td>\n",
       "    </tr>\n",
       "    <tr>\n",
       "      <th>2</th>\n",
       "      <td>0.4404</td>\n",
       "      <td>0.000</td>\n",
       "      <td>0.408</td>\n",
       "      <td>0.592</td>\n",
       "      <td>Coding is funny</td>\n",
       "      <td>most</td>\n",
       "    </tr>\n",
       "    <tr>\n",
       "      <th>3</th>\n",
       "      <td>0.6908</td>\n",
       "      <td>0.000</td>\n",
       "      <td>0.759</td>\n",
       "      <td>0.241</td>\n",
       "      <td>I enjoy the ease of access to assignments, for...</td>\n",
       "      <td>most</td>\n",
       "    </tr>\n",
       "    <tr>\n",
       "      <th>4</th>\n",
       "      <td>0.0000</td>\n",
       "      <td>0.000</td>\n",
       "      <td>1.000</td>\n",
       "      <td>0.000</td>\n",
       "      <td>Learning pandas and plots</td>\n",
       "      <td>most</td>\n",
       "    </tr>\n",
       "  </tbody>\n",
       "</table>\n",
       "</div>"
      ],
      "text/plain": [
       "   compound    neg    neu    pos  \\\n",
       "0    0.8977  0.000  0.686  0.314   \n",
       "1    0.4523  0.037  0.872  0.091   \n",
       "2    0.4404  0.000  0.408  0.592   \n",
       "3    0.6908  0.000  0.759  0.241   \n",
       "4    0.0000  0.000  1.000  0.000   \n",
       "\n",
       "                                            sentence which  \n",
       "0  I enjoy about learning python. I think learnin...  most  \n",
       "1  Mainly being able to explore the field of data...  most  \n",
       "2                                    Coding is funny  most  \n",
       "3  I enjoy the ease of access to assignments, for...  most  \n",
       "4                          Learning pandas and plots  most  "
      ]
     },
     "execution_count": 62,
     "metadata": {},
     "output_type": "execute_result"
    }
   ],
   "source": [
    "# include label for boxplot\n",
    "most_sentiments['which'] = 'most'\n",
    "least_sentiments['which'] = 'least'\n",
    "# concatenate data frames together\n",
    "compound_out = pd.concat([most_sentiments, least_sentiments])\n",
    "compound_out.head()"
   ]
  },
  {
   "cell_type": "code",
   "execution_count": 63,
   "metadata": {},
   "outputs": [
    {
     "data": {
      "image/png": "[encoded data removed]",
      "text/plain": [
       "<Figure size 1224x504 with 1 Axes>"
      ]
     },
     "metadata": {
      "image/png": {
       "height": 433,
       "width": 1031
      },
      "needs_background": "light"
     },
     "output_type": "display_data"
    }
   ],
   "source": [
    "# plot compound by resonse type\n",
    "sns.boxplot(data=compound_out, x='which', y='compound')\n",
    "plt.xlabel('response');"
   ]
  },
  {
   "cell_type": "markdown",
   "metadata": {
    "slideshow": {
     "slide_type": "fragment"
    }
   },
   "source": [
    "Probably unsurprisingly, the overall sentiment of what students like tends to be more positive than what students like less. \n",
    "\n",
    "Probably not surprising given the data and question on the survey. But, let's dig deeper into these data moving beyond sentiment analysis..."
   ]
  },
  {
   "cell_type": "markdown",
   "metadata": {
    "slideshow": {
     "slide_type": "slide"
    }
   },
   "source": [
    "## TF-IDF\n",
    "\n",
    "Term Frequency - Inverse Document Frequency (**TF-IDF**) sets out to identify the tokens most unique to your document of interest (relative to all documents in your corpus). "
   ]
  },
  {
   "cell_type": "markdown",
   "metadata": {
    "slideshow": {
     "slide_type": "fragment"
    }
   },
   "source": [
    "**Term Frequency (TF)** - counts the number of times a given word (or token, term, etc) occurs in each document divided by the number of words in that document\n",
    "\n",
    "**Inverse Document Frequency (IDF)** - weights the word by their relative frequency across documents. "
   ]
  },
  {
   "cell_type": "markdown",
   "metadata": {
    "slideshow": {
     "slide_type": "fragment"
    }
   },
   "source": [
    "$$IDF_{word} = log(\\frac{\\# documents}{\\# \\ documents\\_containing\\_word})$$"
   ]
  },
  {
   "cell_type": "markdown",
   "metadata": {
    "slideshow": {
     "slide_type": "fragment"
    }
   },
   "source": [
    "$$TF-IDF = TF \\times IDF$$"
   ]
  },
  {
   "cell_type": "markdown",
   "metadata": {
    "slideshow": {
     "slide_type": "fragment"
    }
   },
   "source": [
    "words with a high TF-IDF are those with high frequency in one document & relatively low frequency in other documents"
   ]
  },
  {
   "cell_type": "markdown",
   "metadata": {
    "slideshow": {
     "slide_type": "slide"
    }
   },
   "source": [
    "For our purposes, our **corpus** will be students' responses to what they like most and least about COGS108.\n",
    "\n",
    "We'll treat this as **two separate documents**:\n",
    "1. What students like most\n",
    "2. What students like least"
   ]
  },
  {
   "cell_type": "markdown",
   "metadata": {
    "slideshow": {
     "slide_type": "slide"
    }
   },
   "source": [
    "### Bag of Words (BoW) approach\n",
    "\n",
    "Converts the text into a co-occurrence matrix across documents within the corpus."
   ]
  },
  {
   "cell_type": "markdown",
   "metadata": {
    "slideshow": {
     "slide_type": "fragment"
    }
   },
   "source": [
    "To do this, let's get our text ready.\n",
    "\n",
    "We're going to make sure all our words are lower case, remove punctuation from each, and then provide the text (`corpus`) to `TfidfVectorizer`."
   ]
  },
  {
   "cell_type": "code",
   "execution_count": 69,
   "metadata": {
    "slideshow": {
     "slide_type": "fragment"
    }
   },
   "outputs": [],
   "source": [
    "import string \n",
    "\n",
    "# lowercase text\n",
    "least = list(map(str.lower, least_list))\n",
    "most = list(map(str.lower, most_list))\n",
    "\n",
    "# remove punctuation\n",
    "for c in string.punctuation:\n",
    "    least = str(least).replace(c, \"\")\n",
    "    most = str(most).replace(c, \"\")\n",
    "\n",
    "# get list of two documents together\n",
    "corpus = [str(least), str(most)]"
   ]
  },
  {
   "cell_type": "code",
   "execution_count": 70,
   "metadata": {},
   "outputs": [
    {
     "data": {
      "text/plain": [
       "['i really did not enjoy learning ethnic part although i think it is a very important topic i still think it is kind of boring i am glad the rest lectures are amazing and engaging since i have to say something i guess itll be that it can be a little confusing to know what exactly the assignments are asking for in some questions or what specific method it wants us to use and how pdf lecture notes should be put on canvas at first i felt that the data ethics or data privacy sections were unnecessary however i soon realized that they are valid concerns because neither i would like my data to be nonconsentially used and these are topics that are often undermined final project pdf lecture notes should be put on canvas no response the pace but i understand this is an introductory course and i did take the course for this reason so this is not a valid criticism discussion questions being vague the difficulty of some packages such as pandas  some stuff feel harder than they should like graphing the stress about it all thank goodness there is no test involving executing code  i cannot think of anything that i like least about cogs 108 everything seems good so far to me this one is hard to say but i think i least enjoy the discussion section assignments mainly because the discussion section assignments together tend to take longer than the assignments which is due to my lack of knowledge in python pandas etc since i am still not so comfortable with coding the assignments are still a bit overwhelming  the programming skill level varies too much in the class which makes group projects hit or miss  no response in general its just hard for me to grasp coding concepts but thats not specific to this class in terms of assignments i didnt like d3 i wasnt able to extract the topicscode covered in lecture to complete d3 in an efficient way and i struggled a lot on making the proportions spending hours on it  lecture examples for data visualization tended to be more simple than for the discussion lab which resulted in quite some frustration compared to earlier experiences with discussion submissions i understand that in the beginning of the quarter we were already warned that we would need to do a lot of googling and honestly i have no complaints about doing so because i have found the overall research experience to be more enlightening than painstaking but i feel like the class would have benefitted if more challenging examples had been included in the lecture    lecture examples for data visualization tended to be more simple than for the discussion lab which resulted in quite some frustration compared to earlier experiences with discussion submissions i understand that in the beginning of the quarter we were already warned that we would need to do a lot of googling and honestly i have no complaints about doing so because i have found the overall research experience to be more enlightening than painstaking but i feel like the class would have benefitted if more challenging examples had been included in the lecture    working with my group has been a little frustrating given that we are all remote and disconnected at times they can be quite unresponsive length and helpfulness of technical discussion sections it would be more helpful if instead of going over previously written code like the d3 baby names the tas actually coded in pandasseaborn in front of us this would help us see the process more clearly i have least liked the timed quizzes that we must take each friday while they do encourage us to go over the material and solidify our understanding of the lectures i think they shouldnt be timed as 15 minutes to take a quiz online can sometimes be stressful  again i really am not interested in data science in general so its been kind of hard to keep myself motivated for this class especially when the cogs department wont let us pnp like other departments have been doing but thats a whole other can of worms but i dont have anything i dislike in particular about the way the course is run and im grateful that even though there are quite a few small assignments every week none of them feel like busy work and are actually helpful for me since im not as strong with coding everything is doing great  this final project documentation on programming pandas can be difficult to apply to assignment i find that the discussions are quite long and can be rather tedious i think shortening them to a more clear cut practice would serve to be better  there are a lot of new terminologies and when i was doing technical discussion a lot of stuff was barely covered in the class hence it was a little bit stressful  i think i would like discussions and assignments to be combined because to me it feels like there are too many different things due to keep track of discussion 3 is somewhat difficult for me there is one question taking me about 2 hours but i still miss it d3 was too hard to complete as it did not have much guidance given that it is supposed to help us with assignments a2 was way easier than d3 i least enjoyed the actual coding and programming aspects of using pandas as it can get a little confusing learning the syntax and code the thing i like the least is probably having so many things due on fridays it bunches up for me and its managable but it wouldnt have been my preference to have everything due on one day but maybe having 23 due on friday and one due on saturday or sunday since i work during the week and the weekend has more study and homework time for me i know that the ethics are important for data analysis but it is kind of boring also i am so confused that i missed some points in every quiz every topics are interesting no liked least so far in this class i think doing a group project makes this class a little difficult because it’s hard to find time for the group to meet because everyone has very conflicting schedules  early lecture not a morning person lol i honestly dont like that i have to work in a group of four but at least i get more experience with collaboration  coding as always been hard for me and this class is no different so as coding gets more complicated i have to spend more and more time on this class and it ends up being the most difficult and time consuming  everything is good its just hard to get up at 9 in the morning  remote learning makes the group communication a little harder than usual itd be great if we spent more time talking about python  actually there is nothing i do not like this course is great the thing i liked least about cogs 108 so far is learning about all the different things that can be done in pandas seaborn and matplotlib im overwhelmed by how many different things can be done and dont think i can remember everything we go over in lecture plotting graphs is hard the discussion notebooks are sometimes confusing from the lack of instructions on the notebook itself but through lectures and research they are doable i find the assignments to be a little challenging and could take some time to complete with no prior python knowledge the discussion problems are sometimes unclear or cover material that has not yet been taught sometimes i find the discussion assignments and the actual assignments difficult to do and stressful and i feel like i do not have enough knowledge from the class lectures to be able to answer the questions this is less of a dislike and more of me being bad at the utilization of python pandas and other imports it has gotten easier likely due to previous experience with java though so it is not that bad what i like least is just that theres never a right or wrong answer in some instances i guess this could be a good thing but in some cases i find myself doing a lot of outside research to understand something new that i have to learn to apply i am not a fan of coding and am a beginner python learner which do not go well together i have had to look basically everything up for the discussion and normal assignments so it has been sometimes very frustrating and timeconsuming even when i do go to office hourssection for help no response the data visualization teaching portion could use some work i really struggled with d3 on how to wrangle the data into a usable format to display i attended lectures and you went over some of it but it was nowhere near enough for the discussion lab i also attended two different tas office hours but neither was able to help too much they both seemed just as lost as i was with the errors i encountered and were unable to effectively guide me on alternate strategies if the time spent teaching datawrangling strategies was increased before dropping us into the lab or more guide rails were added to the lab to help us that would make the experience much better as our support structure wasnt able to prop us up and google isnt particularly helpful as the error messages are very generic and nondescriptive of the true nature of the error class is too early no response the least ive liked about cogs 108 is just realizing just how much memorization is required in cleaning wrangling and visualizing data im not only trying to memorize the syntax for python but im also struggling with remembering what functions to call in pandas and how to correctly type out the operation i want i spent 3 hours trying to google how to run just one cell and i still never figured it out it is quite a lot to keep track of and i know the only way to get better is practice practice practice no matter what though im super excited to be learning these tools and its great to know that this knowledge will be useful for me in the long run nnalso the quizzes are not my favorite i have watched the lecture videos twice sometimes and i still cannot get full points on the quizzes learning how to use python because i live in a different time zone and have a tight schedule for when i can watch friday lecture it is difficult for me to apply things that are mentioned in friday lecture to my assignmentsgroup project it would be nice if most of the tips and advice could be concentrated into monday and wednesday lecture but all in all its been really great this is very minute  i’m still working on adjusting to github since i haven’t had prior experience with it so having it as a vital part of the course is a little challenging i dont really like the weakly quiz although its not really hard but i still would miss 1 or 2 points on weekly quizzes i do not like the assignments due to my difficulty with them on my own the group project this is because although i understand it is necessary of an experience for the future it is still difficult to manage a project all online while still trying to be understanding of other groupmates personal situations and responsibilities i dont really like the weekly quizzes i feel like they dont accurately assess what i have learned from that week its difficult to learn and apply a lot of the topics weve learned in class to our projects due to the fastpaced nature of the class  lecture talking speed a little too fast the quizzes just seem like busywork i think the assignments help my learning significantly more because actively doing something helps me learn better than taking quizzes i think the quizzes are pretty stressful for me each week even though i watches each lecture on time not a huge fan of the assignments i feel like i know the gist of what i have to do but then i do it and it ends up being wrong i think im just not that confident with python so was hoping for a little more guidance i dont necessarily have anything that i like the least i feel like i personally do a lot more googling in this class than i have had to in cogs 18 however i believe its because this class is less oriented in learning about code and more about doing actual data science  figuring out how to graph was pretty hard i kept getting errors with the parameters in seaborn for example i would try to pass something into the column but it would be the wrong column so my graph would look weird once i did figure it out though it was very nice to see but the steps before are very frustrating the coding the prerequisite for this class is one python class which i took and i feel wholly unprepared for the material in this class dealing with the submission system on datahub i wish there were more confirmationsacknowledgement of my submission that would give me more confidence that my work has been submitted successfully currently there is little user feedback homework honestly ive got nothing for this thanks for a great quarter so far  the homework is a little overload the discussions can be hard and the quizzes as well sometimes lectures dont really explain concepts introduced in the assignments or discussions too well there are a lot of assignments due each week nothing i like everything about the class so far keep procrastinating watching lectures led to more to watch the bugs i run into while trying to code for the hmw and trying to figure those things out mm nothing much maybe do more backflips during lecture im just kidding im thoroughly enjoying this course  the office hour is hard to reach since i am at different time zone no response ive gotten frustrated with myself a couple times with either an assignment or workbook but i know thats just what comes with being new to a programming language sometimes i have hard time with assignment and labs they are a little difficult to me fixing technical errors with jupyter notebooks and github git controls i still think that the ethics are a little bit boring although they are important im not sure if its by design but i feel like i dont know enough about how to use pandas seaborn etc by the end of lectures and end up spending a lot of time on discussion labs and assignments maybe the lecture is for the theory and labs are for application the coding aspect of this course is by far the hardest and most frustrating thing of this course   the thing i liked the least is doing discussion labs and assignments i know they are supposed to help me practice so that i can do better for my project but i felt like what we need to do for the labs and assignment are much more harderadvanced than what we learned in class i had a really hard time trying to figure out d3 i tried watching technical discussion recording going to a technical discussion and going to the project discussion i was waiting in the waiting room but ended up leaving because of my other schedule but i wasnt able to get enough help  get enough idea on how to do some parts of d3 maybe the quiz the process of creating our project topic it is so hard and our team spend so many time thinking our topic  its pretty fast paced and i havent worked too much with python before so its a little difficult but not unbearable  rather than being something i dislike it is overwhelming having more than one technology pandas  seaborn but thats normal its a lot more selfstudy than i expected waking up at 9am quizzes because i keep getting 1 or so questions wrong much of the assignments feel like information ive been taught in previous classes such as basic pandas but i understand that that is probably necessary for many students what i have liked least is the stuff to do with github because i am not familiar with it so it is still a little confusing  finding the data for our project the discussion assignments i often feel like they are harder than the actual assignments and its hard to prioritize discussion assignments when they arent mandatoryi dont have time in the week to work on it for a few hours finding a question with my group was really hard  the assignment because it is kind of a lot and hard for me since i dont have much python experiences before assignments i dont like the discussion assignments i have a really hard time trying to figure out how to do them even after office hours i feel like the d d1 d2 etc should be more basic tutorial style because the only point of these are to teach and help understand rather than test knowledge like the a and q should if the d had more hints or more explicit about how to solve the problem that would be extremely helpful  as i am pretty unfamiliar with pandas the discussions have been a bit harder for me but this may also be due to the fact that im not able to access the discussion recordings although i enjoy making the visualizations i dont have a strong foundation in python or programming skills so it has been frustrating getting used to the syntax processes and general logistics of it  the thing i liked the least is having to coordinate group times with everyone because it is a bit challenging to coordinate times virtually the weight of each assignment and components of the project are stressful and overwhelming because they are worth a significant percent of my grade and unlike discussions and quizzes it hard to be assured that i did it well andor get quick feedback i like quizzes the least they are good markers to make sure students are on track with the materials but the questions require more thinking so i stress on them a bit more than i should for a check up assignment i prefer piazza to campuswire but i am slowly getting the hang of it trying to find a group  i have not enjoyed the quizzes too much as i feel it would be better if we could earn back the points we lose in some way this is due to some earlier quizzes having trickier questions but it is reasonable as the loss isnt too large the quiz questions are fine as they do just ask largely about things one should know straight from lecture notes and recordings i have disliked the fact that a lot of technical code related things are glossed over — even after having taken cogs 18 it really feels like this is a class meant for cs majors given that it’s a cogs major requirement i think catering more to cogs majors makes sense  loss of direction for final project  using pandas and discussion homeworks im really glad that its not graded based on our correction but some questions are a little tough for me to solve need to memorize lots of syntax due to having to deal with different libraries the arbitrary grading of the project not that i liked the least but the fact that i have already learned the materials in previous classes makes cogs 108 more like a review session but also getting so much harder at the last couple week i have spent a lot of time to do the assignment i have lost passion and cry a lot during the assignment thinking project proposal the homework and discussion assignments and group work the thing i liked least about this course is that although there are many office hours hosted by ta ia and professor it would be more helpful and convenient if there are more hours every day  no response something that i feel is a blessing and curse is the openness of the project  it was hard for my group to come up with something original and interesting and it could have been nice to have some direction  i appreciate this as well however as it gives us the ability to explore anything we want not knowing the statistics theory well deep reasoning behind different plotting methods well as a student in dsc major im quite well with python however i have to check pandas documentation each time i use pandas i know its a painful growing period but worth it pandas is a really important package in python  the coding is hard i need to google tons of information to answer the questions  the multiple deadlines coming on every friday it is convenient for sure but it can be overwhelming in busy weeks  probably more tutorial on github will help because i was less exposed to the site before when we were working on the project proposal cloning and commiting the template from github onto jupyter notebook was a bit confusing for me and took some time to work it out  nothing things i need to do for this course every week is too separated quiz assignment discussion work group work so i have to think about all those kinds of assignments about whether i have finished them or not having difficulties on finding the best data for project creating the charts those functions are quite annoying since they dont have a standard format i think some of the assignment description could be more clear thank you no i hope that in future lectures they are more guiding toward the assignments and discussion labs since its hard to know where to start on some problems without guidance  project   people in different time zone is the problem that we cannot or hard for us to planning a time to meet sometimes not really everything is pretty find its a little hard to do selfstudy on how to use certain modules there is a major python difficulty spike from cogs 18 that i was not prepared for this could be from a lack of preparation on my part however i performed exceptionally well in cogs 18 and i am struggling quite more than anticipated with regards to programming in this course getting adjusted to github is also proving difficult at least with regards to utilizing terminal  trying to figure out how to work with different python libraries pd sns np mpl to get things to work probably having to work on a group project i dont have issues with my group but group projects make me uneasy sometimes  discussion assignments are tedious and sometimes harder than the actual assignments themselves  im stressed out about the project i really dont have the programming comfort to be a huge help i honestly feel really useless on my team nothing so far nothing blatant comes to mind for me personally it has been the pace of the class i understand that its hard to accommodate everyone especially since the class has a wide variety of majors and programming experience i just feel like the class has been moving a bit too slowly i would also like to have more instructions on the process of creating a data science project from scratch since that is a big portion of the class there isnt anything in particular the class has been going great for me so far something ive liked least about cogs 108 could be that the discussion labs are a little long but thats okay the workload is kind of a lot and the material definitely isnt easy anything is good the different graph  the assignment deadlines are lining up with other class assignment deadlines but that is all  the fact that we have to come up with the project proposal which essentially also means already having a particular dataset etc in mind preemptively before weve learned much about the type of analysis well be doing i dont really understand lecture since its usually large blocks of code and we go through them quickly rather than breaking down each code line i also dont like how most of the topics in discussion lab are not in lecture and i feel like i have to google most of it to understand  learning these modules is real confusing like i understand a good amount of python but i cant wrap my head around the data manipulations and plotting stuff still feel like i need a ton more help and its making me very stressed about making progress on my project since theres so much i want to do but i just cant because i dont know how to go about starting lecture can be a little densefast sometimes occasionally professor will take time and carefully express how a certain function works and gives multiple examples of different uses other times she breezes through a function and gives a general idea of how it works this results in many students at least the ones i have communicated with investing a large sum of time figuring out how to use certain functions during each and every assignment so far vaguely worded options in quizzes the materials are getting scarier by lecture the amount of new stuff is a little overwhelming to me especially when applying them in the discussion labs and upcoming assignments as well as for the final project i worry that my performance wont be as satisfactory as id hope its also extremely time consuming to me because of my limited knowledge but whenever i get it its the best feeling the coding aspect is a lil overwhelming  sometimes i feel like quiz material is not covered in the lectures or is very detailed so its hard to remember i take notes on majority of the content and sometimes i still cant recallfind it some of the discussion labs were very challenging for someone with essentially no experience with the analysis packages also assignment 2 was due after lab 3 but lab 3 required skills learned from assignment 2 which was confusing i understand their purpose but the weekly quizzes give me anxiety because some of the answers seem finicky and subjective i wish there was some kind of replacement for these i know clicker questions were that replacement when classes were in person assignment is too straight forward solutions are almost given maybe having weekly problem set without specific approach would better promote selflearning i think the least i like about this class is that theres a lot of coding but not too much detail on how to do it i often find myself looking up how to use functions in order to complete the discussion labs and assignments  having to use github for our project proposal was a little difficult since every little comma matters for the full file to load but once we got over that it was perfectly fine to learn coding im not very good at it thus i always need extra time trying to figure them out but once i figured something out it was always satifying  overall i really enjoy the class but what i think the thing i like the least has more to do with coding than it actually has to do with the class ive taken a bunch of cs courses before this class but i think pandas in general just irritates me because im so unused to it i understand how to solve the problems and what the end goal should be but i find that it can be really annoying without knowing the right code to use along with not knowing what exactly to look up when im stuck probably the discussions as they are sometimes ambiguous and im unsure of what to put in for my answers sometimes i have liked the least working with github this is more of a personal issue because it is my first time using it and i am very unfamiliar i understand the terms and what i am supposed to do but get confused on how to carry out what i want to the lecture quizzes because at the end of the week i forget about the small details mentioned in class so i have to rewatch everything to pick up anything missing  the discussion quizzes i feel like they are a bit harder than the hw difficult to get a hang of syntax etc for discussion assignments ive liked the discussion labs the least but that does not mean i dont enjoy them i feel that they vary in difficulty too much and are quite unclear on whats exactly wanted which makes them less enjoyable compared to the assignments a suggestion from me would be to make the instructions slightly more clear on whats wanted and i believe that will make the labs more enjoyable discussions and assignments are quite challenging it would be beneficial for us to take more time learning programming rather than logics theres nothing i disliked about cogs108 thus far the only thing i could nitpick would be that the assignment and labs can be a bit difficult at times if you dont show up to the lab sections  homework is a little bit hard datahub still very worried about the final project since we think our proposal is not good and it is difficult to find data that we want and determine our research question if i had to pick the part ive liked the least about cogs 108 was when we had to conceptually learn about github privacy ect i like the coding aspect of this class more than the conceptual one so it was harder for me to focus on the concepts on the other hand i do recognize that they are important so i knew they were necessary to learn  the teach speaks a little too fast minimal instructions in discussions i liked how a2 guides you and you learn a lot whereas discussion is just less vague and you dont really know where to start if youre stuck however sometimes working with a group needs way more effort not about the course but python itself it was kinda confusing and hard to understand the logic at first since i have not learned it before this course and it is pretty different from the languages i am familiar with c java the incovinient caused by online courses make it difficult to communicate with group members there are some quiz problem that prof just mentioned ambiguously on class and i think it should be some more technical problem not getting feedback for our project idea sooner nothing i am having a blast thank you i dont like waking up early in the morning for lecture but i have to because i liked being in lecture live i want to learn more on how to use github because i am still not comfortable using them i definitely have struggled a little with the discussion labs  the assignments are fine because the instruction is detailed but even after watching the discussions i cant figure a lot out this is also the first very hands on course ive had at ucsd with doing my own research so it has been hard believing in myself and my abilities when it is something out of my comfort zone that i dont have experience with but nonetheless i am very excited to get more involved in this class groups lectures go a little fast knowing that cogs 108 was an intro to data science i knew that we were going to be going really fast through some of the topics i would love to have spent more time going over pandas syntax and tools and tips for effective data wrangling the consistent amount of assignments that its at 9am  on a serious note there isnt anything i havent liked about cogs 108 so far working in groups very hard to coordinate meeting together not easy being productive on a large group project when being remote  i wish we had a midterm of sorts to synthesize the content so far somehow i dont have any particular thing that ive liked the least the discussion labs i feel like they just are a simplified version of assignments which dont necessarily add anything to my skillset discussion labs are a little bit harder than expected i spent a lot of time on doing them the documentation for pandas sucks so far the discussions take me significantly longer than the assignments i wish i had learned all of the syntax that i need for discussions either in lecture or in a discussion guide as most of the times i have to google everything which takes a while depending on if i know what im looking for i have liked least about cogs108 assignments and discussion labs because most of them are not covered during the lectures  mainly scared for finding datasets for our question and thinking that we should slightly modify our question based off this weeks lecture i sorta think ours is a little vague and could be specified  the struggles and challenges of working as a team nothing really course is not as high stress but more learning involved which is good maybe more lecture notes describing content in detail i dont like using many different platforms  so campuswire is a bit annoying for me ive never understood why we need canvaspiazzacampuswireetc sometimes i feel lost in the immense data that is provided to us and i feel that im having a hard to honing down to a particular question that i want to solve for the project that at the same time is also answerable with data the assignments i just take a long time completing assignments but thats just because i struggle with coding the discussion sections have gotten pretty long but i like that we can check our answers after i wish we could get more help through a system like autograder but that might be a personal preference  too many backgrounds and concerns on data analysis i have liked everything in this course about equally so far i find all the topic covered interesting and useful i am not bored with anything  i personally do not like how much time i spend on the discussion assignments i spend a lot of time trying to understand the question and then trying to solve it but its been very time consuming the first few lectures were a bit slow for me mainly because i already knew a lot of topics introduced at the start probably all of the time i spend debugging my code haha i feel like lectures move a bit too fast its always one thing to the next without much explanation also discussion sessions i feel like a pretty useless well im not a greatwellversed coder so naturally i dont like the coding part but its still fun to learn i just wish i had more time to absorb the information i think its pretty good i think figuring out as a team what to approach for our project was difficult we had directions we were interesting in heading towards but had to really figure out which ones would yield a significant enough perspective which had data sets that could give us ample information etc i am excited to get rolling though now that we have our research question my least favorite part of cogs108 is the submitting process on datahub im constantly forgotting to submit my assignments and have to revisit the page after i finish assuming i remember least of all  i dont really like weekly quizzes but i understand why we need them i dislike that we have multiple things due every week eg quiz hw discussion i like it hardest part about this class is learning command line to push and pull repo  everything is very new and tough takes a lot of time to learn the concepts i like that all the deadlines are on the same day but i do feel like its a lot of work each week when balancing 3 other demanding classes too  nothing in particular the pace is a bit fast but i am learning a lot not knowing where the project is headed yet gives me some anxiety completing the assignments and labs  the vague expectation for the final projects group works discovering a2 was basically a precursor to a lot of what i couldnt quite wrap my head around in d3 sometimes its hard to wake up for this class in the morning so i cant always attend synchronously like i would prefer the least i have liked about cogs108 is that its online and one doesnt necessarily get the help they need in person which can be more clear overall i think this course has done great job in making up for that which is good  github but that could just be that i might not still understand how to use it i do not like the discussions too much because it is a little too openended and can sometimes be really difficult to answer some of the questions d3 was one where it was very hard because i had to wait until fridays lecture to do some of the questions more easily honestly i dont find much of if nonenjoyable  using github to work on the project only because our group meets up over discord and works on it together so github doesnt really facilitate all of us working on a document together but im sure itll be more useful as we make smaller changes to the document  the lab assignment is a little bit difficult sometimes im melting what i liked least about cogs 108 is really nothing i think this class is pretty well prepared during the online era of college i enjoyed everything about this class so far the weekly quizzes ive been going to all the lectures and i still struggle with them i find it hard to get other people in my group to work on a group project when our only form of communication is online  sometimes in the weekly discussions the instructions are a little vague so i have to spend more time finding out exactly what i need to do or ask other people who to interpret the question the discussions because i have trouble usually with knowing the right way to solve them sometimes the i feel like i dont have the appropriate knowledge to solve coding problems on the assignment and feel frustrated i dont like working with my group its awkward i try to talk to them but theyre all hesitant to share their thoughts so i unintentionally became the team lead in order to get things done my teammates are still putting in the work though also i think that they dont attend lecture so theyre unfamiliar with github etc so more of editing the files fall onto me which im okay with but it would be nice if the technical skills were more evenly dispersed in my group  idk  i dont have many complaints but the assignments are frustrating at times as with any coding  i feel like the group work has been a lot less exciting than i was hoping for this would be my first project class so maybe i just dont really have a very accurate expectation  i dont feel that the technical discussion have been super helpful for the discussion assignments for d3 the taia leading the section i went to just spent most of class walking through babynames so i didnt really get to ask any questions about d3 occasionally one of the assignments will have a vague question and its hard to tell if i answered it as was intended or sometimes ive already done something in a workbook that im asked for later and i dont know whether to remove it from where i did it on my own first and move it there make a note about it etc the workload is pretty heavy on a weekly basis compared to most of my other classes but thats both a pro and a con for me since i do enjoy the material the documentation for various python functions can be arcane the group project is not as interesting as i thought it was hard to find a good research question i dont like the quizzes system i think it is probably because i am frustrated from missing one of the quizzes by accident and losing that part of the grade i think the assignments are useful  and do a good job to make sure that students are on top of the material week by week so i dont understand the purpose of the quiz i dont like how many of the lecture and learning materials are in different places such as github datahub and canvas the syntax plus ive been spending too long on discussions lack of guidance in project  its not clear which ta will be supervising our project or if we are on the general path for producing a good project i recognize this stance may be hasty in judgement as we will be getting reponses to our final project proposals soon what i have least liked about cogs 108 so far is mainly the group work i do not mean to be mean but the work feels like its just a 1 week break and then do something for a half a day and then next week or next next week and i think that is fine but i forget a lot no response the discussion assignments are confusing to me i find it difficult to do the discussion assignments even after watching lectures and reviewing the discussion section video i find that it takes up too much time to complete and i could be focusing on other assignments that are due the same day such as the quiz or assignmentgroup project coordinating group project stuff because of having to resolve various schedule conflicts especially since i have a job outside of school the labdi work we do each week doesnt do much to aid learning as there is little guidance assignments seem to be better at this the discussion labs are sometimes challenging there is nothing that i dislike  really like the class wish it was in person no response i think that if the lectures were a little more geared towards the discussion and the assignments for this class it would be ideal i find myself a little confused on the wording of the questions within the worksheets and problems of the homework due at times especially also the failure of assertions to work on problems eg the 1950 until now question in discussion 4 confuses me at times i least liked some of the difficult questions on the assignments that i couldnt fully grasp through past lecture information and having to rely on searching the web it is alright at the moment just feels like theres plenty to keep track of none im certain that every lecture is very useful and meaningful  i feel python is a little bit challenging i dislike doing the quizzes i wish the assignments and discussions would replace the quizzes i think the term project could use a bit of more guidence i feel like it is rarely talked about in class dicussion that groupby specific question in d3 cuz i couldnt figure it out despite having background experience in java the discussion labs and assignments can still be a bit confusing i think this is naturally me just trying to learn something new though the discussion assignments feel much more tedious than need to be  the assignments mostly a2 have felt fairly dense and difficult to complete however this may be due to my lack of experience with programmingdata analysis this will probably have to be my group after 4 weeks i feel like 2 of the group members are dead weight either they dont contribute or they write like minimal effortthought sentences which will require us to redo the sections for them as a result despite having 5 people its more like 3 individuals doing all the work furthermore at least for me i think even if they dont do anything its definitely harder to focus when you know that youre somewhat carrying other student who simply dont seem to care no response cogs108 is my favorite class this quarter i really do not have much to complain at the moment  what ive liked least is that the discussions feel really hard while the homeworks feel pretty easy i find myself lost often on the discussion i mostly just dislike having to get up for class at 9am but thats pretty much it the coding is stressful but it always is for is so its nothing new kind of wish there was more of a chance for interaction besides in our groups the note in jupytr notebook are sometimes hard to read  i feel therere some functions of pandas and seaborn that im not familiar with so i need to spend relatively longer time to learn in order to wrap them up and deal with discussion assignments i also hope we could have more iclicker questions to practice occasionally i feel as though the lectures utilize a few methods that could be a little more explained especially for students like me who have minimal experience with python  this particularly goes for data viz concepts however i understand this could be simply a lack of understanding on my part but if we could somehow get a type of reference sheet with data viz functions and differences between packages itd be really helpful  im not sure if i dislike anything there are some aspects of the code being used that has not been explained or brought up in lecture and i many times find myself googling very simple things but with different websites giving me different definitions would be helpful if there was some standardized reference sheet for syntax the assignments they can get very tedious and frustrating it can become really difficult sometimes to understand why the code does not pass an assert or why it raises an error i wish there were more optional readingsmaterials more exposure would really help these topics settle for me the discussion assignments are much more difficult and pretty vague  the different types of plots have been something that i have not been enjoying i have worked with different plots before in a stats class but interpreting and nailing the difference between each of the different types is something im not entirely used to yet the weekly quizzes i feel like they are not helpful i think the topics are really interesting but i would like more of an emphasis on how to perform a data science project with regards to a data sci project in industry i think the project could be more rigorous as i would like to be able to use this project  as an opportunity to promote my data science skills so far i find the course very interesting and there isnt anything i particularly dislike discussions they are very hard the weekly quizzes cause there is always 1 question that i can never be sure what the answer is cause im a little confused on the phrasing of the question or which answer is being desired so it just slightly bothers me i do not like the constant stressing over one question although this cannot be avoided the fast pace of utilizing python is my only complaint coming from a person who had never coded in python before it was difficult learning the basics and applying learnings from class another inevitable fact is that i need to take this course this quarter which happened to be a very challenging time for both education and my mental health other than that i cannot think of any legitimate complaints i think technical contents arent really covered in lectures so it takes a lot more of our own research time to look up functions covered in the discussions it would be a lot more helpful if lectures could cover at least some content for discussion as it could further reinforce our familiarity with functions that we would probably use in our final project i think what ive liked least about cogs 108 so far is our group project with the pandemic and varying time zones it is very difficult for all of us to convene at a  specific time and because of that some members feel pressured to put in work before meetings than they have to this results at an inherent imbalance in work distribution which doesnt necessarily occur out of any malicious intent but rather self preservation  working on the group project  i do not enjoy working in groups the adjustment to using python has been a bit of a struggle as i am largely used to using java yet this isnt a great deterrent to the course as it is a learning opportunity coding and doing the projects  process of writing codes are too struggling for me and the topic the project of my group is hard for me to fully understand honest talk sorry nothing really no response all the office hour is kinda early in my time zone my project group which seems to have abandoned me the process for figuring out the problems i dont learn a lot from the discussion sections and it always feels like theres not enough time to cover everything  the discussion sections have been a bit vague for me and i often struggle with getting through it  the amount of coding ',\n",
       " 'i enjoy about learning python i think learning pandas package enable me to clean my data in more efficient way also i achieve a better tool to express my data when i learned data visualization mainly being able to explore the field of data science and tools to work with and analyze real data out there in the world i think its cool to be able to work with the data to be able to deduce interesting stats or facts that are not easily seen without tools coding is funny i enjoy the ease of access to assignments for instance completing assignments via datahub and canvas is very simple and convenient learning pandas and plots coding is funny hand on experience and discussion about pandas and seaborn functions i have enjoyed the case studies learning about interesting applications of data science juypter notebook applying skills from cogs18 to realworld scenarios such as experimenting  my python skills are not being exercised the process it could be ugly at the start of a assignments but it comes together and i learn the ins and outs through struggling and trial and error  i enjoy learning python and especially how i can apply that in my future career it is a new programming language to me as i only know java so far but learning python is helpful and i know more about how scientists can put the data together to answer questions what i have enjoyed the most are the detailed responses from emails the large amount of feedback is rare to see and it makes it much easier to stay on the right track for the project love the lectures and the amount of information given during them it does not seem like its overwhelming it feels like the perfect amount   learning how to use pandas has been incredibly useful for other classes  i enjoyed learning using github as well as data wrangling  i have enjoyed the ethics lectures the most as i think the concepts are extremely important ive enjoyed doing the a2 assignment because i thought that one was fairly easy to do and it felt good when i understood how to write the code i like the handson experience ive been getting with python in relation to its applications with data wrangling and data visualization designs i feel like having so many opportunities for handson learning has really solidified the fundamentals of using python to perform data analytics and prof ellis always offers clear easytounderstand instruction whenever getting us started on the basics i like the handson experience ive been getting with python in relation to its applications with data wrangling and data visualization designs i feel like having so many opportunities for handson learning has really solidified the fundamentals of using python to perform data analytics and prof ellis always offers clear easytounderstand instruction whenever getting us started on the basics ive enjoyed learning python and the overall organization of the course ive been meaning to learn python for a long time and its nice to have the chance to both learn and apply it to assignments and projects in terms of the organization its really nice that students know pretty much exactly what to expect week to week as it allows us to plan ahead in relation to other classes as well hands on learning of seaborn and pandas also just the idea of fermi estimation which i will now use for the rest of my life i have most enjoyed the team aspect of cogs 108 as a computer science major it is refreshing to be able to work with a larger team and be able to hear the thoughts and ideas of many other people i like that this class revolves around such an interesting project where there is a large amount of flexibility such as free choice of topic  im really not a fan of the material but i like how prof ellis walks us through the notebooks and how the coding stuff is explained very clearly having the explanations in the class notebooks makes doing the discussion labs and assignments a lot easier since i can usually check the class notebook and reliably find the code i need professor is always a joy to have in the class work is spaced out and not too difficult  the discussions and hw no midterms i feel like i learn more from the assignments than i would a test i have enjoyed learning how to incorporate coding into data analysis  i have learned a new way to look at data and had great fun doing research on our project  the group project i think it is really productive and helpful to feel what group coordination would be like in the real world like in a job or research prosition the class rhythm is good for me and because there is no midterm and final it gives me more time to figure out whats the meaning behind each question i think i can learn more in this way i liked exploring ways to represent different visualizations using same dataset and the importance of ethics in data science was intriguing too i enjoyed learning about the different data files such as csv json files and learning about how to use pandas to create different datasets and tables i like the structure of the class and how we work in teams it makes me feel less stressed in knowing that i have a team to collaborate with this quarter instead of having to do a huge project on my own i think that even though its through zoom it offers students the ability to chat and get to know each other in a time where that is limited not only in our social and personal lives but also in school work i think its a nice break and overall makes me feel more confident in the class i have enjoyed the learning of python i can now easily use this language to analyze data i enjoy learning the python library pandas i know it is an important skill for data analyze it is worth to learn in this class since it will be more helpful for my future career i enjoy doing the assignments it is pretty difficult with no python experience and i am also not great at coding so it does take a lot of time but figuring out the code when i’m stuck can be fun sometimes  learning about pandas it is very interesting the class is very structured and despite having many assignments theyre all due on friday every week so its easy to remember  learning about ethics in cogs 108 was really interesting for me but i am biased because i love when ethics are involved in anything i liked learning to do different types of plots using seabornmatplotlibpandas the lecture and homework structure is super clear a lot of resources reasonable amount of workload  the content of the course is really helpful and i think i actually learn something about how to apply data science the thing i have enjoyed most about cogs 108 so far is working on the group project during this time of remote learning i believe things like group projects help people feel less isolated and give students an opportunity to better connect with their peers i like working with a team and learning from other team members i like the pace of lecture and assignments its almost a perfect balance of being able to learn a lot at an optimal level without having excessive stress i enjoy the option to watch the lectures asynchronously such that i can watch the lectures at my own pace and pause when i need to the professors lectures are very engaging ive enjoyed working with my group towards the final project since it seems very interesting how we can work on our own real data science project  i have been enjoying the teaching style professor ellis has been very engaging in the way she has explained concepts and has given very clear answers to questions i think what i enjoy most is that were able to apply concepts taught in class towards a project it gives us more experience through handson learning i also like the fact that we have discussion labs that help with future assignments my favorite part so far is going to the lectures bc professor ellis is really passionate about data science and i like learning about how to conduct research and do data analyses etc  enjoyable subject matter and assignments this is a nice extension to 18 for me to learn about visualizing data instead of just the programming aspects of python i really enjoy the labs they teach me the practical python skills that other classes wont i have enjoyed brushing up on my pandas and matplotlib skills plus learning about seaborn so far the most i have enjoyed about cogs 108 is being able to finally work with data i have for so long wondered what exactly data science consists of and being able to have hands on experience with organizing and analyzing data has given me confidence that ill be able to employ these skills at future tech jobs i enjoy the assignments that make sure i keep my practice up and its honestly so exciting whenever i get a cell to run im very excited for this class and ive already had employers ask about this course while interviewing for internships and theyve shown great interest in the knowledge im gaining from it nni have also thoroughly enjoyed the group work and my team mates are all amazing its been tough not being on campus so its nice to communicate with students through group projects learning how to use python getting to understand more about how visualizations are created i didnt understand how complicated the code could be for creating visualizations from a data frame  i enjoy going to and watching the lectures the way you teach and bring positive energy for an early class makes me want to be there and learn i also love how you read out the questions in the chat before answering them because it makes it easier for me to review when rewatching the lecture videos i really enjoyed learning new knowledge about python and having chance collaborate with other students i have liked the lectures a lot as even though some of the information is confusing i am often engaged the class lectures overall i like the format of the course lectures since it feels really well explained for the content and the format makes it easy for me to understand even if i am participating asych i have really liked the datahub assignments it really allows me to learn by using trialanderror to work through problems the content has been very useful applications of concepts to code the discussion labs because they allow me to practice things before assignments with little pressure i think the lecture is pretty fun and interesting and the data visualization is enjoyable sometimes nothing at the moment and i mean that in a non offensive way but im hoping that working on this group project might be something i end up finding interesting this might be the downside of this class being online i enjoy the content of this course a lot im really excited to have the opportunity to work on a project with team members as this is one of my first project based classes i also really enjoy the research and data analysis of this course because i think it is a valuable experience  think i enjoyed making plots with seaborne cause im visual learner and i like visual representation meeting interesting classmates i was hesitantapprehensive about remote group projects not being able to meet inperson but i have ended up enjoying working with others this is definitely not something i would have done out of my own volition so i am glad this class has gotten me to do it i enjoyed working on the group project its an awesome chance to apply what we learned in class on a project were interested in ive enjoyed being able to watch and stay caught up with lectures on my own time i also really like the exploratory nature of the discussions because they allow me to test where im at and also see where i can afford to expand my knowledge without confusing myself the topics are interesting the assignments allow you to learn things and figure them out working in a group i havent worked in a group in a long time group project leads opportunities to talk to peers learning how to write code for the various assignments definitely been enjoying using pandas and numpy useful skills esp for data science the assignment due on the same day i will not miss any due i really liked the group project working together with a group on a insightful topic of our interests and being able to really apply the analysis skills we learnt from classes to some real world questions ive really enjoyed the group project structure and getting to interact with other students even if its remotely through zoom computer screens i love the way we could work on a project to promote learning learning about pandas and different things to do with data i enjoy learning so many codes i am now really comfortable in python learning about how to manipulate data has been fun while looking for an idea for the project proposal i was looking through the previous projects for inspiration i found a lot of the projects interesting and how they were able to ask insightful questions and answer them using data science  ive had a lot of fun working on the project review and project proposal with my teammates all of our team members try to contribute and give their opinions which was great i also enjoyed going to live lectures or watching the recorded lectures the topics are interesting and i like how everything is explained nicely so that we can easily understand everything assignments and discussion after finished the assignment or lab it the most enjoyable time i have in cogs 108 i like how professor ellis goes through the notebook in class and we are able to follow along so i guess its the format of the jupyter notebooks that allows this also the fact that she goes through all the cells in lecture is helpful  the assignments have been really fun in my classes thus far as a cs major i dont really recall the last time i had fun throughout the process of a programming assignment moreso it has just been a rush of adrenaline when finishing a lab but for this class its fun throughout being able to approach the project with my group so far ive enjoyed working on a longterm project that feels like something i created i have most enjoyed being able to actually do data science related tasks the assignments are a good look into pandas the lectures in datahub they are very clear and a good review of python information while explaining why certain choices are made for analysis learning how to apply python to data science i previously took cogs 18 to learn the basics but its been really fun to learn how to apply it to data science problems the office hours and the study environments since we have multiple resource to ask for help or questions learning about the possible research questions we can answer using data science being able to do the final project a group it really helps being able to bounce ideas off 34 other people learning about various python libraries i have a lot of experience in python but never delved into the basic usage of these useful libraries i enjoyed recapping on python which i taught myself using online resources during high school i also enjoyed learning how to get going on the data science project getting to make data visualizations ive only really ever done something similar to it when i took ap statistics in high school and would run statistical graphs on my tinspire software but nothing as interactive and fun as making the visualizations for discussion labs and assignments the thing i have enjoyed the most about cogs 108 is the lectures and material we have covered in class because it is throughly explained and easy to conceptualize learning and trying code out in datahub and seeing how the code changes data it is cool to see how edits in code can manipulate data tables i enjoy the lectures the most professor is prepared and delivers very informative materials in a fun way a good start for my mornings the project is the most fun and greatest learning experience thus far the assignments so far i have enjoyed learning about pandas and how to use it in conjunction with data it is my first time taking a data science course so i had no familiarity with the package beforehand so it has been interesting to learn how effective it is in reading data and processing it in analytical way i’ve most enjoyed the lectures dr ellis is a very engaging professor lectures are not boring  getting to work on data project with groups on the topic that we are interested in learning how to handle data through python libraries meeting my team i love elliss teaching style shes very clear in her speaking and thought and is very responsive to the comments  i learn a lot on python it is find of fun at the beginning learning pandas  professor elliss lectures i enjoyed that there are many extra resources and materials provided by the course github page i have enjoyed the assignments because i have been able to practice my skills with some cool real world examples i enjoy how interactive the discussions and homework are  i feel like the ideas that are taught in lecture are immediately enforced with the discussion assignments and homework  it helps to retain the information in a low stake manner having many chances to practice projects assignments discussions i really enjoyed using models we learned to visualize data  the group project so i get to meet people and make friends with my groupmates the lectures learning to conduct a data science research is pretty cool incorporation of course material into jupyter notebook and github which allows me to practice using those tools while studying the course  learn to use seaborn to plot visualizations for dataset i enjoyed what i could learn from this course because i feel like all the things that i am learning now are not so challenging to me and those things will definitely be helpful in the future learning different method and information about data analysis dataframes are pretty cool i enjoy the assignments the most since i learned pandas before but was unfamiliar with the syntax so i picked up the syntax while doing the assignment chill people noice professor ive enjoyed how visually understanding the lectures are they are easy to follow which makes the class less daunting also the energy of the class assignment and lecture learned alot from the lectureand use it on our assignment is fun looking all those data become organized is so fun the asynchronous nature of the class it is easy for me to be flexible around when i can do work for this class during the week and allows leniency for other classwork i love the exploration of ethics and statistics that we have engaged in it’s really important to make clear that ethical usage of data needs to be a priority tying data science with its statistical roots also helps me grasp the python implementation of statistical analysis that we perform in this class even if it’s currently limited to descriptive statistics and representation  learning about how to manage different data i  like how the discussion labs are graded on effort sometimes i cant figure out the correct methods to use so its less stressful seeing real life applications to the concepts were learning about i enjoyed the candy data set in a2 so far i enjoy learning from the assignments i think theyre applicable and are helpful in terms of the material coding assignments because its been my first experience with python and i have found it interesting so far how the class is organized ie i like how the discussion slides are graded based on completion rather than correctness so that it makes it less stressful ive enjoyed going through the discussion notebooks and the assignments i thought they were a good review for the concepts and processes that ive previously learned in dsc classes the assignments working with data is actually quite fun really looking forward to the group project ive enjoyed learning about pandas seaborn and data visualizations i never knew we could do in python ive been learning a lot so far i like being able to work in a group especially during covid  lecture is most i enjoyed i likes how you use example to explain those technical  things the coding as i like jupyter notebok i have enjoyed learning the essentials to becoming comfortable coding with python getting to do some handson pandas stuff in smaller doses with the discussion notebooks i have liked how topics are discussed in lecture in a clear and organized manner i also like all the project deadlines to keep us on track and that it is all spaced out  ive really enjoyed getting to experiment with dataframes and the idea of learning modules like pandas matplotlib and numpy it has been fun working in python given that its a new language to me i have enjoyed learning the new syntax and am enjoying the simplicity and dynamic typing in python i enjoy the data visualization constantly learning new materials on python and pandas theres so much to data science and computer science i dont know about having a glimpse into the two worlds is quite intriguing and eyeopening  i enjoy working with python the lectures are very chill and not too intense material the class is very decently paced including assignments and due dates ive learned new data science techniques that seem to be pretty useful skill to have in my repertoire as an ee student  i really like getting more experience with pandas and the data visualization packages im going to have to use both and r in my work when i graduate so its good to be learning them now clear explanation on concepts i enjoy learning a lot about data science because it is a new subject to me since i am a mathcs major  flexibility with deadlines and assignments along with how everything we need to know is covered in lecture to try to find ways of solving actual research questions through coding and do peer review of projects that were done by previous groups the thing i enjoy most is being able to create our own project and work with others in a group i think that its really important to learn to work with other people for big and important projects because it helps to prep us for our futures where we arent just working alone on everything its also really enjoyable that i can work with other people because remote learning can be very boring while staying at home all day  datahubjupyter having never used it before it is nice to learn and do the homework as i progress i have enjoyed the structure of the material and the way lectures have been carried the most i do feel like there is good explanations and care for the students learning i enjoyed learning how data relates to the real world and being able to understand data better i enjoyed the real life examples talked about in class  i enjoyed learning more applications of python i think it will be very beneficial to me later on in my life handson data science project  actually get to learn on the go i enjoyed the lectures and assignments from cogs 108 so far the assignments are very helpful in understanding lecture material and i enjoy that it goes more in depth with certain topics forcing you to look up the manual of methods and such for pandas seaborn etc i also enjoy the lectures in how they are very concise and straight to the point on information which makes it easier to take in the material when viewing the lecture what i have enjoyed most about cogs 108 is using jupyter notebook by using different libraries on jupyter notebook i have become more familiar with the datasets and learned some sense of analyzing it i really enjoy learning the technical skills weve been learning especially with pandas in python i had taken dsc10 before but we were using a different version of pandas and its been really interestingchallenging learning how to use pandas and applying it to the project the data visualization part is really useful ive enjoyed learning more about the pandas package in cogs 18 we just briefly went over it and at that time it didnt seem like it could do much however just by going over a2 it really is a powerful tool and it was interesting to me to see how lines of code could result in visual images such as graphs and that there are multiple ways to change the graph to fit my image  the class is interesting and teaches us useful skills of data analyze i liked learning about pandas and other libraries i like how we think of our own ways to apply what we learn in a project when we learn data visualization it is fun to see how the codes related to the graph it created i enjoy learning how to wrangling the data and use it to solve real problems it is fun to develop my python skill  how everything due each week is due on friday and that theres a slide saying what is due on friday the lectures i really wish i took this class when i was learning pandas my old classes told us to learn by reading the documentation and including miscrelated things like the fermi problem i loved i also love how structured the class is and how assignments can be validated through datahub i wish my dsc classes also did this i enjoyed doing the discussion labs and assignments i like learned about how to use data and analysis the figures that come from data learning to use pandas using and learning more about jupyter notebooks i havent used it since my dsc10 class and it is just so fascinating how much more efficient and convenient it is than using a text editor such as atom  the lectures easy to follow the class is very organized and structured well to give students both enough flexibility and challenges to adjust their workload for the class appropriately each week i have loved working on the cogs108 discussion and assignment notebooks working with real data and coming up with an analysis on the data is satisfying for me personally additionally i have enjoyed the collaborative aspect of the project and being able to interact with other people while working remotely learning how to do things in python in a structured and easy way the lectures focus on material that is relevant for assignmentslabs in some classes the professor doesnt discuss the concepts we need to use on homework this has not been the case in cogs 108 lecture content is being taught well with good pacing professor knows what shes doing  the lectures have been really interesting and i have enjoyed them a lot working with my group gradually working through the project i like working with datasets watching recorded videos and being able to generate the plots and arrive at the right result learning more python seeing concepts learned in cogs 18 expanded on for more practical applications i enjoy that we learn about a variety of topics really quickly i feel like im learning a lot in just a few weeks communication with groupmates  learning the theory behind data visualization its something that i didnt really give too much thought about til we learned more in class i think its really interesting that theres so much that goes into it  going through the experience of working on a data science project as part of a team learning about the different aspects of data science i have enjoyed going over how to better use visualization tools in order to show particular data data wrangling has actually been quite interesting i struggled at first but after a while it has started to become fun to figure out ways to extract the data i want and then to have a visual for it having the freedom to do a project on something i am interested in ive enjoyed the content of the classes the most so far its all interesting i loved learning how ethics is not overlooked i always wanted to learn more about ethics and i am glad that this classes does not fail to mention them it keeps me reminded on how i need to be a responsible engineer  learning skills in data analysis which make good use of it i like the learning of pandas as i previously had a class that used it but was not taught it therefore i manipulated data without actually understanding what i was doing the lectures have been very pleasant i love the style of class and how professor ellis has made the material easy to understand learning new toolsmethodologies for parsing and analyzing data learning about the entire field of data this is my first data science class so i find it all really interesting its a lot more relaxed and not as demanding  data visualizations being able to actually see the code i wrote and you taught be put into sight was super cool but besides the concepts weve learned i really enjoy how patient and fun of a lecturer you are big shoutout to the ohso patient tas as well the assignments and labs are really clear i surprisingly enjoy figuring out how to properly code in python during the assignments perhaps because i hadnt coded for a while since cse 11 last winter its satisfying how quickly i can run my code in the jupyter notebook my favorite portions of cogs108 were those that had direct realworld parallels like when we were going over github and when we went over data bias meeting my group members i really enjoyed learning new python techniques and just more about data science in general freedom of final project taprof contact and accessibility i am enjoyed learning about accessing libraries and dataframes to create visuals  learning how to wrangle data meeting new people in the group projects because it helps it feel like the class environment which i never thought id miss  how applicable what were learning about  i have enjoyed learning more about using pandas to visualize data the assignments so far have been great learning experience the assignments have been challenging but in a good way it feels good when my code finally works working with my group the seabron and the plotting from python learning more about data science this is the only class i have this quarter that is both well organized and engaging my other classes make it extremely difficult to learn even by remote learning standards so this class is the semblance normalcy for me  i really like working with data and programming in python overall so thats what ive liked the most so far the opportunity to learn about the power of data and see it personally through programming assignments in python all the ways that python can be used to keep track of data i enjoyed the most doing the assignments because theyre informative and give a thorough understanding of how to use pandas and seaborn i actually like doing the partner project since it gives me an opportunity to meet with new people i think the way the project is structured is done very well most classes have final projects and you only start doing work for it in maybe the last 2 weeks but in this class we started very early and i like that its super well structured and gives us a good start without having to scramble at the last minute to finish anything the lectures and assignments have been really helpful in teaching the basics of pandas and hands on with manipulating datasets  i enjoy doing the group project because it offers me an opportunity to communicate with my classmates in remote learning simplicity of demands what i enjoyed most about cogs 108 so far is the overall setup of the assignments i have learned from every single assignment that i did so far they also are set up to build on each other and there doesnt seem to be a dramatic jump in difficulty between them the group work my team and i picked a very interesting topic and talking about it and speculating what we might see is fun i really enjoy the pace of this class the discussion labs help us think more about the material on our own without too much stress as well as helping prepare us for the homework and project this class gives us time to practice what weve learned in class before moving too quickly on to another topic  the content in general is really interesting i find the way that we are able to acquire data from websites and other places so cool learning about the data wrangling techniques i love data analysis and how it could be applied to literally any field to make hypothesis about relationships between variables and draw conclusions the coding assignments on datahub i like the structure of the class concise well laid out lectures assignments all due on friday  learning how to analyze and visualize data  i think that the lectures are pretty informative and helpful a lot of the material i have learned in other classes so far but i like familiarizing myself with github wish we could do a little more with it though ive enjoyed doing the discussion assignments because theyre helping me practice my python skills  working with python has been my favorite part i have used java in my last several computer science courses and getting to use python feels like a breath of fresh air because its so much more intuitive and it works better for me also i quite like working and submitting in jupyter i like the handson jupyter notebooks and the flexible course schedule i enjoy completing the discussion labs and assignments i think it is quite helpful so far i have really found it useful to get a refresher on the basics of data science and programming with data in general sometimes in more complex classes i just end up googling at every step so its nice to go back and revise the basics to solidify my understanding the application of our new skills and methods towards the goal of making a project rather than memorizing for an exam assignment 2 wide variety of information being taught  clear explanations for new information introduced along with plenty of material discussion to explore aspects not covered in class lectures are a good mix of notebooks with handson learning and pdfs for other material learning python being able to make quick graphs of a data set feels like an extremely valuable skill  i liked learning and using pandas in a2 learning pandas and learning more about python i enjoy the content being taught i find the information to be helpful and a nice tool to use if i ever need to use it in the future guided datahub assignments i think progressive application of material helps me to learn the best i really enjoy the way we look at the notebooks in class and see how things actually work being able to learn about so many different things about data science this course really opens a door for me  i really like working with jupyter notebooks for lecture notes because it is interactive and allows me to explore the codes also after lectures the ability to come up with a project idea on our own and pursue the research in a reasonable structure learning python i enjoyed how beginnerfriendly and kind all my groupmates the professor and staff have been for this class i would say this is the epitome of a positive openminded learning environment i also enjoy how welcoming and easytotalkto professor ellis is i have enjoyed the research on different topics for the group project covers everything required for data science i have learned how to wrangle data by using pandas and seaborn packages and the fernmi estimation so far in my opinion python is more flexible language to deal with data analysis than other languages like c or java  i enjoyed discuss with my partners and we came out a lot of ideas i enjoyed learning about the differences between the different graphing libraries though i used the different libraries i didnt fully understand the differences  how the assignments guide you on what to do for example a2 had examples of how to use the operations it wanted us to us the class structure exploring what python can do the lectures are engaging and interactive the assignment pas they feel thoroughly written  learning how to utilize python to conduct data analysis and learn more about given research topics seems highly useful and applicable in future projects ive enjoyed the programming aspects like interacting with pandas the most coming into this course i was already comfortable with programming in general but i never took the time to familiarize myself with these popular python packages so i think its been a great first exposure to these tools ive enjoyed the lectures straightforward directions and available help i like the group work setting i enjoy that i am allowed to choose my own teammate in classes where i have no control over my teammate i find it very difficult to hold my teammates accountable and thus my grade was affected i also like the optional discussionlab i have learned a lot from the discussion while not having to worry about losing points during the process ive enjoyed everything for the most part i feel like im learning a lot in regards to data science and the curriculum is interesting and engaging i enjoyed the amount of time we get to complete the assignments a lot of us having a lot going on so its nice to not be on a time crunch for everything the live lectures are really nice i enjoyed most about how we get to practice the skills that we need in jupytr notebook i feel like the assignments and discussion are helpful  im glad that i learned how to wrangle dataset and create colorful plots to find relationship between numbers and objects although the most difficult i have truly enjoyed the assignments in the class so far although weve only done the assignments on the easier end ive enjoyed tackling each problem and have found myself surprised at how much ive learned i really enjoy the openended type of questions that allow me to think about what strategies i can use  although the occasional hints are also extremely helpful  learning how to use the different python libraries for a class that has a coding prerequisite i like how the professor is still taking the time to explain basic concepts instead of rushing right in without having a strong coding background i am still able to follow along most of the times and the pacing allows for slow listeners and slow learners to not fall behind seeing how i can  use code to find the average  of my data or any other information i need from a data frame is something i have enjoyed it is pretty neat that i do not have to go through all the data but instead i can write a  a code that will fetch the data for me  i like that most of the material python libraries eda and ethics isnt being made unnecessarily difficult for me personally and where im gauging myself at just having more exposure to and having the chance to practice these basics is super helpful its encouraging to not be drowning in new material for once instead of stressing out learning new things i get practice with important skills something that i feel other courses dont offer the thing i enjoyed most about cogs108 so far is learning about how to take csv files from websites and making them into datasets the assignments are very fair i enjoy programming in python and trying to plot various data i have a lot of experience in python but i do not have that much experience in interpreting and cleaning data like this working with my group members establishing new connections i enjoy the format and the digestible information is great for people new to data science learning python and web scraping assignments i really like the group project and the structure involved in the deadlines and instructions it feels very structured and helps us really understand how to structure and communicate to be able to do a project with others and what deadlines are necessary i enjoy learning about the ability to make data models which i want to use later for machine learning really learning about how to question data around the world and the fact that discussion labs which are a bit more simple compared to assignments can be used in substitute for final grade  lectures arent so condensed that both conceptual and technical content like specific functions put together theyre also recorded and rarely go over time i think ive enjoyed importing and learning about different uses for python that apply toward data science and analysis in the real world prior to this i had been wondering how exactly my cogs degree would result in me being able to be qualified in analytical data so now that were doing it it feels pretty satisfying working on the assignments  its a nice way to get introduced to python ive largely enjoyed the teaching style professor ellis is very clear with her explanations for the various different aspects of the course especially when we go over pythonpandasetc nothing making beautiful viz homework working on the group project during this pandemic makes me feel like i am not alone and also going to the oh and chat with the tutors learning about python because i didnt know much going in doing the discussion question ive enjoyed the assignments the most i feel like im learning as i walk through them the clear lectures theyre easy to follow and introduces the topics well learning how to incorporate data science into our lives']"
      ]
     },
     "execution_count": 70,
     "metadata": {},
     "output_type": "execute_result"
    }
   ],
   "source": [
    "corpus"
   ]
  },
  {
   "cell_type": "markdown",
   "metadata": {
    "slideshow": {
     "slide_type": "slide"
    }
   },
   "source": [
    "### Calculate TF-IDF\n",
    "\n",
    "With our text ready for analysis, it's time to calculate TF-IDF"
   ]
  },
  {
   "cell_type": "markdown",
   "metadata": {
    "slideshow": {
     "slide_type": "fragment"
    }
   },
   "source": [
    "To start our TF-IDF analysis, we'll first **create a `TfidfVectorizer` object to transform our text data into vectors.**"
   ]
  },
  {
   "cell_type": "code",
   "execution_count": 71,
   "metadata": {
    "slideshow": {
     "slide_type": "fragment"
    }
   },
   "outputs": [],
   "source": [
    "from sklearn.feature_extraction.text import TfidfVectorizer"
   ]
  },
  {
   "cell_type": "code",
   "execution_count": 72,
   "metadata": {},
   "outputs": [],
   "source": [
    "TfidfVectorizer?"
   ]
  },
  {
   "cell_type": "code",
   "execution_count": 73,
   "metadata": {
    "slideshow": {
     "slide_type": "fragment"
    }
   },
   "outputs": [],
   "source": [
    "# create vectorizer\n",
    "tfidf = TfidfVectorizer(sublinear_tf=True,\n",
    "                        analyzer='word',\n",
    "                        max_features=2000,\n",
    "                        tokenizer=word_tokenize,\n",
    "                        stop_words=stop_words)"
   ]
  },
  {
   "cell_type": "markdown",
   "metadata": {
    "slideshow": {
     "slide_type": "slide"
    }
   },
   "source": [
    "#### TF-IDF: COGS108 data - calculation\n",
    "\n",
    "Here, we use our vectorizer to calculate TF-IDF across the words in our word matrix."
   ]
  },
  {
   "cell_type": "code",
   "execution_count": 74,
   "metadata": {
    "slideshow": {
     "slide_type": "fragment"
    }
   },
   "outputs": [],
   "source": [
    "# calculate TF-IDF\n",
    "cogs_tfidf = pd.DataFrame(tfidf.fit_transform(corpus).toarray())\n",
    "cogs_tfidf.columns = tfidf.get_feature_names()\n",
    "cogs_tfidf = cogs_tfidf.rename(index={0:'least', 1:'most'})"
   ]
  },
  {
   "cell_type": "code",
   "execution_count": 76,
   "metadata": {},
   "outputs": [
    {
     "data": {
      "text/html": [
       "<div>\n",
       "<style scoped>\n",
       "    .dataframe tbody tr th:only-of-type {\n",
       "        vertical-align: middle;\n",
       "    }\n",
       "\n",
       "    .dataframe tbody tr th {\n",
       "        vertical-align: top;\n",
       "    }\n",
       "\n",
       "    .dataframe thead th {\n",
       "        text-align: right;\n",
       "    }\n",
       "</style>\n",
       "<table border=\"1\" class=\"dataframe\">\n",
       "  <thead>\n",
       "    <tr style=\"text-align: right;\">\n",
       "      <th></th>\n",
       "      <th>least</th>\n",
       "      <th>most</th>\n",
       "    </tr>\n",
       "  </thead>\n",
       "  <tbody>\n",
       "    <tr>\n",
       "      <th>actively</th>\n",
       "      <td>0.019134</td>\n",
       "      <td>0.000000</td>\n",
       "    </tr>\n",
       "    <tr>\n",
       "      <th>actual</th>\n",
       "      <td>0.035525</td>\n",
       "      <td>0.015044</td>\n",
       "    </tr>\n",
       "    <tr>\n",
       "      <th>actually</th>\n",
       "      <td>0.032487</td>\n",
       "      <td>0.048100</td>\n",
       "    </tr>\n",
       "    <tr>\n",
       "      <th>add</th>\n",
       "      <td>0.019134</td>\n",
       "      <td>0.000000</td>\n",
       "    </tr>\n",
       "    <tr>\n",
       "      <th>added</th>\n",
       "      <td>0.019134</td>\n",
       "      <td>0.000000</td>\n",
       "    </tr>\n",
       "    <tr>\n",
       "      <th>...</th>\n",
       "      <td>...</td>\n",
       "      <td>...</td>\n",
       "    </tr>\n",
       "    <tr>\n",
       "      <th>arent</th>\n",
       "      <td>0.023051</td>\n",
       "      <td>0.025472</td>\n",
       "    </tr>\n",
       "    <tr>\n",
       "      <th>around</th>\n",
       "      <td>0.023051</td>\n",
       "      <td>0.031572</td>\n",
       "    </tr>\n",
       "    <tr>\n",
       "      <th>arrive</th>\n",
       "      <td>0.000000</td>\n",
       "      <td>0.021144</td>\n",
       "    </tr>\n",
       "    <tr>\n",
       "      <th>ask</th>\n",
       "      <td>0.028571</td>\n",
       "      <td>0.031572</td>\n",
       "    </tr>\n",
       "    <tr>\n",
       "      <th>asked</th>\n",
       "      <td>0.019134</td>\n",
       "      <td>0.000000</td>\n",
       "    </tr>\n",
       "  </tbody>\n",
       "</table>\n",
       "<p>70 rows × 2 columns</p>\n",
       "</div>"
      ],
      "text/plain": [
       "             least      most\n",
       "actively  0.019134  0.000000\n",
       "actual    0.035525  0.015044\n",
       "actually  0.032487  0.048100\n",
       "add       0.019134  0.000000\n",
       "added     0.019134  0.000000\n",
       "...            ...       ...\n",
       "arent     0.023051  0.025472\n",
       "around    0.023051  0.031572\n",
       "arrive    0.000000  0.021144\n",
       "ask       0.028571  0.031572\n",
       "asked     0.019134  0.000000\n",
       "\n",
       "[70 rows x 2 columns]"
      ]
     },
     "execution_count": 76,
     "metadata": {},
     "output_type": "execute_result"
    }
   ],
   "source": [
    "cogs_tfidf.T.iloc[30:100]"
   ]
  },
  {
   "cell_type": "markdown",
   "metadata": {
    "slideshow": {
     "slide_type": "slide"
    }
   },
   "source": [
    "#### TF-IDF: COGS108 data - output\n",
    "\n",
    "If we just want to look at the word most uniuqe in each document..."
   ]
  },
  {
   "cell_type": "code",
   "execution_count": 77,
   "metadata": {
    "scrolled": true,
    "slideshow": {
     "slide_type": "fragment"
    }
   },
   "outputs": [
    {
     "data": {
      "text/plain": [
       "least    hard\n",
       "most     data\n",
       "dtype: object"
      ]
     },
     "execution_count": 77,
     "metadata": {},
     "output_type": "execute_result"
    }
   ],
   "source": [
    "most_unique = cogs_tfidf.idxmax(axis=1) \n",
    "most_unique"
   ]
  },
  {
   "cell_type": "markdown",
   "metadata": {
    "slideshow": {
     "slide_type": "fragment"
    }
   },
   "source": [
    "Alternatively, we can sort by the set or words most unique to each document:"
   ]
  },
  {
   "cell_type": "code",
   "execution_count": 72,
   "metadata": {
    "slideshow": {
     "slide_type": "fragment"
    }
   },
   "outputs": [
    {
     "data": {
      "text/html": [
       "<div>\n",
       "<style scoped>\n",
       "    .dataframe tbody tr th:only-of-type {\n",
       "        vertical-align: middle;\n",
       "    }\n",
       "\n",
       "    .dataframe tbody tr th {\n",
       "        vertical-align: top;\n",
       "    }\n",
       "\n",
       "    .dataframe thead th {\n",
       "        text-align: right;\n",
       "    }\n",
       "</style>\n",
       "<table border=\"1\" class=\"dataframe\">\n",
       "  <thead>\n",
       "    <tr style=\"text-align: right;\">\n",
       "      <th></th>\n",
       "      <th>data</th>\n",
       "      <th>learning</th>\n",
       "      <th>enjoyed</th>\n",
       "      <th>like</th>\n",
       "      <th>python</th>\n",
       "      <th>really</th>\n",
       "      <th>assignments</th>\n",
       "      <th>class</th>\n",
       "      <th>project</th>\n",
       "      <th>lectures</th>\n",
       "      <th>...</th>\n",
       "      <th>assured</th>\n",
       "      <th>meetings</th>\n",
       "      <th>meets</th>\n",
       "      <th>melting</th>\n",
       "      <th>assuming</th>\n",
       "      <th>memorization</th>\n",
       "      <th>memorize</th>\n",
       "      <th>mental</th>\n",
       "      <th>mentioned</th>\n",
       "      <th>1</th>\n",
       "    </tr>\n",
       "  </thead>\n",
       "  <tbody>\n",
       "    <tr>\n",
       "      <th>least</th>\n",
       "      <td>0.058484</td>\n",
       "      <td>0.052186</td>\n",
       "      <td>0.028571</td>\n",
       "      <td>0.073100</td>\n",
       "      <td>0.056880</td>\n",
       "      <td>0.063490</td>\n",
       "      <td>0.070019</td>\n",
       "      <td>0.066598</td>\n",
       "      <td>0.067142</td>\n",
       "      <td>0.054398</td>\n",
       "      <td>...</td>\n",
       "      <td>0.019134</td>\n",
       "      <td>0.019134</td>\n",
       "      <td>0.019134</td>\n",
       "      <td>0.019134</td>\n",
       "      <td>0.019134</td>\n",
       "      <td>0.019134</td>\n",
       "      <td>0.032397</td>\n",
       "      <td>0.019134</td>\n",
       "      <td>0.040155</td>\n",
       "      <td>0.04566</td>\n",
       "    </tr>\n",
       "    <tr>\n",
       "      <th>most</th>\n",
       "      <td>0.087069</td>\n",
       "      <td>0.085760</td>\n",
       "      <td>0.079796</td>\n",
       "      <td>0.077846</td>\n",
       "      <td>0.077135</td>\n",
       "      <td>0.076131</td>\n",
       "      <td>0.076131</td>\n",
       "      <td>0.074196</td>\n",
       "      <td>0.073594</td>\n",
       "      <td>0.070541</td>\n",
       "      <td>...</td>\n",
       "      <td>0.000000</td>\n",
       "      <td>0.000000</td>\n",
       "      <td>0.000000</td>\n",
       "      <td>0.000000</td>\n",
       "      <td>0.000000</td>\n",
       "      <td>0.000000</td>\n",
       "      <td>0.000000</td>\n",
       "      <td>0.000000</td>\n",
       "      <td>0.000000</td>\n",
       "      <td>0.00000</td>\n",
       "    </tr>\n",
       "  </tbody>\n",
       "</table>\n",
       "<p>2 rows × 1684 columns</p>\n",
       "</div>"
      ],
      "text/plain": [
       "           data  learning   enjoyed      like    python    really  \\\n",
       "least  0.058484  0.052186  0.028571  0.073100  0.056880  0.063490   \n",
       "most   0.087069  0.085760  0.079796  0.077846  0.077135  0.076131   \n",
       "\n",
       "       assignments     class   project  lectures  ...   assured  meetings  \\\n",
       "least     0.070019  0.066598  0.067142  0.054398  ...  0.019134  0.019134   \n",
       "most      0.076131  0.074196  0.073594  0.070541  ...  0.000000  0.000000   \n",
       "\n",
       "          meets   melting  assuming  memorization  memorize    mental  \\\n",
       "least  0.019134  0.019134  0.019134      0.019134  0.032397  0.019134   \n",
       "most   0.000000  0.000000  0.000000      0.000000  0.000000  0.000000   \n",
       "\n",
       "       mentioned        1  \n",
       "least   0.040155  0.04566  \n",
       "most    0.000000  0.00000  \n",
       "\n",
       "[2 rows x 1684 columns]"
      ]
     },
     "execution_count": 72,
     "metadata": {},
     "output_type": "execute_result"
    }
   ],
   "source": [
    "cogs_tfidf.sort_values(by='most', axis=1, ascending=False)"
   ]
  },
  {
   "cell_type": "code",
   "execution_count": 73,
   "metadata": {
    "scrolled": false,
    "slideshow": {
     "slide_type": "fragment"
    }
   },
   "outputs": [
    {
     "data": {
      "text/html": [
       "<div>\n",
       "<style scoped>\n",
       "    .dataframe tbody tr th:only-of-type {\n",
       "        vertical-align: middle;\n",
       "    }\n",
       "\n",
       "    .dataframe tbody tr th {\n",
       "        vertical-align: top;\n",
       "    }\n",
       "\n",
       "    .dataframe thead th {\n",
       "        text-align: right;\n",
       "    }\n",
       "</style>\n",
       "<table border=\"1\" class=\"dataframe\">\n",
       "  <thead>\n",
       "    <tr style=\"text-align: right;\">\n",
       "      <th></th>\n",
       "      <th>hard</th>\n",
       "      <th>least</th>\n",
       "      <th>quizzes</th>\n",
       "      <th>like</th>\n",
       "      <th>assignments</th>\n",
       "      <th>discussion</th>\n",
       "      <th>d3</th>\n",
       "      <th>project</th>\n",
       "      <th>class</th>\n",
       "      <th>time</th>\n",
       "      <th>...</th>\n",
       "      <th>seeing</th>\n",
       "      <th>interestingchallenging</th>\n",
       "      <th>interests</th>\n",
       "      <th>internships</th>\n",
       "      <th>seabron</th>\n",
       "      <th>seabornmatplotlibpandas</th>\n",
       "      <th>seaborne</th>\n",
       "      <th>interviewing</th>\n",
       "      <th>screens</th>\n",
       "      <th>assignmentslabs</th>\n",
       "    </tr>\n",
       "  </thead>\n",
       "  <tbody>\n",
       "    <tr>\n",
       "      <th>least</th>\n",
       "      <td>0.09019</td>\n",
       "      <td>0.088226</td>\n",
       "      <td>0.081475</td>\n",
       "      <td>0.073100</td>\n",
       "      <td>0.070019</td>\n",
       "      <td>0.070019</td>\n",
       "      <td>0.068212</td>\n",
       "      <td>0.067142</td>\n",
       "      <td>0.066598</td>\n",
       "      <td>0.065737</td>\n",
       "      <td>...</td>\n",
       "      <td>0.000000</td>\n",
       "      <td>0.000000</td>\n",
       "      <td>0.000000</td>\n",
       "      <td>0.000000</td>\n",
       "      <td>0.000000</td>\n",
       "      <td>0.000000</td>\n",
       "      <td>0.000000</td>\n",
       "      <td>0.000000</td>\n",
       "      <td>0.000000</td>\n",
       "      <td>0.000000</td>\n",
       "    </tr>\n",
       "    <tr>\n",
       "      <th>most</th>\n",
       "      <td>0.00000</td>\n",
       "      <td>0.000000</td>\n",
       "      <td>0.000000</td>\n",
       "      <td>0.077846</td>\n",
       "      <td>0.076131</td>\n",
       "      <td>0.060847</td>\n",
       "      <td>0.000000</td>\n",
       "      <td>0.073594</td>\n",
       "      <td>0.074196</td>\n",
       "      <td>0.057668</td>\n",
       "      <td>...</td>\n",
       "      <td>0.050457</td>\n",
       "      <td>0.021144</td>\n",
       "      <td>0.021144</td>\n",
       "      <td>0.021144</td>\n",
       "      <td>0.021144</td>\n",
       "      <td>0.021144</td>\n",
       "      <td>0.021144</td>\n",
       "      <td>0.021144</td>\n",
       "      <td>0.021144</td>\n",
       "      <td>0.021144</td>\n",
       "    </tr>\n",
       "  </tbody>\n",
       "</table>\n",
       "<p>2 rows × 1684 columns</p>\n",
       "</div>"
      ],
      "text/plain": [
       "          hard     least   quizzes      like  assignments  discussion  \\\n",
       "least  0.09019  0.088226  0.081475  0.073100     0.070019    0.070019   \n",
       "most   0.00000  0.000000  0.000000  0.077846     0.076131    0.060847   \n",
       "\n",
       "             d3   project     class      time  ...    seeing  \\\n",
       "least  0.068212  0.067142  0.066598  0.065737  ...  0.000000   \n",
       "most   0.000000  0.073594  0.074196  0.057668  ...  0.050457   \n",
       "\n",
       "       interestingchallenging  interests  internships   seabron  \\\n",
       "least                0.000000   0.000000     0.000000  0.000000   \n",
       "most                 0.021144   0.021144     0.021144  0.021144   \n",
       "\n",
       "       seabornmatplotlibpandas  seaborne  interviewing   screens  \\\n",
       "least                 0.000000  0.000000      0.000000  0.000000   \n",
       "most                  0.021144  0.021144      0.021144  0.021144   \n",
       "\n",
       "       assignmentslabs  \n",
       "least         0.000000  \n",
       "most          0.021144  \n",
       "\n",
       "[2 rows x 1684 columns]"
      ]
     },
     "execution_count": 73,
     "metadata": {},
     "output_type": "execute_result"
    }
   ],
   "source": [
    "cogs_tfidf.sort_values(by='least', axis=1, ascending=False)"
   ]
  },
  {
   "cell_type": "markdown",
   "metadata": {
    "slideshow": {
     "slide_type": "fragment"
    }
   },
   "source": [
    "**Sentiment Analysis** and **TF-IDF** are really helpful when analyzing documents and corpuses of text.\n",
    "\n",
    "But, what if, from the text itself we wanted to predict whether or not the text was likely a 'most' liked or a 'least' liked comment? We'll discuss how to do this in the coming **machine learning** lectures!"
   ]
  }
 ],
 "metadata": {
  "celltoolbar": "Slideshow",
  "kernelspec": {
   "display_name": "Python 3 (ipykernel)",
   "language": "python",
   "name": "python3"
  },
  "language_info": {
   "codemirror_mode": {
    "name": "ipython",
    "version": 3
   },
   "file_extension": ".py",
   "mimetype": "text/x-python",
   "name": "python",
   "nbconvert_exporter": "python",
   "pygments_lexer": "ipython3",
   "version": "3.9.13"
  },
  "rise": {
   "scroll": true
  }
 },
 "nbformat": 4,
 "nbformat_minor": 2
}
